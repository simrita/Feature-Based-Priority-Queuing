{
 "cells": [
  {
   "cell_type": "code",
   "execution_count": 1,
   "metadata": {},
   "outputs": [
    {
     "name": "stdout",
     "output_type": "stream",
     "text": [
      "3.7.10\n"
     ]
    }
   ],
   "source": [
    "from platform import python_version\n",
    "print(python_version())"
   ]
  },
  {
   "cell_type": "markdown",
   "metadata": {},
   "source": [
    "A: The usage of the data set is unrestricted. But you should provide the link to our original download site, acknowledge the NIH Clinical Center and provide a citation to our CVPR 2017 paper"
   ]
  },
  {
   "cell_type": "markdown",
   "metadata": {},
   "source": [
    "A: ‘No finding’ means the 14 listed disease patterns are not found in the image. "
   ]
  },
  {
   "cell_type": "markdown",
   "metadata": {},
   "source": [
    "https://www.kaggle.com/nih-chest-xrays/data\n",
    "\n",
    "Citations\n",
    "Wang X, Peng Y, Lu L, Lu Z, Bagheri M, Summers RM. ChestX-ray8: Hospital-scale Chest X-ray Database and Benchmarks on Weakly-Supervised Classification and Localization of Common Thorax Diseases. IEEE CVPR 2017, ChestX-ray8_Hospital-Scale_Chest_CVPR_2017_paper.pdf\n",
    "\n",
    "NIH News release: NIH Clinical Center provides one of the largest publicly available chest x-ray datasets to scientific community\n",
    "\n",
    "Original source files and documents: https://nihcc.app.box.com/v/ChestXray-NIHCC/folder/36938765345"
   ]
  },
  {
   "cell_type": "markdown",
   "metadata": {},
   "source": [
    "### Context Behind Dataset for Final Writeup:"
   ]
  },
  {
   "cell_type": "markdown",
   "metadata": {},
   "source": [
    "Dataset was gathered by the NIH and contains over 100,000 anonymized chest x-ray images from more than 30,000 patients.  "
   ]
  },
  {
   "cell_type": "markdown",
   "metadata": {
    "_cell_guid": "19ff9d0b-d32d-4325-a19f-2ccbfa7d2dff",
    "_uuid": "9206c5863724e1af01281071e0f0ee5109ef431b"
   },
   "source": [
    "# Goal\n",
    "The goal is to use a simple model to classify x-ray images in Keras"
   ]
  },
  {
   "cell_type": "code",
   "execution_count": 2,
   "metadata": {
    "_cell_guid": "f42f6560-edf0-4efb-85a6-6e945e50895b",
    "_uuid": "3300a1edbf2e8122d88093998eb503a6fab8a719"
   },
   "outputs": [
    {
     "name": "stderr",
     "output_type": "stream",
     "text": [
      "\n",
      "Bad key \"text.kerning_factor\" on line 4 in\n",
      "/home/ubuntu/anaconda3/lib/python3.7/site-packages/matplotlib/mpl-data/stylelib/_classic_test_patch.mplstyle.\n",
      "You probably need to get an updated matplotlibrc file from\n",
      "http://github.com/matplotlib/matplotlib/blob/master/matplotlibrc.template\n",
      "or from the matplotlib source distribution\n"
     ]
    }
   ],
   "source": [
    "import numpy as np # linear algebra\n",
    "import pandas as pd # data processing, CSV file I/O (e.g. pd.read_csv)\n",
    "import os\n",
    "from glob import glob\n",
    "%matplotlib inline\n",
    "import matplotlib.pyplot as plt"
   ]
  },
  {
   "cell_type": "code",
   "execution_count": 3,
   "metadata": {},
   "outputs": [],
   "source": [
    "import tensorflow"
   ]
  },
  {
   "cell_type": "code",
   "execution_count": 4,
   "metadata": {},
   "outputs": [
    {
     "data": {
      "text/plain": [
       "[('00018942_001.png', '../data/images_009/images/00018942_001.png'),\n",
       " ('00020323_001.png', '../data/images_009/images/00020323_001.png'),\n",
       " ('00018730_001.png', '../data/images_009/images/00018730_001.png'),\n",
       " ('00019551_000.png', '../data/images_009/images/00019551_000.png')]"
      ]
     },
     "execution_count": 4,
     "metadata": {},
     "output_type": "execute_result"
    }
   ],
   "source": [
    "all_xray_df = pd.read_csv('../data/Data_Entry_2017.csv')\n",
    "folderlist = glob(os.path.join('../data', 'images*'))\n",
    "imglist = []\n",
    "for folder in folderlist:\n",
    "    tmp = glob(os.path.join(folder, \"images\", \"*.png\"))\n",
    "    imglist += tmp\n",
    "all_image_paths = {os.path.basename(x): x for x in imglist}\n",
    "#{k:all_image_paths[k] for k in all_image_paths.keys()[:5]}\n",
    "list(all_image_paths.items())[:4]\n",
    "# all_image_paths = {os.path.basename(x): x for x in \n",
    "#                    glob(os.path.join('.', 'data', 'images*', '*.png'))}\n",
    "\n"
   ]
  },
  {
   "cell_type": "code",
   "execution_count": 5,
   "metadata": {},
   "outputs": [
    {
     "name": "stdout",
     "output_type": "stream",
     "text": [
      "Scans found: 112120 , Total Headers 112120\n",
      "[('00002587_005.png', '../data/images_002/images/00002587_005.png'), ('00002588_000.png', '../data/images_002/images/00002588_000.png'), ('00002589_000.png', '../data/images_002/images/00002589_000.png'), ('00002589_001.png', '../data/images_002/images/00002589_001.png')]\n"
     ]
    },
    {
     "data": {
      "text/html": [
       "<div>\n",
       "<style scoped>\n",
       "    .dataframe tbody tr th:only-of-type {\n",
       "        vertical-align: middle;\n",
       "    }\n",
       "\n",
       "    .dataframe tbody tr th {\n",
       "        vertical-align: top;\n",
       "    }\n",
       "\n",
       "    .dataframe thead th {\n",
       "        text-align: right;\n",
       "    }\n",
       "</style>\n",
       "<table border=\"1\" class=\"dataframe\">\n",
       "  <thead>\n",
       "    <tr style=\"text-align: right;\">\n",
       "      <th></th>\n",
       "      <th>Image Index</th>\n",
       "      <th>Finding Labels</th>\n",
       "      <th>Follow-up #</th>\n",
       "      <th>Patient ID</th>\n",
       "      <th>Patient Age</th>\n",
       "      <th>Patient Gender</th>\n",
       "      <th>View Position</th>\n",
       "      <th>OriginalImage[Width</th>\n",
       "      <th>Height]</th>\n",
       "      <th>OriginalImagePixelSpacing[x</th>\n",
       "      <th>y]</th>\n",
       "      <th>Unnamed: 11</th>\n",
       "      <th>path</th>\n",
       "    </tr>\n",
       "  </thead>\n",
       "  <tbody>\n",
       "    <tr>\n",
       "      <th>77596</th>\n",
       "      <td>00019078_000.png</td>\n",
       "      <td>Infiltration</td>\n",
       "      <td>0</td>\n",
       "      <td>19078</td>\n",
       "      <td>16</td>\n",
       "      <td>M</td>\n",
       "      <td>PA</td>\n",
       "      <td>2790</td>\n",
       "      <td>2991</td>\n",
       "      <td>0.143</td>\n",
       "      <td>0.143</td>\n",
       "      <td>NaN</td>\n",
       "      <td>../data/images_009/images/00019078_000.png</td>\n",
       "    </tr>\n",
       "    <tr>\n",
       "      <th>67143</th>\n",
       "      <td>00016587_045.png</td>\n",
       "      <td>No Finding</td>\n",
       "      <td>45</td>\n",
       "      <td>16587</td>\n",
       "      <td>46</td>\n",
       "      <td>F</td>\n",
       "      <td>AP</td>\n",
       "      <td>2500</td>\n",
       "      <td>2048</td>\n",
       "      <td>0.168</td>\n",
       "      <td>0.168</td>\n",
       "      <td>NaN</td>\n",
       "      <td>../data/images_008/images/00016587_045.png</td>\n",
       "    </tr>\n",
       "    <tr>\n",
       "      <th>65319</th>\n",
       "      <td>00016134_003.png</td>\n",
       "      <td>No Finding</td>\n",
       "      <td>3</td>\n",
       "      <td>16134</td>\n",
       "      <td>43</td>\n",
       "      <td>M</td>\n",
       "      <td>AP</td>\n",
       "      <td>2500</td>\n",
       "      <td>2048</td>\n",
       "      <td>0.168</td>\n",
       "      <td>0.168</td>\n",
       "      <td>NaN</td>\n",
       "      <td>../data/images_008/images/00016134_003.png</td>\n",
       "    </tr>\n",
       "  </tbody>\n",
       "</table>\n",
       "</div>"
      ],
      "text/plain": [
       "            Image Index Finding Labels  Follow-up #  Patient ID  Patient Age  \\\n",
       "77596  00019078_000.png   Infiltration            0       19078           16   \n",
       "67143  00016587_045.png     No Finding           45       16587           46   \n",
       "65319  00016134_003.png     No Finding            3       16134           43   \n",
       "\n",
       "      Patient Gender View Position  OriginalImage[Width  Height]  \\\n",
       "77596              M            PA                 2790     2991   \n",
       "67143              F            AP                 2500     2048   \n",
       "65319              M            AP                 2500     2048   \n",
       "\n",
       "       OriginalImagePixelSpacing[x     y]  Unnamed: 11  \\\n",
       "77596                        0.143  0.143          NaN   \n",
       "67143                        0.168  0.168          NaN   \n",
       "65319                        0.168  0.168          NaN   \n",
       "\n",
       "                                             path  \n",
       "77596  ../data/images_009/images/00019078_000.png  \n",
       "67143  ../data/images_008/images/00016587_045.png  \n",
       "65319  ../data/images_008/images/00016134_003.png  "
      ]
     },
     "execution_count": 5,
     "metadata": {},
     "output_type": "execute_result"
    }
   ],
   "source": [
    "print('Scans found:', len(all_image_paths), ', Total Headers', all_xray_df.shape[0])\n",
    "num_selected = 10000\n",
    "tmp = {key: all_image_paths[key] for key in sorted(list(all_image_paths.keys()))[num_selected:]}\n",
    "print(list(tmp.items())[:4])\n",
    "all_xray_df['path'] = all_xray_df['Image Index'][num_selected:].map(tmp.get)\n",
    "all_xray_df = all_xray_df[num_selected:]\n",
    "all_xray_df.sample(3)"
   ]
  },
  {
   "cell_type": "code",
   "execution_count": 6,
   "metadata": {
    "scrolled": true
   },
   "outputs": [
    {
     "data": {
      "text/plain": [
       "No Finding                                                                                        54652\n",
       "Infiltration                                                                                       8734\n",
       "Atelectasis                                                                                        3848\n",
       "Effusion                                                                                           3659\n",
       "Nodule                                                                                             2495\n",
       "Mass                                                                                               2015\n",
       "Pneumothorax                                                                                       1972\n",
       "Effusion|Infiltration                                                                              1511\n",
       "Atelectasis|Infiltration                                                                           1237\n",
       "Consolidation                                                                                      1199\n",
       "Atelectasis|Effusion                                                                               1091\n",
       "Pleural_Thickening                                                                                 1004\n",
       "Cardiomegaly                                                                                        981\n",
       "Emphysema                                                                                           795\n",
       "Infiltration|Nodule                                                                                 764\n",
       "Atelectasis|Effusion|Infiltration                                                                   696\n",
       "Edema                                                                                               590\n",
       "Fibrosis                                                                                            580\n",
       "Cardiomegaly|Effusion                                                                               431\n",
       "Infiltration|Mass                                                                                   390\n",
       "Effusion|Mass                                                                                       390\n",
       "Consolidation|Infiltration                                                                          389\n",
       "Effusion|Pneumothorax                                                                               384\n",
       "Mass|Nodule                                                                                         380\n",
       "Edema|Infiltration                                                                                  371\n",
       "Atelectasis|Consolidation                                                                           363\n",
       "Emphysema|Pneumothorax                                                                              313\n",
       "Infiltration|Pneumothorax                                                                           312\n",
       "Consolidation|Effusion                                                                              306\n",
       "Pneumonia                                                                                           283\n",
       "                                                                                                  ...  \n",
       "Edema|Effusion|Nodule|Mass                                                                            1\n",
       "Atelectasis|Cardiomegaly|Effusion|Fibrosis|Infiltration                                               1\n",
       "Cardiomegaly|Consolidation|Effusion|Infiltration|Mass|Pleural_Thickening                              1\n",
       "Consolidation|Emphysema|Mass|Pneumothorax                                                             1\n",
       "Cardiomegaly|Consolidation|Mass                                                                       1\n",
       "Effusion|Hernia|Mass                                                                                  1\n",
       "Consolidation|Infiltration|Nodule|Pneumothorax                                                        1\n",
       "Atelectasis|Consolidation|Effusion|Infiltration|Pleural_Thickening|Pneumothorax                       1\n",
       "Edema|Infiltration|Mass|Nodule|Pneumonia                                                              1\n",
       "Infiltration|Cardiomegaly                                                                             1\n",
       "Atelectasis|Consolidation|Effusion|Mass|Nodule|Pleural_Thickening                                     1\n",
       "Atelectasis|Consolidation|Edema|Effusion|Infiltration|Mass|Nodule|Pleural_Thickening|Pneumonia        1\n",
       "Edema|Infiltration|Pleural_Thickening                                                                 1\n",
       "Atelectasis|Cardiomegaly|Consolidation|Edema|Effusion|Infiltration|Mass|Nodule                        1\n",
       "Atelectasis|Consolidation|Emphysema|Mass|Pneumothorax                                                 1\n",
       "Atelectasis|Edema|Effusion|Pneumonia                                                                  1\n",
       "Atelectasis|Effusion|Emphysema|Infiltration|Pleural_Thickening                                        1\n",
       "Atelectasis|Consolidation|Mass|Nodule|Pleural_Thickening|Pneumothorax                                 1\n",
       "Effusion|Infiltration|Mass|Nodule|Pneumonia                                                           1\n",
       "Fibrosis|Hernia                                                                                       1\n",
       "Atelectasis|Consolidation|Emphysema|Mass|Nodule|Pleural_Thickening|Pneumothorax                       1\n",
       "Consolidation|Effusion|Infiltration|Pleural_Thickening|Pneumothorax                                   1\n",
       "Atelectasis|Cardiomegaly|Consolidation|Edema|Effusion|Mass                                            1\n",
       "Consolidation|Mass|Pneumonia|Pneumothorax                                                             1\n",
       "Atelectasis|Emphysema|Fibrosis|Infiltration|Nodule|Pneumothorax                                       1\n",
       "Emphysema|Pneumothorax|Pneumonia                                                                      1\n",
       "Effusion|Fibrosis|Pleural_Thickening|Pneumothorax                                                     1\n",
       "Edema|Fibrosis                                                                                        1\n",
       "Emphysema|Hernia                                                                                      1\n",
       "Emphysema|Fibrosis|Infiltration|Pneumothorax                                                          1\n",
       "Name: Finding Labels, Length: 807, dtype: int64"
      ]
     },
     "execution_count": 6,
     "metadata": {},
     "output_type": "execute_result"
    }
   ],
   "source": [
    "label_counts = all_xray_df['Finding Labels'].value_counts()\n",
    "label_counts"
   ]
  },
  {
   "cell_type": "markdown",
   "metadata": {
    "_cell_guid": "0d674a43-170f-4ca6-a9b4-edc64ab89c35",
    "_uuid": "9a1669750b7cffcae1b7a2eb4307b85472dff192"
   },
   "source": [
    "# Preprocessing Labels\n",
    "Here we take the labels and make them into a more clear format. The primary step is to see the distribution of findings and then to convert them to simple binary labels"
   ]
  },
  {
   "cell_type": "code",
   "execution_count": 7,
   "metadata": {
    "_cell_guid": "d75ed03e-986d-4f3f-81af-c910d194f390",
    "_uuid": "0c5123f65edf349f8ad2e5c5f55ac484d974f5c7"
   },
   "outputs": [
    {
     "data": {
      "image/png": "[encoded data removed]",
      "text/plain": [
       "<Figure size 864x576 with 1 Axes>"
      ]
     },
     "metadata": {
      "needs_background": "light"
     },
     "output_type": "display_data"
    }
   ],
   "source": [
    "label_counts = all_xray_df['Finding Labels'].value_counts()[:15]\n",
    "fig, ax1 = plt.subplots(1,1,figsize = (12, 8))\n",
    "ax1.bar(np.arange(len(label_counts))+0.5, label_counts)\n",
    "ax1.set_xticks(np.arange(len(label_counts))+0.5)\n",
    "_ = ax1.set_xticklabels(label_counts.index, rotation = 90)"
   ]
  },
  {
   "cell_type": "code",
   "execution_count": 8,
   "metadata": {
    "_cell_guid": "a9ff3a04-254d-4667-b0a3-869bbd92b08b",
    "_uuid": "78b4425b0a8932bb33864b5a3712611004687a48"
   },
   "outputs": [
    {
     "name": "stdout",
     "output_type": "stream",
     "text": [
      "All Labels (15): ['Atelectasis', 'Cardiomegaly', 'Consolidation', 'Edema', 'Effusion', 'Emphysema', 'Fibrosis', 'Hernia', 'Infiltration', 'Mass', 'No Finding', 'Nodule', 'Pleural_Thickening', 'Pneumonia', 'Pneumothorax']\n"
     ]
    },
    {
     "data": {
      "text/html": [
       "<div>\n",
       "<style scoped>\n",
       "    .dataframe tbody tr th:only-of-type {\n",
       "        vertical-align: middle;\n",
       "    }\n",
       "\n",
       "    .dataframe tbody tr th {\n",
       "        vertical-align: top;\n",
       "    }\n",
       "\n",
       "    .dataframe thead th {\n",
       "        text-align: right;\n",
       "    }\n",
       "</style>\n",
       "<table border=\"1\" class=\"dataframe\">\n",
       "  <thead>\n",
       "    <tr style=\"text-align: right;\">\n",
       "      <th></th>\n",
       "      <th>Image Index</th>\n",
       "      <th>Finding Labels</th>\n",
       "      <th>Follow-up #</th>\n",
       "      <th>Patient ID</th>\n",
       "      <th>Patient Age</th>\n",
       "      <th>Patient Gender</th>\n",
       "      <th>View Position</th>\n",
       "      <th>OriginalImage[Width</th>\n",
       "      <th>Height]</th>\n",
       "      <th>OriginalImagePixelSpacing[x</th>\n",
       "      <th>...</th>\n",
       "      <th>Emphysema</th>\n",
       "      <th>Fibrosis</th>\n",
       "      <th>Hernia</th>\n",
       "      <th>Infiltration</th>\n",
       "      <th>Mass</th>\n",
       "      <th>No Finding</th>\n",
       "      <th>Nodule</th>\n",
       "      <th>Pleural_Thickening</th>\n",
       "      <th>Pneumonia</th>\n",
       "      <th>Pneumothorax</th>\n",
       "    </tr>\n",
       "  </thead>\n",
       "  <tbody>\n",
       "    <tr>\n",
       "      <th>15235</th>\n",
       "      <td>00003996_006.png</td>\n",
       "      <td>No Finding</td>\n",
       "      <td>6</td>\n",
       "      <td>3996</td>\n",
       "      <td>44</td>\n",
       "      <td>M</td>\n",
       "      <td>PA</td>\n",
       "      <td>2894</td>\n",
       "      <td>2991</td>\n",
       "      <td>0.143</td>\n",
       "      <td>...</td>\n",
       "      <td>0.0</td>\n",
       "      <td>0.0</td>\n",
       "      <td>0.0</td>\n",
       "      <td>0.0</td>\n",
       "      <td>0.0</td>\n",
       "      <td>1.0</td>\n",
       "      <td>0.0</td>\n",
       "      <td>0.0</td>\n",
       "      <td>0.0</td>\n",
       "      <td>0.0</td>\n",
       "    </tr>\n",
       "    <tr>\n",
       "      <th>77877</th>\n",
       "      <td>00019124_110.png</td>\n",
       "      <td>Pneumothorax</td>\n",
       "      <td>110</td>\n",
       "      <td>19124</td>\n",
       "      <td>51</td>\n",
       "      <td>F</td>\n",
       "      <td>PA</td>\n",
       "      <td>2992</td>\n",
       "      <td>2991</td>\n",
       "      <td>0.143</td>\n",
       "      <td>...</td>\n",
       "      <td>0.0</td>\n",
       "      <td>0.0</td>\n",
       "      <td>0.0</td>\n",
       "      <td>0.0</td>\n",
       "      <td>0.0</td>\n",
       "      <td>0.0</td>\n",
       "      <td>0.0</td>\n",
       "      <td>0.0</td>\n",
       "      <td>0.0</td>\n",
       "      <td>1.0</td>\n",
       "    </tr>\n",
       "    <tr>\n",
       "      <th>30588</th>\n",
       "      <td>00007998_000.png</td>\n",
       "      <td>Mass</td>\n",
       "      <td>0</td>\n",
       "      <td>7998</td>\n",
       "      <td>29</td>\n",
       "      <td>M</td>\n",
       "      <td>PA</td>\n",
       "      <td>2500</td>\n",
       "      <td>2048</td>\n",
       "      <td>0.168</td>\n",
       "      <td>...</td>\n",
       "      <td>0.0</td>\n",
       "      <td>0.0</td>\n",
       "      <td>0.0</td>\n",
       "      <td>0.0</td>\n",
       "      <td>1.0</td>\n",
       "      <td>0.0</td>\n",
       "      <td>0.0</td>\n",
       "      <td>0.0</td>\n",
       "      <td>0.0</td>\n",
       "      <td>0.0</td>\n",
       "    </tr>\n",
       "  </tbody>\n",
       "</table>\n",
       "<p>3 rows × 28 columns</p>\n",
       "</div>"
      ],
      "text/plain": [
       "            Image Index Finding Labels  Follow-up #  Patient ID  Patient Age  \\\n",
       "15235  00003996_006.png     No Finding            6        3996           44   \n",
       "77877  00019124_110.png   Pneumothorax          110       19124           51   \n",
       "30588  00007998_000.png           Mass            0        7998           29   \n",
       "\n",
       "      Patient Gender View Position  OriginalImage[Width  Height]  \\\n",
       "15235              M            PA                 2894     2991   \n",
       "77877              F            PA                 2992     2991   \n",
       "30588              M            PA                 2500     2048   \n",
       "\n",
       "       OriginalImagePixelSpacing[x  ...  Emphysema  Fibrosis Hernia  \\\n",
       "15235                        0.143  ...        0.0       0.0    0.0   \n",
       "77877                        0.143  ...        0.0       0.0    0.0   \n",
       "30588                        0.168  ...        0.0       0.0    0.0   \n",
       "\n",
       "       Infiltration  Mass  No Finding  Nodule  Pleural_Thickening  Pneumonia  \\\n",
       "15235           0.0   0.0         1.0     0.0                 0.0        0.0   \n",
       "77877           0.0   0.0         0.0     0.0                 0.0        0.0   \n",
       "30588           0.0   1.0         0.0     0.0                 0.0        0.0   \n",
       "\n",
       "       Pneumothorax  \n",
       "15235           0.0  \n",
       "77877           1.0  \n",
       "30588           0.0  \n",
       "\n",
       "[3 rows x 28 columns]"
      ]
     },
     "execution_count": 8,
     "metadata": {},
     "output_type": "execute_result"
    }
   ],
   "source": [
    "#all_xray_df['Finding Labels'] = all_xray_df['Finding Labels'].map(lambda x: x.replace('No Finding', ''))\n",
    "from itertools import chain\n",
    "all_labels = np.unique(list(chain(*all_xray_df['Finding Labels'].map(lambda x: x.split('|')).tolist())))\n",
    "all_labels = [x for x in all_labels if len(x)>0]\n",
    "print('All Labels ({}): {}'.format(len(all_labels), all_labels))\n",
    "for c_label in all_labels:\n",
    "    if len(c_label)>1: # leave out empty labels\n",
    "        all_xray_df[c_label] = all_xray_df['Finding Labels'].map(lambda finding: 1.0 if c_label in finding else 0)\n",
    "all_xray_df.sample(3)"
   ]
  },
  {
   "cell_type": "code",
   "execution_count": 9,
   "metadata": {},
   "outputs": [
    {
     "data": {
      "text/plain": [
       "['Atelectasis',\n",
       " 'Cardiomegaly',\n",
       " 'Consolidation',\n",
       " 'Edema',\n",
       " 'Effusion',\n",
       " 'Emphysema',\n",
       " 'Fibrosis',\n",
       " 'Hernia',\n",
       " 'Infiltration',\n",
       " 'Mass',\n",
       " 'No Finding',\n",
       " 'Nodule',\n",
       " 'Pleural_Thickening',\n",
       " 'Pneumonia',\n",
       " 'Pneumothorax']"
      ]
     },
     "execution_count": 9,
     "metadata": {},
     "output_type": "execute_result"
    }
   ],
   "source": [
    "all_labels"
   ]
  },
  {
   "cell_type": "markdown",
   "metadata": {
    "_cell_guid": "05b6c7d9-4869-40b5-a70b-53957c69f021",
    "_uuid": "64653f9f57d3a5b952f1f1a709eb70ca38761a0d"
   },
   "source": [
    "### Clean categories\n",
    "Since we have too many categories, we can prune a few out by taking the ones with only a few examples"
   ]
  },
  {
   "cell_type": "code",
   "execution_count": 10,
   "metadata": {
    "_cell_guid": "dd273e26-63ab-4d76-925d-9c1c2c1ba69c",
    "_uuid": "9f368f9ea8947d8fc1dacf3988c58b6a2bf5fffc"
   },
   "outputs": [
    {
     "name": "stdout",
     "output_type": "stream",
     "text": [
      "Clean Labels (14) [('Atelectasis', 10670), ('Cardiomegaly', 2476), ('Consolidation', 4271), ('Edema', 2150), ('Effusion', 12410), ('Emphysema', 2295), ('Fibrosis', 1407), ('Infiltration', 18291), ('Mass', 5454), ('No Finding', 54652), ('Nodule', 5887), ('Pleural_Thickening', 3060), ('Pneumonia', 1296), ('Pneumothorax', 4862)]\n"
     ]
    }
   ],
   "source": [
    "# keep at least 1000 cases\n",
    "MIN_CASES = 1000\n",
    "all_labels = [c_label for c_label in all_labels if all_xray_df[c_label].sum()>MIN_CASES]\n",
    "print('Clean Labels ({})'.format(len(all_labels)), \n",
    "      [(c_label,int(all_xray_df[c_label].sum())) for c_label in all_labels])"
   ]
  },
  {
   "cell_type": "code",
   "execution_count": 11,
   "metadata": {},
   "outputs": [
    {
     "data": {
      "text/html": [
       "<div>\n",
       "<style scoped>\n",
       "    .dataframe tbody tr th:only-of-type {\n",
       "        vertical-align: middle;\n",
       "    }\n",
       "\n",
       "    .dataframe tbody tr th {\n",
       "        vertical-align: top;\n",
       "    }\n",
       "\n",
       "    .dataframe thead th {\n",
       "        text-align: right;\n",
       "    }\n",
       "</style>\n",
       "<table border=\"1\" class=\"dataframe\">\n",
       "  <thead>\n",
       "    <tr style=\"text-align: right;\">\n",
       "      <th></th>\n",
       "      <th>Image Index</th>\n",
       "      <th>Finding Labels</th>\n",
       "      <th>Follow-up #</th>\n",
       "      <th>Patient ID</th>\n",
       "      <th>Patient Age</th>\n",
       "      <th>Patient Gender</th>\n",
       "      <th>View Position</th>\n",
       "      <th>OriginalImage[Width</th>\n",
       "      <th>Height]</th>\n",
       "      <th>OriginalImagePixelSpacing[x</th>\n",
       "      <th>...</th>\n",
       "      <th>Emphysema</th>\n",
       "      <th>Fibrosis</th>\n",
       "      <th>Hernia</th>\n",
       "      <th>Infiltration</th>\n",
       "      <th>Mass</th>\n",
       "      <th>No Finding</th>\n",
       "      <th>Nodule</th>\n",
       "      <th>Pleural_Thickening</th>\n",
       "      <th>Pneumonia</th>\n",
       "      <th>Pneumothorax</th>\n",
       "    </tr>\n",
       "  </thead>\n",
       "  <tbody>\n",
       "    <tr>\n",
       "      <th>68599</th>\n",
       "      <td>00016937_001.png</td>\n",
       "      <td>Nodule|Pneumothorax</td>\n",
       "      <td>1</td>\n",
       "      <td>16937</td>\n",
       "      <td>54</td>\n",
       "      <td>F</td>\n",
       "      <td>PA</td>\n",
       "      <td>2546</td>\n",
       "      <td>2991</td>\n",
       "      <td>0.143</td>\n",
       "      <td>...</td>\n",
       "      <td>0.0</td>\n",
       "      <td>0.0</td>\n",
       "      <td>0.0</td>\n",
       "      <td>0.0</td>\n",
       "      <td>0.0</td>\n",
       "      <td>0.0</td>\n",
       "      <td>1.0</td>\n",
       "      <td>0.0</td>\n",
       "      <td>0.0</td>\n",
       "      <td>1.0</td>\n",
       "    </tr>\n",
       "    <tr>\n",
       "      <th>50096</th>\n",
       "      <td>00012678_000.png</td>\n",
       "      <td>No Finding</td>\n",
       "      <td>0</td>\n",
       "      <td>12678</td>\n",
       "      <td>52</td>\n",
       "      <td>M</td>\n",
       "      <td>PA</td>\n",
       "      <td>2802</td>\n",
       "      <td>2991</td>\n",
       "      <td>0.143</td>\n",
       "      <td>...</td>\n",
       "      <td>0.0</td>\n",
       "      <td>0.0</td>\n",
       "      <td>0.0</td>\n",
       "      <td>0.0</td>\n",
       "      <td>0.0</td>\n",
       "      <td>1.0</td>\n",
       "      <td>0.0</td>\n",
       "      <td>0.0</td>\n",
       "      <td>0.0</td>\n",
       "      <td>0.0</td>\n",
       "    </tr>\n",
       "    <tr>\n",
       "      <th>68266</th>\n",
       "      <td>00016841_006.png</td>\n",
       "      <td>No Finding</td>\n",
       "      <td>6</td>\n",
       "      <td>16841</td>\n",
       "      <td>52</td>\n",
       "      <td>M</td>\n",
       "      <td>PA</td>\n",
       "      <td>2500</td>\n",
       "      <td>2048</td>\n",
       "      <td>0.168</td>\n",
       "      <td>...</td>\n",
       "      <td>0.0</td>\n",
       "      <td>0.0</td>\n",
       "      <td>0.0</td>\n",
       "      <td>0.0</td>\n",
       "      <td>0.0</td>\n",
       "      <td>1.0</td>\n",
       "      <td>0.0</td>\n",
       "      <td>0.0</td>\n",
       "      <td>0.0</td>\n",
       "      <td>0.0</td>\n",
       "    </tr>\n",
       "  </tbody>\n",
       "</table>\n",
       "<p>3 rows × 28 columns</p>\n",
       "</div>"
      ],
      "text/plain": [
       "            Image Index       Finding Labels  Follow-up #  Patient ID  \\\n",
       "68599  00016937_001.png  Nodule|Pneumothorax            1       16937   \n",
       "50096  00012678_000.png           No Finding            0       12678   \n",
       "68266  00016841_006.png           No Finding            6       16841   \n",
       "\n",
       "       Patient Age Patient Gender View Position  OriginalImage[Width  Height]  \\\n",
       "68599           54              F            PA                 2546     2991   \n",
       "50096           52              M            PA                 2802     2991   \n",
       "68266           52              M            PA                 2500     2048   \n",
       "\n",
       "       OriginalImagePixelSpacing[x  ...  Emphysema  Fibrosis Hernia  \\\n",
       "68599                        0.143  ...        0.0       0.0    0.0   \n",
       "50096                        0.143  ...        0.0       0.0    0.0   \n",
       "68266                        0.168  ...        0.0       0.0    0.0   \n",
       "\n",
       "       Infiltration  Mass  No Finding  Nodule  Pleural_Thickening  Pneumonia  \\\n",
       "68599           0.0   0.0         0.0     1.0                 0.0        0.0   \n",
       "50096           0.0   0.0         1.0     0.0                 0.0        0.0   \n",
       "68266           0.0   0.0         1.0     0.0                 0.0        0.0   \n",
       "\n",
       "       Pneumothorax  \n",
       "68599           1.0  \n",
       "50096           0.0  \n",
       "68266           0.0  \n",
       "\n",
       "[3 rows x 28 columns]"
      ]
     },
     "execution_count": 11,
     "metadata": {},
     "output_type": "execute_result"
    }
   ],
   "source": [
    "all_xray_df.sample(3)"
   ]
  },
  {
   "cell_type": "code",
   "execution_count": 12,
   "metadata": {},
   "outputs": [
    {
     "name": "stdout",
     "output_type": "stream",
     "text": [
      "Atelectasis: 0.104485\n",
      "Cardiomegaly: 0.024246\n",
      "Consolidation: 0.041823\n",
      "Edema: 0.021054\n",
      "Effusion: 0.121524\n",
      "Emphysema: 0.022474\n",
      "Fibrosis: 0.013778\n",
      "Infiltration: 0.179113\n",
      "Mass: 0.053408\n",
      "No Finding: 0.535174\n",
      "Nodule: 0.057648\n",
      "Pleural_Thickening: 0.029965\n",
      "Pneumonia: 0.012691\n",
      "Pneumothorax: 0.047611\n",
      "[0.08259729 0.01916691 0.03306214 0.01664331 0.09606676 0.01776577\n",
      " 0.01089169 0.14159203 0.04221983 0.42306531 0.04557172 0.02368769\n",
      " 0.01003244 0.03763711]\n"
     ]
    }
   ],
   "source": [
    "for c_label, s_count in zip(all_labels, np.mean(all_xray_df[all_labels].values,0)):\n",
    "    print('%s: %f' % (c_label, s_count))\n",
    "arrivals=np.array(np.mean(all_xray_df[all_labels].values,0))\n",
    "arrivals=arrivals/arrivals.sum(axis=0,keepdims=True)\n",
    "print(arrivals)"
   ]
  },
  {
   "cell_type": "code",
   "execution_count": 13,
   "metadata": {},
   "outputs": [
    {
     "name": "stdout",
     "output_type": "stream",
     "text": [
      "Atelectasis           10670.0\n",
      "Cardiomegaly           2476.0\n",
      "Consolidation          4271.0\n",
      "Edema                  2150.0\n",
      "Effusion              12410.0\n",
      "Emphysema              2295.0\n",
      "Fibrosis               1407.0\n",
      "Infiltration          18291.0\n",
      "Mass                   5454.0\n",
      "No Finding            54652.0\n",
      "Nodule                 5887.0\n",
      "Pleural_Thickening     3060.0\n",
      "Pneumonia              1296.0\n",
      "Pneumothorax           4862.0\n",
      "dtype: float64\n"
     ]
    }
   ],
   "source": [
    "print(all_xray_df[all_labels].sum())"
   ]
  },
  {
   "cell_type": "markdown",
   "metadata": {},
   "source": [
    "# Label the type of each image and create a training data-set that is balanced across all image types\n"
   ]
  },
  {
   "cell_type": "code",
   "execution_count": 14,
   "metadata": {},
   "outputs": [],
   "source": [
    "def image_type(X):\n",
    "    if any(item =='Pneumothorax' for item in X):\n",
    "        return 1\n",
    "    elif any(item =='Emphysema' for item in X):\n",
    "        return 2\n",
    "    elif any(item =='Pneumonia' for item in X):\n",
    "        return 3\n",
    "    elif any(item =='Edema' for item in X):\n",
    "        return 4\n",
    "    elif any(item =='Consolidation' for item in X):\n",
    "        return 5\n",
    "    elif any(item =='Effusion' for item in X):\n",
    "        return 6\n",
    "    elif any(item =='Infiltration' for item in X):\n",
    "        return 7\n",
    "    elif any(item =='Atelectasis' for item in X):\n",
    "        return 8\n",
    "    elif any(item =='Cardiomegaly' for item in X):\n",
    "        return 9\n",
    "    elif any(item =='Pleural_Thickening' for item in X):\n",
    "        return 10\n",
    "    elif any(item =='Fibrosis' for item in X):\n",
    "        return 11\n",
    "    elif any(item =='Mass' for item in X):\n",
    "        return 12\n",
    "    elif any(item =='Nodule' for item in X):\n",
    "        return 13\n",
    "    else:\n",
    "        return 14\n",
    "def rank_disease(item):\n",
    "    if item =='Pneumothorax':\n",
    "        return 1\n",
    "    elif item =='Emphysema':\n",
    "        return 2\n",
    "    elif item =='Pneumonia':\n",
    "        return 3\n",
    "    elif item =='Edema':\n",
    "        return 4\n",
    "    elif item =='Consolidation':\n",
    "        return 5\n",
    "    elif item =='Effusion':\n",
    "        return 6\n",
    "    elif item =='Infiltration':\n",
    "        return 7\n",
    "    elif item =='Atelectasis':\n",
    "        return 8\n",
    "    elif item =='Cardiomegaly':\n",
    "        return 9\n",
    "    elif item =='Pleural_Thickening':\n",
    "        return 10\n",
    "    elif item =='Fibrosis':\n",
    "        return 11\n",
    "    elif item =='Mass':\n",
    "        return 12\n",
    "    elif item =='Nodule':\n",
    "        return 13\n",
    "    else:\n",
    "        return 14"
   ]
  },
  {
   "cell_type": "markdown",
   "metadata": {
    "_cell_guid": "a1367d63-4c7b-4e47-b19f-9a26d1f89476",
    "_uuid": "6ed6489bbd618fb419ceca2bbd8c300694f1d4ed",
    "scrolled": true
   },
   "source": [
    "# Prepare Training Data\n",
    "Here we split the data into training and validation sets and create a single vector (disease_vec) with the 0/1 outputs for the disease status (what the model will try and predict)"
   ]
  },
  {
   "cell_type": "code",
   "execution_count": 15,
   "metadata": {},
   "outputs": [],
   "source": [
    "all_xray_df['disease_vec'] = all_xray_df.apply(lambda x: [x[all_labels].values], 1).map(lambda x: x[0])\n",
    "from itertools import chain\n",
    "all_xray_df['Type']=all_xray_df['Finding Labels'].map(lambda x: image_type(x.split('|')))"
   ]
  },
  {
   "cell_type": "code",
   "execution_count": 16,
   "metadata": {},
   "outputs": [
    {
     "name": "stdout",
     "output_type": "stream",
     "text": [
      "        Type                          Finding Labels\n",
      "28180      3                  Infiltration|Pneumonia\n",
      "33444      6                                Effusion\n",
      "107693     2            Consolidation|Emphysema|Mass\n",
      "83448      5  Atelectasis|Consolidation|Infiltration\n",
      "58773      2      Atelectasis|Emphysema|Infiltration\n",
      "50967     14                              No Finding\n",
      "40149     14                              No Finding\n",
      "105490     6                   Cardiomegaly|Effusion\n",
      "69022      5             Consolidation|Effusion|Mass\n",
      "35588     14                              No Finding\n"
     ]
    }
   ],
   "source": [
    "print(all_xray_df[['Type','Finding Labels']].sample(10))\n"
   ]
  },
  {
   "cell_type": "code",
   "execution_count": 17,
   "metadata": {},
   "outputs": [
    {
     "name": "stdout",
     "output_type": "stream",
     "text": [
      "14    54740\n",
      "7     12078\n",
      "6      9474\n",
      "1      4862\n",
      "8      4577\n",
      "5      3758\n",
      "13     2501\n",
      "12     2410\n",
      "4      1793\n",
      "2      1602\n",
      "10     1360\n",
      "3      1243\n",
      "9      1043\n",
      "11      679\n",
      "Name: Type, dtype: int64\n"
     ]
    }
   ],
   "source": [
    "print(all_xray_df['Type'].value_counts())"
   ]
  },
  {
   "cell_type": "code",
   "execution_count": 18,
   "metadata": {},
   "outputs": [
    {
     "name": "stdout",
     "output_type": "stream",
     "text": [
      "Atelectasis           10670.0\n",
      "Cardiomegaly           2476.0\n",
      "Consolidation          4271.0\n",
      "Edema                  2150.0\n",
      "Effusion              12410.0\n",
      "Emphysema              2295.0\n",
      "Fibrosis               1407.0\n",
      "Infiltration          18291.0\n",
      "Mass                   5454.0\n",
      "No Finding            54652.0\n",
      "Nodule                 5887.0\n",
      "Pleural_Thickening     3060.0\n",
      "Pneumonia              1296.0\n",
      "Pneumothorax           4862.0\n",
      "dtype: float64\n"
     ]
    }
   ],
   "source": [
    "print(all_xray_df[all_labels].sum())"
   ]
  },
  {
   "cell_type": "code",
   "execution_count": 19,
   "metadata": {
    "_cell_guid": "5feddc96-7958-4d34-81f1-10eba94ab1b6",
    "_uuid": "8c7dc722de08243cc763d23928708f9c040bbdc6"
   },
   "outputs": [],
   "source": [
    "from sklearn.model_selection import train_test_split\n",
    "train_df, valid_test_df = train_test_split(all_xray_df, \n",
    "                                   test_size = 0.5, \n",
    "                                   random_state = 2018,\n",
    "                                   stratify = all_xray_df['Type'])"
   ]
  },
  {
   "cell_type": "code",
   "execution_count": 20,
   "metadata": {},
   "outputs": [],
   "source": [
    "valid_df, test_df = train_test_split(valid_test_df, \n",
    "                                   test_size = 0.5, \n",
    "                                   random_state = 2018,\n",
    "                                   stratify = valid_test_df['Type'])"
   ]
  },
  {
   "cell_type": "code",
   "execution_count": 21,
   "metadata": {},
   "outputs": [
    {
     "name": "stdout",
     "output_type": "stream",
     "text": [
      "train (51060, 30) validation (25530, 30) test (25530, 30)\n"
     ]
    }
   ],
   "source": [
    "print('train', train_df.shape, 'validation', valid_df.shape,'test', test_df.shape)"
   ]
  },
  {
   "cell_type": "code",
   "execution_count": 22,
   "metadata": {},
   "outputs": [
    {
     "name": "stdout",
     "output_type": "stream",
     "text": [
      "            Image Index Finding Labels  Follow-up #  Patient ID  Patient Age  \\\n",
      "11118  00002879_000.png     No Finding            0        2879           59   \n",
      "91671  00022859_000.png     No Finding            0       22859           45   \n",
      "78754  00019327_000.png    Atelectasis            0       19327           48   \n",
      "\n",
      "      Patient Gender View Position  OriginalImage[Width  Height]  \\\n",
      "11118              M            PA                 2802     2991   \n",
      "91671              M            PA                 2992     2991   \n",
      "78754              M            PA                 2730     2991   \n",
      "\n",
      "       OriginalImagePixelSpacing[x  ...  Mass  No Finding Nodule  \\\n",
      "11118                        0.143  ...   0.0         1.0    0.0   \n",
      "91671                        0.143  ...   0.0         1.0    0.0   \n",
      "78754                        0.143  ...   0.0         0.0    0.0   \n",
      "\n",
      "       Pleural_Thickening  Pneumonia  Pneumothorax  \\\n",
      "11118                 0.0        0.0           0.0   \n",
      "91671                 0.0        0.0           0.0   \n",
      "78754                 0.0        0.0           0.0   \n",
      "\n",
      "                                             disease_vec  Type       newLabel  \\\n",
      "11118  [0.0, 0.0, 0.0, 0.0, 0.0, 0.0, 0.0, 0.0, 0.0, ...    14   [No Finding]   \n",
      "91671  [0.0, 0.0, 0.0, 0.0, 0.0, 0.0, 0.0, 0.0, 0.0, ...    14   [No Finding]   \n",
      "78754  [1.0, 0.0, 0.0, 0.0, 0.0, 0.0, 0.0, 0.0, 0.0, ...     8  [Atelectasis]   \n",
      "\n",
      "       newLabelT  \n",
      "11118         14  \n",
      "91671         14  \n",
      "78754          8  \n",
      "\n",
      "[3 rows x 32 columns]\n"
     ]
    },
    {
     "name": "stderr",
     "output_type": "stream",
     "text": [
      "/home/ubuntu/anaconda3/lib/python3.7/site-packages/ipykernel_launcher.py:1: SettingWithCopyWarning: \n",
      "A value is trying to be set on a copy of a slice from a DataFrame.\n",
      "Try using .loc[row_indexer,col_indexer] = value instead\n",
      "\n",
      "See the caveats in the documentation: http://pandas.pydata.org/pandas-docs/stable/indexing.html#indexing-view-versus-copy\n",
      "  \"\"\"Entry point for launching an IPython kernel.\n",
      "/home/ubuntu/anaconda3/lib/python3.7/site-packages/ipykernel_launcher.py:2: SettingWithCopyWarning: \n",
      "A value is trying to be set on a copy of a slice from a DataFrame.\n",
      "Try using .loc[row_indexer,col_indexer] = value instead\n",
      "\n",
      "See the caveats in the documentation: http://pandas.pydata.org/pandas-docs/stable/indexing.html#indexing-view-versus-copy\n",
      "  \n"
     ]
    }
   ],
   "source": [
    "train_df['newLabel'] = train_df.apply(lambda x: x['Finding Labels'].split('|'), axis=1)\n",
    "train_df['newLabelT'] = train_df['Type']\n",
    "print(train_df.sample(3))"
   ]
  },
  {
   "cell_type": "code",
   "execution_count": 23,
   "metadata": {},
   "outputs": [
    {
     "name": "stdout",
     "output_type": "stream",
     "text": [
      "            Image Index Finding Labels  Follow-up #  Patient ID  Patient Age  \\\n",
      "81707  00020095_001.png         Nodule            1       20095           62   \n",
      "80293  00019731_000.png         Nodule            0       19731           75   \n",
      "20912  00005579_006.png   Infiltration            6        5579           56   \n",
      "\n",
      "      Patient Gender View Position  OriginalImage[Width  Height]  \\\n",
      "81707              M            AP                 3056     2544   \n",
      "80293              F            PA                 2992     2991   \n",
      "20912              F            AP                 2500     2048   \n",
      "\n",
      "       OriginalImagePixelSpacing[x  ...  Mass  No Finding Nodule  \\\n",
      "81707                        0.139  ...   0.0         0.0    1.0   \n",
      "80293                        0.143  ...   0.0         0.0    1.0   \n",
      "20912                        0.168  ...   0.0         0.0    0.0   \n",
      "\n",
      "       Pleural_Thickening  Pneumonia  Pneumothorax  \\\n",
      "81707                 0.0        0.0           0.0   \n",
      "80293                 0.0        0.0           0.0   \n",
      "20912                 0.0        0.0           0.0   \n",
      "\n",
      "                                             disease_vec  Type  \\\n",
      "81707  [0.0, 0.0, 0.0, 0.0, 0.0, 0.0, 0.0, 0.0, 0.0, ...    13   \n",
      "80293  [0.0, 0.0, 0.0, 0.0, 0.0, 0.0, 0.0, 0.0, 0.0, ...    13   \n",
      "20912  [0.0, 0.0, 0.0, 0.0, 0.0, 0.0, 0.0, 1.0, 0.0, ...     7   \n",
      "\n",
      "             newLabel  newLabelT  \n",
      "81707        [Nodule]         13  \n",
      "80293        [Nodule]         13  \n",
      "20912  [Infiltration]          7  \n",
      "\n",
      "[3 rows x 32 columns]\n"
     ]
    },
    {
     "name": "stderr",
     "output_type": "stream",
     "text": [
      "/home/ubuntu/anaconda3/lib/python3.7/site-packages/ipykernel_launcher.py:1: SettingWithCopyWarning: \n",
      "A value is trying to be set on a copy of a slice from a DataFrame.\n",
      "Try using .loc[row_indexer,col_indexer] = value instead\n",
      "\n",
      "See the caveats in the documentation: http://pandas.pydata.org/pandas-docs/stable/indexing.html#indexing-view-versus-copy\n",
      "  \"\"\"Entry point for launching an IPython kernel.\n",
      "/home/ubuntu/anaconda3/lib/python3.7/site-packages/ipykernel_launcher.py:2: SettingWithCopyWarning: \n",
      "A value is trying to be set on a copy of a slice from a DataFrame.\n",
      "Try using .loc[row_indexer,col_indexer] = value instead\n",
      "\n",
      "See the caveats in the documentation: http://pandas.pydata.org/pandas-docs/stable/indexing.html#indexing-view-versus-copy\n",
      "  \n"
     ]
    }
   ],
   "source": [
    "valid_df['newLabel'] = valid_df.apply(lambda x: x['Finding Labels'].split('|'), axis=1)\n",
    "valid_df['newLabelT'] = valid_df['Type']\n",
    "print(valid_df.sample(3))"
   ]
  },
  {
   "cell_type": "code",
   "execution_count": 24,
   "metadata": {},
   "outputs": [
    {
     "name": "stdout",
     "output_type": "stream",
     "text": [
      "            Image Index Finding Labels  Follow-up #  Patient ID  Patient Age  \\\n",
      "53055  00013383_000.png  Effusion|Mass            0       13383           41   \n",
      "17326  00004651_003.png     No Finding            3        4651           22   \n",
      "31281  00008158_000.png         Nodule            0        8158           53   \n",
      "\n",
      "      Patient Gender View Position  OriginalImage[Width  Height]  \\\n",
      "53055              F            PA                 2742     2885   \n",
      "17326              M            PA                 2048     2500   \n",
      "31281              F            PA                 2048     2500   \n",
      "\n",
      "       OriginalImagePixelSpacing[x  ...  Mass  No Finding Nodule  \\\n",
      "53055                        0.143  ...   1.0         0.0    0.0   \n",
      "17326                        0.171  ...   0.0         1.0    0.0   \n",
      "31281                        0.168  ...   0.0         0.0    1.0   \n",
      "\n",
      "       Pleural_Thickening  Pneumonia  Pneumothorax  \\\n",
      "53055                 0.0        0.0           0.0   \n",
      "17326                 0.0        0.0           0.0   \n",
      "31281                 0.0        0.0           0.0   \n",
      "\n",
      "                                             disease_vec  Type  \\\n",
      "53055  [0.0, 0.0, 0.0, 0.0, 1.0, 0.0, 0.0, 0.0, 1.0, ...     6   \n",
      "17326  [0.0, 0.0, 0.0, 0.0, 0.0, 0.0, 0.0, 0.0, 0.0, ...    14   \n",
      "31281  [0.0, 0.0, 0.0, 0.0, 0.0, 0.0, 0.0, 0.0, 0.0, ...    13   \n",
      "\n",
      "               newLabel  newLabelT  \n",
      "53055  [Effusion, Mass]          6  \n",
      "17326      [No Finding]         14  \n",
      "31281          [Nodule]         13  \n",
      "\n",
      "[3 rows x 32 columns]\n"
     ]
    },
    {
     "name": "stderr",
     "output_type": "stream",
     "text": [
      "/home/ubuntu/anaconda3/lib/python3.7/site-packages/ipykernel_launcher.py:1: SettingWithCopyWarning: \n",
      "A value is trying to be set on a copy of a slice from a DataFrame.\n",
      "Try using .loc[row_indexer,col_indexer] = value instead\n",
      "\n",
      "See the caveats in the documentation: http://pandas.pydata.org/pandas-docs/stable/indexing.html#indexing-view-versus-copy\n",
      "  \"\"\"Entry point for launching an IPython kernel.\n",
      "/home/ubuntu/anaconda3/lib/python3.7/site-packages/ipykernel_launcher.py:2: SettingWithCopyWarning: \n",
      "A value is trying to be set on a copy of a slice from a DataFrame.\n",
      "Try using .loc[row_indexer,col_indexer] = value instead\n",
      "\n",
      "See the caveats in the documentation: http://pandas.pydata.org/pandas-docs/stable/indexing.html#indexing-view-versus-copy\n",
      "  \n"
     ]
    }
   ],
   "source": [
    "test_df['newLabel'] = test_df.apply(lambda x: x['Finding Labels'].split('|'), axis=1)\n",
    "test_df['newLabelT'] = test_df['Type']\n",
    "print(test_df.sample(3))"
   ]
  },
  {
   "cell_type": "code",
   "execution_count": 25,
   "metadata": {},
   "outputs": [
    {
     "name": "stdout",
     "output_type": "stream",
     "text": [
      "AxesSubplot(0.125,0.125;0.775x0.755)\n"
     ]
    },
    {
     "data": {
      "image/png": "[encoded data removed]",
      "text/plain": [
       "<Figure size 432x288 with 1 Axes>"
      ]
     },
     "metadata": {
      "needs_background": "light"
     },
     "output_type": "display_data"
    }
   ],
   "source": [
    "print(train_df['Type'].hist())"
   ]
  },
  {
   "cell_type": "code",
   "execution_count": 26,
   "metadata": {},
   "outputs": [],
   "source": [
    "#from imblearn.over_sampling import SMOTE"
   ]
  },
  {
   "cell_type": "code",
   "execution_count": 27,
   "metadata": {},
   "outputs": [],
   "source": [
    "#pip install -U git+https://github.com/scikit-learn-contrib/imbalanced-learn.git"
   ]
  },
  {
   "cell_type": "code",
   "execution_count": 28,
   "metadata": {},
   "outputs": [],
   "source": [
    "from sklearn.preprocessing import LabelEncoder\n",
    "y=train_df['Type']"
   ]
  },
  {
   "cell_type": "code",
   "execution_count": 29,
   "metadata": {},
   "outputs": [
    {
     "name": "stderr",
     "output_type": "stream",
     "text": [
      "/home/ubuntu/anaconda3/lib/python3.7/site-packages/sklearn/utils/validation.py:1692: FutureWarning: Feature names only support names that are all strings. Got feature names with dtypes: ['str', 'str_']. An error will be raised in 1.2.\n",
      "  FutureWarning,\n"
     ]
    }
   ],
   "source": [
    "from imblearn.over_sampling import RandomOverSampler\n",
    "ros = RandomOverSampler(random_state=0)\n",
    "X_res, y_res = ros.fit_resample(train_df, y)"
   ]
  },
  {
   "cell_type": "code",
   "execution_count": 30,
   "metadata": {},
   "outputs": [
    {
     "data": {
      "text/plain": [
       "(383180, 32)"
      ]
     },
     "execution_count": 30,
     "metadata": {},
     "output_type": "execute_result"
    }
   ],
   "source": [
    "X_res.shape"
   ]
  },
  {
   "cell_type": "code",
   "execution_count": 31,
   "metadata": {},
   "outputs": [
    {
     "data": {
      "text/plain": [
       "(51060, 32)"
      ]
     },
     "execution_count": 31,
     "metadata": {},
     "output_type": "execute_result"
    }
   ],
   "source": [
    "train_df.shape"
   ]
  },
  {
   "cell_type": "code",
   "execution_count": 32,
   "metadata": {},
   "outputs": [
    {
     "name": "stdout",
     "output_type": "stream",
     "text": [
      "AxesSubplot(0.125,0.125;0.775x0.755)\n"
     ]
    },
    {
     "data": {
      "image/png": "[encoded data removed]",
      "text/plain": [
       "<Figure size 432x288 with 1 Axes>"
      ]
     },
     "metadata": {
      "needs_background": "light"
     },
     "output_type": "display_data"
    }
   ],
   "source": [
    "train_df=X_res\n",
    "print(train_df['Type'].hist())"
   ]
  },
  {
   "cell_type": "markdown",
   "metadata": {},
   "source": [
    "# Training the Model"
   ]
  },
  {
   "cell_type": "code",
   "execution_count": 33,
   "metadata": {},
   "outputs": [
    {
     "name": "stderr",
     "output_type": "stream",
     "text": [
      "Using TensorFlow backend.\n"
     ]
    }
   ],
   "source": [
    "from tensorflow.keras.applications.mobilenet import MobileNet\n",
    "from tensorflow.keras.layers import GlobalAveragePooling2D, Dense, Dropout, Flatten\n",
    "from tensorflow.keras.models import Sequential\n",
    "from keras import optimizers, callbacks, regularizers"
   ]
  },
  {
   "cell_type": "code",
   "execution_count": 34,
   "metadata": {},
   "outputs": [],
   "source": [
    "def MakeModel1(IMG_SIZE, bs, channels=1):\n",
    "    model = Sequential()\n",
    "    base_mobilenet_model = MobileNet(input_shape =  (*IMG_SIZE, channels), #Need to define the shape here from IMG_SIZE\n",
    "                                 include_top = False, weights = None)\n",
    "    model.add(base_mobilenet_model)\n",
    "    model.add(GlobalAveragePooling2D())\n",
    "    model.add(Dropout(0.5))\n",
    "    model.add(Dense(512))\n",
    "    model.add(Dropout(0.5))\n",
    "    model.add(Dense(len(all_labels), activation = 'sigmoid'))\n",
    "    return model"
   ]
  },
  {
   "cell_type": "code",
   "execution_count": 35,
   "metadata": {},
   "outputs": [],
   "source": [
    "from keras.preprocessing.image import ImageDataGenerator\n",
    "core_idg = ImageDataGenerator(samplewise_center=True, \n",
    "                              samplewise_std_normalization=True, \n",
    "                              horizontal_flip = True, \n",
    "                              vertical_flip = False, \n",
    "                              height_shift_range= 0.05, \n",
    "                              width_shift_range=0.1, \n",
    "                              rotation_range=5, \n",
    "                              shear_range = 0.1,\n",
    "                              fill_mode = 'reflect',\n",
    "                              zoom_range=0.15)"
   ]
  },
  {
   "cell_type": "code",
   "execution_count": 36,
   "metadata": {},
   "outputs": [],
   "source": [
    "n_priorities=4"
   ]
  },
  {
   "cell_type": "code",
   "execution_count": 37,
   "metadata": {},
   "outputs": [],
   "source": [
    "def image_type_vector(X):\n",
    "    set=X\n",
    "    pet=set[set==1].index.tolist()\n",
    "    return(image_type([all_labels[i] for i in pet]))"
   ]
  },
  {
   "cell_type": "code",
   "execution_count": 38,
   "metadata": {},
   "outputs": [],
   "source": [
    "def queue_wait_cost(pmat,costs,arrivals,service):\n",
    "    clambda = costs*arrivals\n",
    "    rho = arrivals/service\n",
    "    clambda_pmat = np.matmul(clambda,pmat)\n",
    "    rho_pmat = np.matmul(rho,pmat)\n",
    "    vec1=1-np.cumsum(rho_pmat)\n",
    "    vec2=np.roll(1-np.cumsum(rho_pmat),1)\n",
    "    vec2[0]=1\n",
    "    denom = (1/vec1)*(1/vec2)\n",
    "    return sum(clambda_pmat*denom)"
   ]
  },
  {
   "cell_type": "markdown",
   "metadata": {},
   "source": [
    "# Sample a test set, generate the predictions from sequential triage model"
   ]
  },
  {
   "cell_type": "code",
   "execution_count": 39,
   "metadata": {},
   "outputs": [],
   "source": [
    "from tensorflow.keras.applications.mobilenet import MobileNet\n",
    "from tensorflow.keras.layers import GlobalAveragePooling2D, Dense, Dropout, Flatten\n",
    "from tensorflow.keras.models import Sequential\n",
    "from keras import optimizers, callbacks, regularizers"
   ]
  },
  {
   "cell_type": "code",
   "execution_count": 40,
   "metadata": {},
   "outputs": [],
   "source": [
    "def MakeModel1(IMG_SIZE, bs, channels=1):\n",
    "    model = Sequential()\n",
    "    base_mobilenet_model = MobileNet(input_shape =  (*IMG_SIZE, channels), #Need to define the shape here from IMG_SIZE\n",
    "                                 include_top = False, weights = None)\n",
    "    model.add(base_mobilenet_model)\n",
    "    model.add(GlobalAveragePooling2D())\n",
    "    model.add(Dropout(0.5))\n",
    "    model.add(Dense(512))\n",
    "    model.add(Dropout(0.5))\n",
    "    model.add(Dense(len(all_labels), activation = 'sigmoid'))\n",
    "    return model"
   ]
  },
  {
   "cell_type": "code",
   "execution_count": 41,
   "metadata": {},
   "outputs": [],
   "source": [
    "lr = 0.0005\n",
    "syntheticBatch = 256\n",
    "imageSize = (512, 512)\n",
    "colorMode = 'rgb'\n",
    "channels = 3\n",
    "batchSize = 32\n",
    "batch = int(256 / batchSize)\n",
    "STEPS_PER_EPOCH = 1000\n",
    "EPOCHS = 100     "
   ]
  },
  {
   "cell_type": "code",
   "execution_count": 148,
   "metadata": {},
   "outputs": [
    {
     "name": "stderr",
     "output_type": "stream",
     "text": [
      "/home/ubuntu/anaconda3/lib/python3.7/site-packages/ipykernel_launcher.py:10: SettingWithCopyWarning: \n",
      "A value is trying to be set on a copy of a slice from a DataFrame.\n",
      "Try using .loc[row_indexer,col_indexer] = value instead\n",
      "\n",
      "See the caveats in the documentation: http://pandas.pydata.org/pandas-docs/stable/indexing.html#indexing-view-versus-copy\n",
      "  # Remove the CWD from sys.path while we load stuff.\n"
     ]
    },
    {
     "name": "stdout",
     "output_type": "stream",
     "text": [
      "Found 25530 validated image filenames belonging to 14 classes.\n"
     ]
    }
   ],
   "source": [
    "import gc\n",
    "gc.collect()\n",
    "import tensorflow as tf\n",
    "tf.keras.backend.clear_session()\n",
    "types=14\n",
    "queues=4\n",
    "class_labels=[str(X) for X in range(1,types+1)]\n",
    "multi_disease_model = MakeModel1(imageSize, batchSize, channels)\n",
    "multi_disease_model.load_weights(\"xray_class_weights.best.sequential.january_2022.hdf5\")\n",
    "test_df['Type']=test_df['Type'].astype(str)\n",
    "test_X, test_Y = next(core_idg.flow_from_dataframe(dataframe=test_df, \n",
    "                             directory=None,\n",
    "                             x_col = 'path',\n",
    "                            y_col = 'Type', \n",
    "                             class_mode = 'categorical',\n",
    "                            classes = class_labels,\n",
    "                            target_size = imageSize,\n",
    "                             color_mode = colorMode,\n",
    "                            batch_size = 2000))"
   ]
  },
  {
   "cell_type": "code",
   "execution_count": 43,
   "metadata": {},
   "outputs": [
    {
     "name": "stdout",
     "output_type": "stream",
     "text": [
      "2000/2000 [==============================] - 29s 13ms/step\n"
     ]
    }
   ],
   "source": [
    "pred_Y = multi_disease_model.predict(test_X, batch_size = 1, verbose = True)"
   ]
  },
  {
   "cell_type": "code",
   "execution_count": 149,
   "metadata": {},
   "outputs": [],
   "source": [
    "del multi_disease_model"
   ]
  },
  {
   "cell_type": "markdown",
   "metadata": {},
   "source": [
    "# Generate the Q matrix for sequential triage and compute the minimum waiting cost matrix for r=1.8, rho=0.9"
   ]
  },
  {
   "cell_type": "code",
   "execution_count": 150,
   "metadata": {},
   "outputs": [],
   "source": [
    "import pickle\n",
    "f=open('data_disease_thresholds.pkl', 'rb') \n",
    "Youden_Thresholds = pickle.load(f)\n",
    "f.close()"
   ]
  },
  {
   "cell_type": "code",
   "execution_count": 151,
   "metadata": {},
   "outputs": [],
   "source": [
    "set=Youden_Thresholds.values()"
   ]
  },
  {
   "cell_type": "code",
   "execution_count": 152,
   "metadata": {},
   "outputs": [],
   "source": [
    "set=Youden_Thresholds.values()\n",
    "set=np.array(np.round_(list(set),2))\n",
    "set=pd.DataFrame(set)\n",
    "set=pd.DataFrame(set.T)\n",
    "set=pd.concat([set]*test_Y.shape[0])\n"
   ]
  },
  {
   "cell_type": "code",
   "execution_count": 153,
   "metadata": {},
   "outputs": [],
   "source": [
    "#types=14\n",
    "#queues=4\n",
    "#set=[0.2]*types\n",
    "#set=np.array(list(set))\n",
    "#set=pd.DataFrame(set)\n",
    "#set=pd.DataFrame(set.T)\n",
    "#set=pd.concat([set]*test_Y.shape[0])"
   ]
  },
  {
   "cell_type": "code",
   "execution_count": 154,
   "metadata": {},
   "outputs": [],
   "source": [
    "def image_type_vector(X):\n",
    "    set=X\n",
    "    pet=set[set==1].index.tolist()\n",
    "    return(image_type([all_labels[i] for i in pet]))"
   ]
  },
  {
   "cell_type": "code",
   "execution_count": 156,
   "metadata": {},
   "outputs": [
    {
     "data": {
      "text/plain": [
       "array([[0., 0., 0., ..., 1., 0., 0.],\n",
       "       [0., 0., 0., ..., 0., 1., 0.],\n",
       "       [0., 0., 0., ..., 0., 0., 0.],\n",
       "       ...,\n",
       "       [0., 0., 0., ..., 0., 0., 0.],\n",
       "       [0., 0., 0., ..., 0., 0., 0.],\n",
       "       [0., 0., 0., ..., 1., 0., 0.]], dtype=float32)"
      ]
     },
     "execution_count": 156,
     "metadata": {},
     "output_type": "execute_result"
    }
   ],
   "source": [
    "test_Y"
   ]
  },
  {
   "cell_type": "code",
   "execution_count": 169,
   "metadata": {},
   "outputs": [],
   "source": [
    "\n",
    "data2=(1+np.sign(pred_Y-set))/2"
   ]
  },
  {
   "cell_type": "code",
   "execution_count": 171,
   "metadata": {},
   "outputs": [
    {
     "data": {
      "text/plain": [
       "(2000, 14)"
      ]
     },
     "execution_count": 171,
     "metadata": {},
     "output_type": "execute_result"
    }
   ],
   "source": [
    "data2.shape"
   ]
  },
  {
   "cell_type": "code",
   "execution_count": 172,
   "metadata": {},
   "outputs": [],
   "source": [
    "data2=pd.DataFrame(data2).apply(lambda row : image_type_vector(row), axis = 1)\n",
    "data2.index=range(test_Y.shape[0])"
   ]
  },
  {
   "cell_type": "code",
   "execution_count": null,
   "metadata": {},
   "outputs": [],
   "source": []
  },
  {
   "cell_type": "code",
   "execution_count": 173,
   "metadata": {},
   "outputs": [
    {
     "data": {
      "text/plain": [
       "0       10\n",
       "1        3\n",
       "2       10\n",
       "3        9\n",
       "4        1\n",
       "5       10\n",
       "6       10\n",
       "7        3\n",
       "8        1\n",
       "9       10\n",
       "10       3\n",
       "11       3\n",
       "12       1\n",
       "13       3\n",
       "14      12\n",
       "15       9\n",
       "16       3\n",
       "17       3\n",
       "18      11\n",
       "19       3\n",
       "20       3\n",
       "21       1\n",
       "22       1\n",
       "23       1\n",
       "24       3\n",
       "25       3\n",
       "26      10\n",
       "27       9\n",
       "28       1\n",
       "29       3\n",
       "        ..\n",
       "1970     1\n",
       "1971    13\n",
       "1972     3\n",
       "1973     3\n",
       "1974     3\n",
       "1975     3\n",
       "1976     3\n",
       "1977    10\n",
       "1978     1\n",
       "1979     3\n",
       "1980     3\n",
       "1981     3\n",
       "1982    11\n",
       "1983     2\n",
       "1984     3\n",
       "1985     3\n",
       "1986     9\n",
       "1987     9\n",
       "1988     3\n",
       "1989     3\n",
       "1990     3\n",
       "1991    10\n",
       "1992     3\n",
       "1993     3\n",
       "1994     9\n",
       "1995     3\n",
       "1996     5\n",
       "1997     3\n",
       "1998     1\n",
       "1999     3\n",
       "Length: 2000, dtype: int64"
      ]
     },
     "execution_count": 173,
     "metadata": {},
     "output_type": "execute_result"
    }
   ],
   "source": [
    "data2"
   ]
  },
  {
   "cell_type": "code",
   "execution_count": 180,
   "metadata": {},
   "outputs": [
    {
     "data": {
      "text/plain": [
       "<14x14 sparse matrix of type '<class 'numpy.float64'>'\n",
       "\twith 14 stored elements in Compressed Sparse Row format>"
      ]
     },
     "execution_count": 180,
     "metadata": {},
     "output_type": "execute_result"
    }
   ],
   "source": [
    "from sklearn.preprocessing import OneHotEncoder\n",
    "a = [[i] for i in range(1,types+1)]\n",
    "enc = OneHotEncoder()\n",
    "enc.fit_transform(a)"
   ]
  },
  {
   "cell_type": "code",
   "execution_count": 181,
   "metadata": {},
   "outputs": [
    {
     "data": {
      "text/plain": [
       "(2000, 14)"
      ]
     },
     "execution_count": 181,
     "metadata": {},
     "output_type": "execute_result"
    }
   ],
   "source": [
    "pred_Y_type=enc.transform(np.array(data2).reshape(-1,1)).todense()\n",
    "pred_Y_type.shape"
   ]
  },
  {
   "cell_type": "code",
   "execution_count": 185,
   "metadata": {},
   "outputs": [
    {
     "data": {
      "text/plain": [
       "(2000, 14)"
      ]
     },
     "execution_count": 185,
     "metadata": {},
     "output_type": "execute_result"
    }
   ],
   "source": [
    "pred_Y_type.shape"
   ]
  },
  {
   "cell_type": "code",
   "execution_count": 186,
   "metadata": {},
   "outputs": [
    {
     "data": {
      "text/plain": [
       "(2000, 14)"
      ]
     },
     "execution_count": 186,
     "metadata": {},
     "output_type": "execute_result"
    }
   ],
   "source": [
    "test_Y.shape"
   ]
  },
  {
   "cell_type": "code",
   "execution_count": 187,
   "metadata": {},
   "outputs": [],
   "source": [
    "mat1=np.matmul(np.transpose(test_Y),pred_Y_type)\n",
    "Q_Youden=pd.DataFrame(mat1/mat1.sum(axis=1).reshape(-1,1))"
   ]
  },
  {
   "cell_type": "code",
   "execution_count": 188,
   "metadata": {},
   "outputs": [
    {
     "data": {
      "text/html": [
       "<div>\n",
       "<style scoped>\n",
       "    .dataframe tbody tr th:only-of-type {\n",
       "        vertical-align: middle;\n",
       "    }\n",
       "\n",
       "    .dataframe tbody tr th {\n",
       "        vertical-align: top;\n",
       "    }\n",
       "\n",
       "    .dataframe thead th {\n",
       "        text-align: right;\n",
       "    }\n",
       "</style>\n",
       "<table border=\"1\" class=\"dataframe\">\n",
       "  <thead>\n",
       "    <tr style=\"text-align: right;\">\n",
       "      <th></th>\n",
       "      <th>0</th>\n",
       "      <th>1</th>\n",
       "      <th>2</th>\n",
       "      <th>3</th>\n",
       "      <th>4</th>\n",
       "      <th>5</th>\n",
       "      <th>6</th>\n",
       "      <th>7</th>\n",
       "      <th>8</th>\n",
       "      <th>9</th>\n",
       "      <th>10</th>\n",
       "      <th>11</th>\n",
       "      <th>12</th>\n",
       "      <th>13</th>\n",
       "    </tr>\n",
       "  </thead>\n",
       "  <tbody>\n",
       "    <tr>\n",
       "      <th>0</th>\n",
       "      <td>0.246914</td>\n",
       "      <td>0.037037</td>\n",
       "      <td>0.432099</td>\n",
       "      <td>0.0</td>\n",
       "      <td>0.024691</td>\n",
       "      <td>0.000000</td>\n",
       "      <td>0.0</td>\n",
       "      <td>0.012346</td>\n",
       "      <td>0.123457</td>\n",
       "      <td>0.098765</td>\n",
       "      <td>0.012346</td>\n",
       "      <td>0.012346</td>\n",
       "      <td>0.000000</td>\n",
       "      <td>0.000000</td>\n",
       "    </tr>\n",
       "    <tr>\n",
       "      <th>1</th>\n",
       "      <td>0.160000</td>\n",
       "      <td>0.040000</td>\n",
       "      <td>0.440000</td>\n",
       "      <td>0.0</td>\n",
       "      <td>0.000000</td>\n",
       "      <td>0.000000</td>\n",
       "      <td>0.0</td>\n",
       "      <td>0.040000</td>\n",
       "      <td>0.080000</td>\n",
       "      <td>0.120000</td>\n",
       "      <td>0.000000</td>\n",
       "      <td>0.080000</td>\n",
       "      <td>0.040000</td>\n",
       "      <td>0.000000</td>\n",
       "    </tr>\n",
       "    <tr>\n",
       "      <th>2</th>\n",
       "      <td>0.250000</td>\n",
       "      <td>0.062500</td>\n",
       "      <td>0.500000</td>\n",
       "      <td>0.0</td>\n",
       "      <td>0.000000</td>\n",
       "      <td>0.000000</td>\n",
       "      <td>0.0</td>\n",
       "      <td>0.062500</td>\n",
       "      <td>0.000000</td>\n",
       "      <td>0.125000</td>\n",
       "      <td>0.000000</td>\n",
       "      <td>0.000000</td>\n",
       "      <td>0.000000</td>\n",
       "      <td>0.000000</td>\n",
       "    </tr>\n",
       "    <tr>\n",
       "      <th>3</th>\n",
       "      <td>0.277778</td>\n",
       "      <td>0.074074</td>\n",
       "      <td>0.388889</td>\n",
       "      <td>0.0</td>\n",
       "      <td>0.000000</td>\n",
       "      <td>0.000000</td>\n",
       "      <td>0.0</td>\n",
       "      <td>0.000000</td>\n",
       "      <td>0.018519</td>\n",
       "      <td>0.203704</td>\n",
       "      <td>0.018519</td>\n",
       "      <td>0.000000</td>\n",
       "      <td>0.018519</td>\n",
       "      <td>0.000000</td>\n",
       "    </tr>\n",
       "    <tr>\n",
       "      <th>4</th>\n",
       "      <td>0.333333</td>\n",
       "      <td>0.047619</td>\n",
       "      <td>0.309524</td>\n",
       "      <td>0.0</td>\n",
       "      <td>0.000000</td>\n",
       "      <td>0.000000</td>\n",
       "      <td>0.0</td>\n",
       "      <td>0.023810</td>\n",
       "      <td>0.095238</td>\n",
       "      <td>0.142857</td>\n",
       "      <td>0.023810</td>\n",
       "      <td>0.023810</td>\n",
       "      <td>0.000000</td>\n",
       "      <td>0.000000</td>\n",
       "    </tr>\n",
       "    <tr>\n",
       "      <th>5</th>\n",
       "      <td>0.193727</td>\n",
       "      <td>0.035055</td>\n",
       "      <td>0.436347</td>\n",
       "      <td>0.0</td>\n",
       "      <td>0.005535</td>\n",
       "      <td>0.002768</td>\n",
       "      <td>0.0</td>\n",
       "      <td>0.016605</td>\n",
       "      <td>0.067343</td>\n",
       "      <td>0.167897</td>\n",
       "      <td>0.024908</td>\n",
       "      <td>0.015683</td>\n",
       "      <td>0.033210</td>\n",
       "      <td>0.000923</td>\n",
       "    </tr>\n",
       "    <tr>\n",
       "      <th>6</th>\n",
       "      <td>0.292683</td>\n",
       "      <td>0.000000</td>\n",
       "      <td>0.341463</td>\n",
       "      <td>0.0</td>\n",
       "      <td>0.024390</td>\n",
       "      <td>0.000000</td>\n",
       "      <td>0.0</td>\n",
       "      <td>0.024390</td>\n",
       "      <td>0.121951</td>\n",
       "      <td>0.073171</td>\n",
       "      <td>0.048780</td>\n",
       "      <td>0.000000</td>\n",
       "      <td>0.073171</td>\n",
       "      <td>0.000000</td>\n",
       "    </tr>\n",
       "    <tr>\n",
       "      <th>7</th>\n",
       "      <td>0.142857</td>\n",
       "      <td>0.047619</td>\n",
       "      <td>0.333333</td>\n",
       "      <td>0.0</td>\n",
       "      <td>0.000000</td>\n",
       "      <td>0.000000</td>\n",
       "      <td>0.0</td>\n",
       "      <td>0.000000</td>\n",
       "      <td>0.095238</td>\n",
       "      <td>0.333333</td>\n",
       "      <td>0.047619</td>\n",
       "      <td>0.000000</td>\n",
       "      <td>0.000000</td>\n",
       "      <td>0.000000</td>\n",
       "    </tr>\n",
       "    <tr>\n",
       "      <th>8</th>\n",
       "      <td>0.205128</td>\n",
       "      <td>0.051282</td>\n",
       "      <td>0.487179</td>\n",
       "      <td>0.0</td>\n",
       "      <td>0.000000</td>\n",
       "      <td>0.000000</td>\n",
       "      <td>0.0</td>\n",
       "      <td>0.000000</td>\n",
       "      <td>0.025641</td>\n",
       "      <td>0.230769</td>\n",
       "      <td>0.000000</td>\n",
       "      <td>0.000000</td>\n",
       "      <td>0.000000</td>\n",
       "      <td>0.000000</td>\n",
       "    </tr>\n",
       "    <tr>\n",
       "      <th>9</th>\n",
       "      <td>0.182927</td>\n",
       "      <td>0.060976</td>\n",
       "      <td>0.487805</td>\n",
       "      <td>0.0</td>\n",
       "      <td>0.000000</td>\n",
       "      <td>0.000000</td>\n",
       "      <td>0.0</td>\n",
       "      <td>0.024390</td>\n",
       "      <td>0.048780</td>\n",
       "      <td>0.158537</td>\n",
       "      <td>0.012195</td>\n",
       "      <td>0.000000</td>\n",
       "      <td>0.024390</td>\n",
       "      <td>0.000000</td>\n",
       "    </tr>\n",
       "    <tr>\n",
       "      <th>10</th>\n",
       "      <td>0.142012</td>\n",
       "      <td>0.017751</td>\n",
       "      <td>0.497041</td>\n",
       "      <td>0.0</td>\n",
       "      <td>0.017751</td>\n",
       "      <td>0.000000</td>\n",
       "      <td>0.0</td>\n",
       "      <td>0.011834</td>\n",
       "      <td>0.094675</td>\n",
       "      <td>0.171598</td>\n",
       "      <td>0.023669</td>\n",
       "      <td>0.017751</td>\n",
       "      <td>0.005917</td>\n",
       "      <td>0.000000</td>\n",
       "    </tr>\n",
       "    <tr>\n",
       "      <th>11</th>\n",
       "      <td>0.218341</td>\n",
       "      <td>0.034934</td>\n",
       "      <td>0.406114</td>\n",
       "      <td>0.0</td>\n",
       "      <td>0.008734</td>\n",
       "      <td>0.004367</td>\n",
       "      <td>0.0</td>\n",
       "      <td>0.004367</td>\n",
       "      <td>0.078603</td>\n",
       "      <td>0.192140</td>\n",
       "      <td>0.030568</td>\n",
       "      <td>0.008734</td>\n",
       "      <td>0.013100</td>\n",
       "      <td>0.000000</td>\n",
       "    </tr>\n",
       "    <tr>\n",
       "      <th>12</th>\n",
       "      <td>0.123596</td>\n",
       "      <td>0.011236</td>\n",
       "      <td>0.584270</td>\n",
       "      <td>0.0</td>\n",
       "      <td>0.011236</td>\n",
       "      <td>0.000000</td>\n",
       "      <td>0.0</td>\n",
       "      <td>0.011236</td>\n",
       "      <td>0.089888</td>\n",
       "      <td>0.112360</td>\n",
       "      <td>0.033708</td>\n",
       "      <td>0.011236</td>\n",
       "      <td>0.011236</td>\n",
       "      <td>0.000000</td>\n",
       "    </tr>\n",
       "    <tr>\n",
       "      <th>13</th>\n",
       "      <td>0.250000</td>\n",
       "      <td>0.000000</td>\n",
       "      <td>0.464286</td>\n",
       "      <td>0.0</td>\n",
       "      <td>0.000000</td>\n",
       "      <td>0.000000</td>\n",
       "      <td>0.0</td>\n",
       "      <td>0.000000</td>\n",
       "      <td>0.071429</td>\n",
       "      <td>0.142857</td>\n",
       "      <td>0.000000</td>\n",
       "      <td>0.071429</td>\n",
       "      <td>0.000000</td>\n",
       "      <td>0.000000</td>\n",
       "    </tr>\n",
       "  </tbody>\n",
       "</table>\n",
       "</div>"
      ],
      "text/plain": [
       "          0         1         2    3         4         5    6         7   \\\n",
       "0   0.246914  0.037037  0.432099  0.0  0.024691  0.000000  0.0  0.012346   \n",
       "1   0.160000  0.040000  0.440000  0.0  0.000000  0.000000  0.0  0.040000   \n",
       "2   0.250000  0.062500  0.500000  0.0  0.000000  0.000000  0.0  0.062500   \n",
       "3   0.277778  0.074074  0.388889  0.0  0.000000  0.000000  0.0  0.000000   \n",
       "4   0.333333  0.047619  0.309524  0.0  0.000000  0.000000  0.0  0.023810   \n",
       "5   0.193727  0.035055  0.436347  0.0  0.005535  0.002768  0.0  0.016605   \n",
       "6   0.292683  0.000000  0.341463  0.0  0.024390  0.000000  0.0  0.024390   \n",
       "7   0.142857  0.047619  0.333333  0.0  0.000000  0.000000  0.0  0.000000   \n",
       "8   0.205128  0.051282  0.487179  0.0  0.000000  0.000000  0.0  0.000000   \n",
       "9   0.182927  0.060976  0.487805  0.0  0.000000  0.000000  0.0  0.024390   \n",
       "10  0.142012  0.017751  0.497041  0.0  0.017751  0.000000  0.0  0.011834   \n",
       "11  0.218341  0.034934  0.406114  0.0  0.008734  0.004367  0.0  0.004367   \n",
       "12  0.123596  0.011236  0.584270  0.0  0.011236  0.000000  0.0  0.011236   \n",
       "13  0.250000  0.000000  0.464286  0.0  0.000000  0.000000  0.0  0.000000   \n",
       "\n",
       "          8         9         10        11        12        13  \n",
       "0   0.123457  0.098765  0.012346  0.012346  0.000000  0.000000  \n",
       "1   0.080000  0.120000  0.000000  0.080000  0.040000  0.000000  \n",
       "2   0.000000  0.125000  0.000000  0.000000  0.000000  0.000000  \n",
       "3   0.018519  0.203704  0.018519  0.000000  0.018519  0.000000  \n",
       "4   0.095238  0.142857  0.023810  0.023810  0.000000  0.000000  \n",
       "5   0.067343  0.167897  0.024908  0.015683  0.033210  0.000923  \n",
       "6   0.121951  0.073171  0.048780  0.000000  0.073171  0.000000  \n",
       "7   0.095238  0.333333  0.047619  0.000000  0.000000  0.000000  \n",
       "8   0.025641  0.230769  0.000000  0.000000  0.000000  0.000000  \n",
       "9   0.048780  0.158537  0.012195  0.000000  0.024390  0.000000  \n",
       "10  0.094675  0.171598  0.023669  0.017751  0.005917  0.000000  \n",
       "11  0.078603  0.192140  0.030568  0.008734  0.013100  0.000000  \n",
       "12  0.089888  0.112360  0.033708  0.011236  0.011236  0.000000  \n",
       "13  0.071429  0.142857  0.000000  0.071429  0.000000  0.000000  "
      ]
     },
     "execution_count": 188,
     "metadata": {},
     "output_type": "execute_result"
    }
   ],
   "source": [
    "Q_Youden"
   ]
  },
  {
   "cell_type": "code",
   "execution_count": 189,
   "metadata": {},
   "outputs": [],
   "source": [
    "from itertools import combinations\n",
    "types=14\n",
    "queues=4"
   ]
  },
  {
   "cell_type": "code",
   "execution_count": 190,
   "metadata": {},
   "outputs": [],
   "source": [
    "combination_lists=list(combinations(range(types-1),queues-1))"
   ]
  },
  {
   "cell_type": "code",
   "execution_count": 191,
   "metadata": {},
   "outputs": [
    {
     "data": {
      "text/plain": [
       "[(0, 1, 2),\n",
       " (0, 1, 3),\n",
       " (0, 1, 4),\n",
       " (0, 1, 5),\n",
       " (0, 1, 6),\n",
       " (0, 1, 7),\n",
       " (0, 1, 8),\n",
       " (0, 1, 9),\n",
       " (0, 1, 10),\n",
       " (0, 1, 11),\n",
       " (0, 1, 12),\n",
       " (0, 2, 3),\n",
       " (0, 2, 4),\n",
       " (0, 2, 5),\n",
       " (0, 2, 6),\n",
       " (0, 2, 7),\n",
       " (0, 2, 8),\n",
       " (0, 2, 9),\n",
       " (0, 2, 10),\n",
       " (0, 2, 11),\n",
       " (0, 2, 12),\n",
       " (0, 3, 4),\n",
       " (0, 3, 5),\n",
       " (0, 3, 6),\n",
       " (0, 3, 7),\n",
       " (0, 3, 8),\n",
       " (0, 3, 9),\n",
       " (0, 3, 10),\n",
       " (0, 3, 11),\n",
       " (0, 3, 12),\n",
       " (0, 4, 5),\n",
       " (0, 4, 6),\n",
       " (0, 4, 7),\n",
       " (0, 4, 8),\n",
       " (0, 4, 9),\n",
       " (0, 4, 10),\n",
       " (0, 4, 11),\n",
       " (0, 4, 12),\n",
       " (0, 5, 6),\n",
       " (0, 5, 7),\n",
       " (0, 5, 8),\n",
       " (0, 5, 9),\n",
       " (0, 5, 10),\n",
       " (0, 5, 11),\n",
       " (0, 5, 12),\n",
       " (0, 6, 7),\n",
       " (0, 6, 8),\n",
       " (0, 6, 9),\n",
       " (0, 6, 10),\n",
       " (0, 6, 11),\n",
       " (0, 6, 12),\n",
       " (0, 7, 8),\n",
       " (0, 7, 9),\n",
       " (0, 7, 10),\n",
       " (0, 7, 11),\n",
       " (0, 7, 12),\n",
       " (0, 8, 9),\n",
       " (0, 8, 10),\n",
       " (0, 8, 11),\n",
       " (0, 8, 12),\n",
       " (0, 9, 10),\n",
       " (0, 9, 11),\n",
       " (0, 9, 12),\n",
       " (0, 10, 11),\n",
       " (0, 10, 12),\n",
       " (0, 11, 12),\n",
       " (1, 2, 3),\n",
       " (1, 2, 4),\n",
       " (1, 2, 5),\n",
       " (1, 2, 6),\n",
       " (1, 2, 7),\n",
       " (1, 2, 8),\n",
       " (1, 2, 9),\n",
       " (1, 2, 10),\n",
       " (1, 2, 11),\n",
       " (1, 2, 12),\n",
       " (1, 3, 4),\n",
       " (1, 3, 5),\n",
       " (1, 3, 6),\n",
       " (1, 3, 7),\n",
       " (1, 3, 8),\n",
       " (1, 3, 9),\n",
       " (1, 3, 10),\n",
       " (1, 3, 11),\n",
       " (1, 3, 12),\n",
       " (1, 4, 5),\n",
       " (1, 4, 6),\n",
       " (1, 4, 7),\n",
       " (1, 4, 8),\n",
       " (1, 4, 9),\n",
       " (1, 4, 10),\n",
       " (1, 4, 11),\n",
       " (1, 4, 12),\n",
       " (1, 5, 6),\n",
       " (1, 5, 7),\n",
       " (1, 5, 8),\n",
       " (1, 5, 9),\n",
       " (1, 5, 10),\n",
       " (1, 5, 11),\n",
       " (1, 5, 12),\n",
       " (1, 6, 7),\n",
       " (1, 6, 8),\n",
       " (1, 6, 9),\n",
       " (1, 6, 10),\n",
       " (1, 6, 11),\n",
       " (1, 6, 12),\n",
       " (1, 7, 8),\n",
       " (1, 7, 9),\n",
       " (1, 7, 10),\n",
       " (1, 7, 11),\n",
       " (1, 7, 12),\n",
       " (1, 8, 9),\n",
       " (1, 8, 10),\n",
       " (1, 8, 11),\n",
       " (1, 8, 12),\n",
       " (1, 9, 10),\n",
       " (1, 9, 11),\n",
       " (1, 9, 12),\n",
       " (1, 10, 11),\n",
       " (1, 10, 12),\n",
       " (1, 11, 12),\n",
       " (2, 3, 4),\n",
       " (2, 3, 5),\n",
       " (2, 3, 6),\n",
       " (2, 3, 7),\n",
       " (2, 3, 8),\n",
       " (2, 3, 9),\n",
       " (2, 3, 10),\n",
       " (2, 3, 11),\n",
       " (2, 3, 12),\n",
       " (2, 4, 5),\n",
       " (2, 4, 6),\n",
       " (2, 4, 7),\n",
       " (2, 4, 8),\n",
       " (2, 4, 9),\n",
       " (2, 4, 10),\n",
       " (2, 4, 11),\n",
       " (2, 4, 12),\n",
       " (2, 5, 6),\n",
       " (2, 5, 7),\n",
       " (2, 5, 8),\n",
       " (2, 5, 9),\n",
       " (2, 5, 10),\n",
       " (2, 5, 11),\n",
       " (2, 5, 12),\n",
       " (2, 6, 7),\n",
       " (2, 6, 8),\n",
       " (2, 6, 9),\n",
       " (2, 6, 10),\n",
       " (2, 6, 11),\n",
       " (2, 6, 12),\n",
       " (2, 7, 8),\n",
       " (2, 7, 9),\n",
       " (2, 7, 10),\n",
       " (2, 7, 11),\n",
       " (2, 7, 12),\n",
       " (2, 8, 9),\n",
       " (2, 8, 10),\n",
       " (2, 8, 11),\n",
       " (2, 8, 12),\n",
       " (2, 9, 10),\n",
       " (2, 9, 11),\n",
       " (2, 9, 12),\n",
       " (2, 10, 11),\n",
       " (2, 10, 12),\n",
       " (2, 11, 12),\n",
       " (3, 4, 5),\n",
       " (3, 4, 6),\n",
       " (3, 4, 7),\n",
       " (3, 4, 8),\n",
       " (3, 4, 9),\n",
       " (3, 4, 10),\n",
       " (3, 4, 11),\n",
       " (3, 4, 12),\n",
       " (3, 5, 6),\n",
       " (3, 5, 7),\n",
       " (3, 5, 8),\n",
       " (3, 5, 9),\n",
       " (3, 5, 10),\n",
       " (3, 5, 11),\n",
       " (3, 5, 12),\n",
       " (3, 6, 7),\n",
       " (3, 6, 8),\n",
       " (3, 6, 9),\n",
       " (3, 6, 10),\n",
       " (3, 6, 11),\n",
       " (3, 6, 12),\n",
       " (3, 7, 8),\n",
       " (3, 7, 9),\n",
       " (3, 7, 10),\n",
       " (3, 7, 11),\n",
       " (3, 7, 12),\n",
       " (3, 8, 9),\n",
       " (3, 8, 10),\n",
       " (3, 8, 11),\n",
       " (3, 8, 12),\n",
       " (3, 9, 10),\n",
       " (3, 9, 11),\n",
       " (3, 9, 12),\n",
       " (3, 10, 11),\n",
       " (3, 10, 12),\n",
       " (3, 11, 12),\n",
       " (4, 5, 6),\n",
       " (4, 5, 7),\n",
       " (4, 5, 8),\n",
       " (4, 5, 9),\n",
       " (4, 5, 10),\n",
       " (4, 5, 11),\n",
       " (4, 5, 12),\n",
       " (4, 6, 7),\n",
       " (4, 6, 8),\n",
       " (4, 6, 9),\n",
       " (4, 6, 10),\n",
       " (4, 6, 11),\n",
       " (4, 6, 12),\n",
       " (4, 7, 8),\n",
       " (4, 7, 9),\n",
       " (4, 7, 10),\n",
       " (4, 7, 11),\n",
       " (4, 7, 12),\n",
       " (4, 8, 9),\n",
       " (4, 8, 10),\n",
       " (4, 8, 11),\n",
       " (4, 8, 12),\n",
       " (4, 9, 10),\n",
       " (4, 9, 11),\n",
       " (4, 9, 12),\n",
       " (4, 10, 11),\n",
       " (4, 10, 12),\n",
       " (4, 11, 12),\n",
       " (5, 6, 7),\n",
       " (5, 6, 8),\n",
       " (5, 6, 9),\n",
       " (5, 6, 10),\n",
       " (5, 6, 11),\n",
       " (5, 6, 12),\n",
       " (5, 7, 8),\n",
       " (5, 7, 9),\n",
       " (5, 7, 10),\n",
       " (5, 7, 11),\n",
       " (5, 7, 12),\n",
       " (5, 8, 9),\n",
       " (5, 8, 10),\n",
       " (5, 8, 11),\n",
       " (5, 8, 12),\n",
       " (5, 9, 10),\n",
       " (5, 9, 11),\n",
       " (5, 9, 12),\n",
       " (5, 10, 11),\n",
       " (5, 10, 12),\n",
       " (5, 11, 12),\n",
       " (6, 7, 8),\n",
       " (6, 7, 9),\n",
       " (6, 7, 10),\n",
       " (6, 7, 11),\n",
       " (6, 7, 12),\n",
       " (6, 8, 9),\n",
       " (6, 8, 10),\n",
       " (6, 8, 11),\n",
       " (6, 8, 12),\n",
       " (6, 9, 10),\n",
       " (6, 9, 11),\n",
       " (6, 9, 12),\n",
       " (6, 10, 11),\n",
       " (6, 10, 12),\n",
       " (6, 11, 12),\n",
       " (7, 8, 9),\n",
       " (7, 8, 10),\n",
       " (7, 8, 11),\n",
       " (7, 8, 12),\n",
       " (7, 9, 10),\n",
       " (7, 9, 11),\n",
       " (7, 9, 12),\n",
       " (7, 10, 11),\n",
       " (7, 10, 12),\n",
       " (7, 11, 12),\n",
       " (8, 9, 10),\n",
       " (8, 9, 11),\n",
       " (8, 9, 12),\n",
       " (8, 10, 11),\n",
       " (8, 10, 12),\n",
       " (8, 11, 12),\n",
       " (9, 10, 11),\n",
       " (9, 10, 12),\n",
       " (9, 11, 12),\n",
       " (10, 11, 12)]"
      ]
     },
     "execution_count": 191,
     "metadata": {},
     "output_type": "execute_result"
    }
   ],
   "source": [
    "combination_lists"
   ]
  },
  {
   "cell_type": "code",
   "execution_count": 192,
   "metadata": {},
   "outputs": [
    {
     "data": {
      "text/plain": [
       "0.0"
      ]
     },
     "execution_count": 192,
     "metadata": {},
     "output_type": "execute_result"
    }
   ],
   "source": [
    "mat=np. zeros((types,queues))\n",
    "mat[0,1]"
   ]
  },
  {
   "cell_type": "code",
   "execution_count": 193,
   "metadata": {},
   "outputs": [],
   "source": [
    "def partition_matrix(partition):\n",
    "    mat=np.zeros((types,queues))\n",
    "    for i in range(1,queues-1):\n",
    "        for j in range((partition[i-1]+1),partition[i]+1):\n",
    "                mat[j,i]=1\n",
    "    for j in range(partition[0]+1):\n",
    "        mat[j,0]=1\n",
    "    for j in range(partition[queues-2]+1,types):\n",
    "        mat[j,(queues-1)]=1\n",
    "    return mat   "
   ]
  },
  {
   "cell_type": "code",
   "execution_count": 194,
   "metadata": {},
   "outputs": [],
   "source": [
    "list_partition_matrices = list(map(partition_matrix, combination_lists))"
   ]
  },
  {
   "cell_type": "code",
   "execution_count": 195,
   "metadata": {},
   "outputs": [
    {
     "data": {
      "text/plain": [
       "array([[1., 0., 0., 0.],\n",
       "       [0., 1., 0., 0.],\n",
       "       [0., 0., 1., 0.],\n",
       "       [0., 0., 1., 0.],\n",
       "       [0., 0., 0., 1.],\n",
       "       [0., 0., 0., 1.],\n",
       "       [0., 0., 0., 1.],\n",
       "       [0., 0., 0., 1.],\n",
       "       [0., 0., 0., 1.],\n",
       "       [0., 0., 0., 1.],\n",
       "       [0., 0., 0., 1.],\n",
       "       [0., 0., 0., 1.],\n",
       "       [0., 0., 0., 1.],\n",
       "       [0., 0., 0., 1.]])"
      ]
     },
     "execution_count": 195,
     "metadata": {},
     "output_type": "execute_result"
    }
   ],
   "source": [
    "list_partition_matrices[1]"
   ]
  },
  {
   "cell_type": "code",
   "execution_count": 196,
   "metadata": {},
   "outputs": [],
   "source": [
    "def get_pmat_q_youden(partition_matrix):\n",
    "    return np.dot(Q_Youden,partition_matrix)\n",
    "def get_pmat_q_point_five(partition_matrix):\n",
    "    return np.dot(Q_point_five,partition_matrix)\n",
    "def get_pmat_q_identity(partition_matrix):\n",
    "    return np.dot(np.identity(types),partition_matrix)"
   ]
  },
  {
   "cell_type": "code",
   "execution_count": 197,
   "metadata": {},
   "outputs": [],
   "source": [
    "def get_arrival_rates_types(data):\n",
    "    types_test_data=pd.Series(data['Type'].value_counts().index)\n",
    "    counts_types_test_data=pd.Series(data['Type'].value_counts())\n",
    "    arrivals_types_test_data=counts_types_test_data/counts_types_test_data.sum(axis=0)\n",
    "    return pd.DataFrame({'Type':types_test_data.values,'Arrival_Rates':arrivals_types_test_data.values}).sort_values('Type', ascending=True)['Arrival_Rates'].values   "
   ]
  },
  {
   "cell_type": "code",
   "execution_count": 198,
   "metadata": {},
   "outputs": [],
   "source": [
    "def get_costs_types(r):\n",
    "    return [r**(types-rank-1) for rank in range(types)]"
   ]
  },
  {
   "cell_type": "code",
   "execution_count": 199,
   "metadata": {},
   "outputs": [],
   "source": [
    "def get_service_rates_types(rho):\n",
    "    return [1/rho]*types"
   ]
  },
  {
   "cell_type": "code",
   "execution_count": 200,
   "metadata": {},
   "outputs": [],
   "source": [
    "list_of_costs_different_partition_matrices=[queue_wait_cost(get_pmat_q_youden(X),get_costs_types(1.8),get_arrival_rates_types(all_xray_df),get_service_rates_types(0.9)) for X in list_partition_matrices]"
   ]
  },
  {
   "cell_type": "code",
   "execution_count": 201,
   "metadata": {},
   "outputs": [],
   "source": [
    "min_cost_sequential=np.min(list_of_costs_different_partition_matrices)\n",
    "min_index=np.argmin(list_of_costs_different_partition_matrices)"
   ]
  },
  {
   "cell_type": "code",
   "execution_count": 202,
   "metadata": {},
   "outputs": [
    {
     "name": "stdout",
     "output_type": "stream",
     "text": [
      "1225.1165211263412\n"
     ]
    }
   ],
   "source": [
    "print(min_cost_sequential)"
   ]
  },
  {
   "cell_type": "code",
   "execution_count": 203,
   "metadata": {},
   "outputs": [
    {
     "data": {
      "text/plain": [
       "array([[0.28395062, 0.59259259, 0.11111111, 0.01234568],\n",
       "       [0.2       , 0.56      , 0.12      , 0.12      ],\n",
       "       [0.3125    , 0.5625    , 0.125     , 0.        ],\n",
       "       [0.35185185, 0.40740741, 0.22222222, 0.01851852],\n",
       "       [0.38095238, 0.42857143, 0.16666667, 0.02380952],\n",
       "       [0.22878229, 0.52859779, 0.19280443, 0.0498155 ],\n",
       "       [0.29268293, 0.51219512, 0.12195122, 0.07317073],\n",
       "       [0.19047619, 0.42857143, 0.38095238, 0.        ],\n",
       "       [0.25641026, 0.51282051, 0.23076923, 0.        ],\n",
       "       [0.24390244, 0.56097561, 0.17073171, 0.02439024],\n",
       "       [0.15976331, 0.62130178, 0.19526627, 0.02366864],\n",
       "       [0.25327511, 0.50218341, 0.22270742, 0.02183406],\n",
       "       [0.13483146, 0.69662921, 0.14606742, 0.02247191],\n",
       "       [0.25      , 0.53571429, 0.14285714, 0.07142857]])"
      ]
     },
     "execution_count": 203,
     "metadata": {},
     "output_type": "execute_result"
    }
   ],
   "source": [
    "get_pmat_q_youden(list_partition_matrices[min_index])"
   ]
  },
  {
   "cell_type": "markdown",
   "metadata": {},
   "source": [
    "# Get the pmat and cost under direct triage"
   ]
  },
  {
   "cell_type": "code",
   "execution_count": 204,
   "metadata": {},
   "outputs": [
    {
     "data": {
      "text/plain": [
       "array([[0., 0., 0., ..., 1., 0., 0.],\n",
       "       [0., 0., 0., ..., 0., 1., 0.],\n",
       "       [0., 0., 0., ..., 0., 0., 0.],\n",
       "       ...,\n",
       "       [0., 0., 0., ..., 0., 0., 0.],\n",
       "       [0., 0., 0., ..., 0., 0., 0.],\n",
       "       [0., 0., 0., ..., 1., 0., 0.]], dtype=float32)"
      ]
     },
     "execution_count": 204,
     "metadata": {},
     "output_type": "execute_result"
    }
   ],
   "source": [
    "test_Y"
   ]
  },
  {
   "cell_type": "code",
   "execution_count": 205,
   "metadata": {},
   "outputs": [],
   "source": [
    "multi_disease_model_p = MakeModel1(imageSize, batchSize, channels)\n",
    "multi_disease_model_p.add(Dense(queues, activation = 'softmax'))\n",
    "multi_disease_model_p.load_weights(\"xray_class_weights.best.direct_r_1.8_rho_0.90.january_2022.hdf5\")"
   ]
  },
  {
   "cell_type": "code",
   "execution_count": 206,
   "metadata": {},
   "outputs": [
    {
     "name": "stdout",
     "output_type": "stream",
     "text": [
      "2000/2000 [==============================] - 27s 13ms/step\n"
     ]
    }
   ],
   "source": [
    "pred_Y_direct = multi_disease_model_p.predict(test_X, batch_size = 1, verbose = True)"
   ]
  },
  {
   "cell_type": "code",
   "execution_count": 207,
   "metadata": {},
   "outputs": [
    {
     "data": {
      "text/plain": [
       "array([[9.9855788e-06, 1.5601827e-05, 8.2528277e-04, 9.9914908e-01],\n",
       "       [8.1099137e-07, 9.3266106e-04, 9.9602991e-01, 3.0365882e-03],\n",
       "       [1.2322229e-06, 9.9862146e-01, 1.3768692e-03, 4.8830981e-07],\n",
       "       ...,\n",
       "       [5.1440048e-07, 9.9473625e-01, 5.2595926e-03, 3.6976733e-06],\n",
       "       [4.9209814e-07, 9.9436826e-01, 5.6272238e-03, 4.0953369e-06],\n",
       "       [9.9855697e-06, 1.5601812e-05, 8.2528120e-04, 9.9914908e-01]],\n",
       "      dtype=float32)"
      ]
     },
     "execution_count": 207,
     "metadata": {},
     "output_type": "execute_result"
    }
   ],
   "source": [
    "pred_Y_direct"
   ]
  },
  {
   "cell_type": "code",
   "execution_count": 208,
   "metadata": {},
   "outputs": [],
   "source": [
    "pred_Y_direct = tf.one_hot(tf.argmax(np.array(pred_Y_direct),axis=1), depth = 4)"
   ]
  },
  {
   "cell_type": "code",
   "execution_count": 209,
   "metadata": {},
   "outputs": [],
   "source": [
    "pmat=np.dot(np.transpose(test_Y),pred_Y_direct)"
   ]
  },
  {
   "cell_type": "code",
   "execution_count": 210,
   "metadata": {},
   "outputs": [
    {
     "data": {
      "text/plain": [
       "<tf.Tensor: shape=(2000, 4), dtype=float32, numpy=\n",
       "array([[0., 0., 0., 1.],\n",
       "       [0., 0., 1., 0.],\n",
       "       [0., 1., 0., 0.],\n",
       "       ...,\n",
       "       [0., 1., 0., 0.],\n",
       "       [0., 1., 0., 0.],\n",
       "       [0., 0., 0., 1.]], dtype=float32)>"
      ]
     },
     "execution_count": 210,
     "metadata": {},
     "output_type": "execute_result"
    }
   ],
   "source": [
    "pred_Y_direct"
   ]
  },
  {
   "cell_type": "code",
   "execution_count": 213,
   "metadata": {},
   "outputs": [
    {
     "data": {
      "text/plain": [
       "array([[  0.,  61.,  16.,   4.],\n",
       "       [  0.,  17.,   8.,   0.],\n",
       "       [  0.,  15.,   0.,   1.],\n",
       "       [  0.,  43.,   9.,   2.],\n",
       "       [  0.,  28.,  14.,   0.],\n",
       "       [  0., 658., 315., 111.],\n",
       "       [  0.,  32.,   9.,   0.],\n",
       "       [  0.,  15.,   4.,   2.],\n",
       "       [  0.,  25.,   7.,   7.],\n",
       "       [  0.,  63.,  15.,   4.],\n",
       "       [  0., 118.,  40.,  11.],\n",
       "       [  0., 148.,  56.,  25.],\n",
       "       [  0.,  53.,  28.,   8.],\n",
       "       [  0.,   5.,   4.,  19.]], dtype=float32)"
      ]
     },
     "execution_count": 213,
     "metadata": {},
     "output_type": "execute_result"
    }
   ],
   "source": [
    "pmat"
   ]
  },
  {
   "cell_type": "code",
   "execution_count": 214,
   "metadata": {},
   "outputs": [],
   "source": [
    "pmat_direct_r_1_8_rho_0_9=pmat/pmat.sum(axis=1,keepdims=True)"
   ]
  },
  {
   "cell_type": "code",
   "execution_count": 215,
   "metadata": {},
   "outputs": [
    {
     "data": {
      "text/plain": [
       "numpy.ndarray"
      ]
     },
     "execution_count": 215,
     "metadata": {},
     "output_type": "execute_result"
    }
   ],
   "source": [
    "type(pmat_direct_r_1_8_rho_0_9)"
   ]
  },
  {
   "cell_type": "code",
   "execution_count": 216,
   "metadata": {},
   "outputs": [
    {
     "data": {
      "text/plain": [
       "numpy.ndarray"
      ]
     },
     "execution_count": 216,
     "metadata": {},
     "output_type": "execute_result"
    }
   ],
   "source": [
    "type(get_pmat_q_youden(list_partition_matrices[min_index]))"
   ]
  },
  {
   "cell_type": "code",
   "execution_count": 217,
   "metadata": {},
   "outputs": [
    {
     "data": {
      "text/plain": [
       "array([[0.        , 0.75308645, 0.19753087, 0.04938272],\n",
       "       [0.        , 0.68      , 0.32      , 0.        ],\n",
       "       [0.        , 0.9375    , 0.        , 0.0625    ],\n",
       "       [0.        , 0.7962963 , 0.16666667, 0.03703704],\n",
       "       [0.        , 0.6666667 , 0.33333334, 0.        ],\n",
       "       [0.        , 0.6070111 , 0.2905904 , 0.10239852],\n",
       "       [0.        , 0.7804878 , 0.2195122 , 0.        ],\n",
       "       [0.        , 0.71428573, 0.1904762 , 0.0952381 ],\n",
       "       [0.        , 0.64102566, 0.17948718, 0.17948718],\n",
       "       [0.        , 0.76829267, 0.18292683, 0.04878049],\n",
       "       [0.        , 0.69822484, 0.2366864 , 0.06508876],\n",
       "       [0.        , 0.6462882 , 0.24454148, 0.1091703 ],\n",
       "       [0.        , 0.5955056 , 0.31460676, 0.08988764],\n",
       "       [0.        , 0.17857143, 0.14285715, 0.6785714 ]], dtype=float32)"
      ]
     },
     "execution_count": 217,
     "metadata": {},
     "output_type": "execute_result"
    }
   ],
   "source": [
    "np.array(pmat_direct_r_1_8_rho_0_9)"
   ]
  },
  {
   "cell_type": "code",
   "execution_count": 218,
   "metadata": {},
   "outputs": [
    {
     "data": {
      "text/plain": [
       "472.5611056262567"
      ]
     },
     "execution_count": 218,
     "metadata": {},
     "output_type": "execute_result"
    }
   ],
   "source": [
    "queue_wait_cost(np.array(pmat_direct_r_1_8_rho_0_9),get_costs_types(1.8),get_arrival_rates_types(all_xray_df),get_service_rates_types(0.9))"
   ]
  },
  {
   "cell_type": "code",
   "execution_count": 219,
   "metadata": {},
   "outputs": [
    {
     "data": {
      "text/plain": [
       "1225.1165211263412"
      ]
     },
     "execution_count": 219,
     "metadata": {},
     "output_type": "execute_result"
    }
   ],
   "source": [
    "queue_wait_cost(get_pmat_q_youden(list_partition_matrices[min_index]),get_costs_types(1.8),get_arrival_rates_types(all_xray_df),get_service_rates_types(0.9))"
   ]
  },
  {
   "cell_type": "code",
   "execution_count": 265,
   "metadata": {},
   "outputs": [
    {
     "data": {
      "text/plain": [
       "array([[0.68085106, 0.17021277, 0.10638298, 0.04255319],\n",
       "       [0.61290323, 0.19354839, 0.16129032, 0.03225806],\n",
       "       [0.36842105, 0.52631579, 0.10526316, 0.        ],\n",
       "       [0.38709677, 0.61290323, 0.        , 0.        ],\n",
       "       [0.4025974 , 0.55844156, 0.03896104, 0.        ],\n",
       "       [0.5497076 , 0.38596491, 0.04678363, 0.01754386],\n",
       "       [0.30837004, 0.4185022 , 0.18502203, 0.08810573],\n",
       "       [0.29787234, 0.4893617 , 0.12765957, 0.08510638],\n",
       "       [0.03571429, 0.39285714, 0.57142857, 0.        ],\n",
       "       [0.4137931 , 0.24137931, 0.24137931, 0.10344828],\n",
       "       [0.29411765, 0.29411765, 0.29411765, 0.11764706],\n",
       "       [0.24      , 0.36      , 0.26      , 0.14      ],\n",
       "       [0.31372549, 0.31372549, 0.29411765, 0.07843137],\n",
       "       [0.16188714, 0.41720629, 0.226642  , 0.19426457]])"
      ]
     },
     "execution_count": 265,
     "metadata": {},
     "output_type": "execute_result"
    }
   ],
   "source": [
    "get_pmat_q_youden(list_partition_matrices[min_index])"
   ]
  },
  {
   "cell_type": "code",
   "execution_count": null,
   "metadata": {},
   "outputs": [],
   "source": []
  }
 ],
 "metadata": {
  "kernelspec": {
   "display_name": "Python 3",
   "language": "python",
   "name": "python3"
  },
  "language_info": {
   "codemirror_mode": {
    "name": "ipython",
    "version": 3
   },
   "file_extension": ".py",
   "mimetype": "text/x-python",
   "name": "python",
   "nbconvert_exporter": "python",
   "pygments_lexer": "ipython3",
   "version": "3.7.10"
  }
 },
 "nbformat": 4,
 "nbformat_minor": 1
}
