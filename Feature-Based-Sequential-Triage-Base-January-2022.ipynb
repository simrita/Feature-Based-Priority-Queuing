{
 "cells": [
  {
   "cell_type": "code",
   "execution_count": null,
   "metadata": {},
   "outputs": [],
   "source": [
    "from platform import python_version\n",
    "print(python_version())"
   ]
  },
  {
   "cell_type": "markdown",
   "metadata": {},
   "source": [
    "A: The usage of the data set is unrestricted. But you should provide the link to our original download site, acknowledge the NIH Clinical Center and provide a citation to our CVPR 2017 paper"
   ]
  },
  {
   "cell_type": "markdown",
   "metadata": {},
   "source": [
    "A: ‘No finding’ means the 14 listed disease patterns are not found in the image. "
   ]
  },
  {
   "cell_type": "markdown",
   "metadata": {},
   "source": [
    "https://www.kaggle.com/nih-chest-xrays/data\n",
    "\n",
    "Citations\n",
    "Wang X, Peng Y, Lu L, Lu Z, Bagheri M, Summers RM. ChestX-ray8: Hospital-scale Chest X-ray Database and Benchmarks on Weakly-Supervised Classification and Localization of Common Thorax Diseases. IEEE CVPR 2017, ChestX-ray8_Hospital-Scale_Chest_CVPR_2017_paper.pdf\n",
    "\n",
    "NIH News release: NIH Clinical Center provides one of the largest publicly available chest x-ray datasets to scientific community\n",
    "\n",
    "Original source files and documents: https://nihcc.app.box.com/v/ChestXray-NIHCC/folder/36938765345"
   ]
  },
  {
   "cell_type": "markdown",
   "metadata": {},
   "source": [
    "### Context Behind Dataset for Final Writeup:"
   ]
  },
  {
   "cell_type": "markdown",
   "metadata": {},
   "source": [
    "Dataset was gathered by the NIH and contains over 100,000 anonymized chest x-ray images from more than 30,000 patients.  "
   ]
  },
  {
   "cell_type": "markdown",
   "metadata": {
    "_cell_guid": "19ff9d0b-d32d-4325-a19f-2ccbfa7d2dff",
    "_uuid": "9206c5863724e1af01281071e0f0ee5109ef431b"
   },
   "source": [
    "# Goal\n",
    "The goal is to use a simple model to classify x-ray images in Keras"
   ]
  },
  {
   "cell_type": "code",
   "execution_count": 10,
   "metadata": {
    "_cell_guid": "f42f6560-edf0-4efb-85a6-6e945e50895b",
    "_uuid": "3300a1edbf2e8122d88093998eb503a6fab8a719"
   },
   "outputs": [
    {
     "name": "stderr",
     "output_type": "stream",
     "text": [
      "\n",
      "Bad key \"text.kerning_factor\" on line 4 in\n",
      "/home/ubuntu/anaconda3/lib/python3.7/site-packages/matplotlib/mpl-data/stylelib/_classic_test_patch.mplstyle.\n",
      "You probably need to get an updated matplotlibrc file from\n",
      "http://github.com/matplotlib/matplotlib/blob/master/matplotlibrc.template\n",
      "or from the matplotlib source distribution\n"
     ]
    }
   ],
   "source": [
    "import numpy as np # linear algebra\n",
    "import pandas as pd # data processing, CSV file I/O (e.g. pd.read_csv)\n",
    "import os\n",
    "from glob import glob\n",
    "%matplotlib inline\n",
    "import matplotlib.pyplot as plt"
   ]
  },
  {
   "cell_type": "code",
   "execution_count": 11,
   "metadata": {},
   "outputs": [],
   "source": [
    "import tensorflow"
   ]
  },
  {
   "cell_type": "code",
   "execution_count": 12,
   "metadata": {},
   "outputs": [
    {
     "data": {
      "text/plain": [
       "[('00018942_001.png', '../data/images_009/images/00018942_001.png'),\n",
       " ('00020323_001.png', '../data/images_009/images/00020323_001.png'),\n",
       " ('00018730_001.png', '../data/images_009/images/00018730_001.png'),\n",
       " ('00019551_000.png', '../data/images_009/images/00019551_000.png')]"
      ]
     },
     "execution_count": 12,
     "metadata": {},
     "output_type": "execute_result"
    }
   ],
   "source": [
    "all_xray_df = pd.read_csv('../data/Data_Entry_2017.csv')\n",
    "folderlist = glob(os.path.join('../data', 'images*'))\n",
    "imglist = []\n",
    "for folder in folderlist:\n",
    "    tmp = glob(os.path.join(folder, \"images\", \"*.png\"))\n",
    "    imglist += tmp\n",
    "all_image_paths = {os.path.basename(x): x for x in imglist}\n",
    "#{k:all_image_paths[k] for k in all_image_paths.keys()[:5]}\n",
    "list(all_image_paths.items())[:4]\n",
    "# all_image_paths = {os.path.basename(x): x for x in \n",
    "#                    glob(os.path.join('.', 'data', 'images*', '*.png'))}\n",
    "\n"
   ]
  },
  {
   "cell_type": "code",
   "execution_count": 13,
   "metadata": {},
   "outputs": [
    {
     "name": "stdout",
     "output_type": "stream",
     "text": [
      "Scans found: 112120 , Total Headers 112120\n",
      "[('00002587_005.png', '../data/images_002/images/00002587_005.png'), ('00002588_000.png', '../data/images_002/images/00002588_000.png'), ('00002589_000.png', '../data/images_002/images/00002589_000.png'), ('00002589_001.png', '../data/images_002/images/00002589_001.png')]\n"
     ]
    },
    {
     "data": {
      "text/html": [
       "<div>\n",
       "<style scoped>\n",
       "    .dataframe tbody tr th:only-of-type {\n",
       "        vertical-align: middle;\n",
       "    }\n",
       "\n",
       "    .dataframe tbody tr th {\n",
       "        vertical-align: top;\n",
       "    }\n",
       "\n",
       "    .dataframe thead th {\n",
       "        text-align: right;\n",
       "    }\n",
       "</style>\n",
       "<table border=\"1\" class=\"dataframe\">\n",
       "  <thead>\n",
       "    <tr style=\"text-align: right;\">\n",
       "      <th></th>\n",
       "      <th>Image Index</th>\n",
       "      <th>Finding Labels</th>\n",
       "      <th>Follow-up #</th>\n",
       "      <th>Patient ID</th>\n",
       "      <th>Patient Age</th>\n",
       "      <th>Patient Gender</th>\n",
       "      <th>View Position</th>\n",
       "      <th>OriginalImage[Width</th>\n",
       "      <th>Height]</th>\n",
       "      <th>OriginalImagePixelSpacing[x</th>\n",
       "      <th>y]</th>\n",
       "      <th>Unnamed: 11</th>\n",
       "      <th>path</th>\n",
       "    </tr>\n",
       "  </thead>\n",
       "  <tbody>\n",
       "    <tr>\n",
       "      <th>91714</th>\n",
       "      <td>00022870_018.png</td>\n",
       "      <td>Atelectasis</td>\n",
       "      <td>18</td>\n",
       "      <td>22870</td>\n",
       "      <td>62</td>\n",
       "      <td>M</td>\n",
       "      <td>AP</td>\n",
       "      <td>3056</td>\n",
       "      <td>2544</td>\n",
       "      <td>0.139</td>\n",
       "      <td>0.139</td>\n",
       "      <td>NaN</td>\n",
       "      <td>../data/images_010/images/00022870_018.png</td>\n",
       "    </tr>\n",
       "    <tr>\n",
       "      <th>58956</th>\n",
       "      <td>00014594_000.png</td>\n",
       "      <td>No Finding</td>\n",
       "      <td>0</td>\n",
       "      <td>14594</td>\n",
       "      <td>25</td>\n",
       "      <td>M</td>\n",
       "      <td>PA</td>\n",
       "      <td>2992</td>\n",
       "      <td>2991</td>\n",
       "      <td>0.143</td>\n",
       "      <td>0.143</td>\n",
       "      <td>NaN</td>\n",
       "      <td>../data/images_007/images/00014594_000.png</td>\n",
       "    </tr>\n",
       "    <tr>\n",
       "      <th>35036</th>\n",
       "      <td>00009237_025.png</td>\n",
       "      <td>Nodule</td>\n",
       "      <td>25</td>\n",
       "      <td>9237</td>\n",
       "      <td>52</td>\n",
       "      <td>F</td>\n",
       "      <td>PA</td>\n",
       "      <td>2662</td>\n",
       "      <td>2511</td>\n",
       "      <td>0.143</td>\n",
       "      <td>0.143</td>\n",
       "      <td>NaN</td>\n",
       "      <td>../data/images_005/images/00009237_025.png</td>\n",
       "    </tr>\n",
       "  </tbody>\n",
       "</table>\n",
       "</div>"
      ],
      "text/plain": [
       "            Image Index Finding Labels  Follow-up #  Patient ID  Patient Age  \\\n",
       "91714  00022870_018.png    Atelectasis           18       22870           62   \n",
       "58956  00014594_000.png     No Finding            0       14594           25   \n",
       "35036  00009237_025.png         Nodule           25        9237           52   \n",
       "\n",
       "      Patient Gender View Position  OriginalImage[Width  Height]  \\\n",
       "91714              M            AP                 3056     2544   \n",
       "58956              M            PA                 2992     2991   \n",
       "35036              F            PA                 2662     2511   \n",
       "\n",
       "       OriginalImagePixelSpacing[x     y]  Unnamed: 11  \\\n",
       "91714                        0.139  0.139          NaN   \n",
       "58956                        0.143  0.143          NaN   \n",
       "35036                        0.143  0.143          NaN   \n",
       "\n",
       "                                             path  \n",
       "91714  ../data/images_010/images/00022870_018.png  \n",
       "58956  ../data/images_007/images/00014594_000.png  \n",
       "35036  ../data/images_005/images/00009237_025.png  "
      ]
     },
     "execution_count": 13,
     "metadata": {},
     "output_type": "execute_result"
    }
   ],
   "source": [
    "print('Scans found:', len(all_image_paths), ', Total Headers', all_xray_df.shape[0])\n",
    "num_selected = 10000\n",
    "tmp = {key: all_image_paths[key] for key in sorted(list(all_image_paths.keys()))[num_selected:]}\n",
    "print(list(tmp.items())[:4])\n",
    "all_xray_df['path'] = all_xray_df['Image Index'][num_selected:].map(tmp.get)\n",
    "all_xray_df = all_xray_df[num_selected:]\n",
    "all_xray_df.sample(3)"
   ]
  },
  {
   "cell_type": "code",
   "execution_count": 14,
   "metadata": {
    "scrolled": true
   },
   "outputs": [
    {
     "data": {
      "text/plain": [
       "No Finding                                                                         54652\n",
       "Infiltration                                                                        8734\n",
       "Atelectasis                                                                         3848\n",
       "Effusion                                                                            3659\n",
       "Nodule                                                                              2495\n",
       "Mass                                                                                2015\n",
       "Pneumothorax                                                                        1972\n",
       "Effusion|Infiltration                                                               1511\n",
       "Atelectasis|Infiltration                                                            1237\n",
       "Consolidation                                                                       1199\n",
       "Atelectasis|Effusion                                                                1091\n",
       "Pleural_Thickening                                                                  1004\n",
       "Cardiomegaly                                                                         981\n",
       "Emphysema                                                                            795\n",
       "Infiltration|Nodule                                                                  764\n",
       "Atelectasis|Effusion|Infiltration                                                    696\n",
       "Edema                                                                                590\n",
       "Fibrosis                                                                             580\n",
       "Cardiomegaly|Effusion                                                                431\n",
       "Effusion|Mass                                                                        390\n",
       "Infiltration|Mass                                                                    390\n",
       "Consolidation|Infiltration                                                           389\n",
       "Effusion|Pneumothorax                                                                384\n",
       "Mass|Nodule                                                                          380\n",
       "Edema|Infiltration                                                                   371\n",
       "Atelectasis|Consolidation                                                            363\n",
       "Emphysema|Pneumothorax                                                               313\n",
       "Infiltration|Pneumothorax                                                            312\n",
       "Consolidation|Effusion                                                               306\n",
       "Pneumonia                                                                            283\n",
       "                                                                                   ...  \n",
       "Consolidation|Effusion|Infiltration|Mass|Nodule|Pleural_Thickening|Pneumonia           1\n",
       "Edema|Effusion|Infiltration|Pneumothorax                                               1\n",
       "Atelectasis|Mass|Nodule|Pneumothorax                                                   1\n",
       "Nodule|Pneumonia|Mass                                                                  1\n",
       "Atelectasis|Edema|Emphysema|Nodule                                                     1\n",
       "Emphysema|Pneumonia|Pneumothorax                                                       1\n",
       "Fibrosis|Hernia|Infiltration                                                           1\n",
       "Atelectasis|Cardiomegaly|Effusion|Mass|Nodule                                          1\n",
       "Pneumothorax|Atelectasis                                                               1\n",
       "Consolidation|Edema|Effusion|Mass|Nodule                                               1\n",
       "Consolidation|Effusion|Infiltration|Mass|Nodule|Pleural_Thickening|Pneumothorax        1\n",
       "Consolidation|Emphysema|Mass|Pneumothorax                                              1\n",
       "Cardiomegaly|Consolidation|Effusion|Infiltration|Mass                                  1\n",
       "Atelectasis|Emphysema|Infiltration|Pneumothorax|Pneumonia                              1\n",
       "Edema|Infiltration|Mass|Nodule|Pneumonia                                               1\n",
       "Edema|Mass|Pleural_Thickening                                                          1\n",
       "Edema|Fibrosis                                                                         1\n",
       "Edema|Fibrosis|Infiltration|Mass|Nodule                                                1\n",
       "Atelectasis|Cardiomegaly|Consolidation|Edema|Effusion|Mass                             1\n",
       "Cardiomegaly|Hernia                                                                    1\n",
       "Consolidation|Effusion|Fibrosis|Mass|Nodule|Pleural_Thickening                         1\n",
       "Cardiomegaly|Fibrosis|Pneumothorax                                                     1\n",
       "Consolidation|Infiltration|Mass|Nodule|Pleural_Thickening                              1\n",
       "Atelectasis|Consolidation|Effusion|Fibrosis|Infiltration|Mass                          1\n",
       "Fibrosis|Infiltration|Nodule|Pleural_Thickening                                        1\n",
       "Atelectasis|Emphysema|Mass|Pleural_Thickening|Pneumothorax                             1\n",
       "Atelectasis|Nodule|Pleural_Thickening|Pneumothorax                                     1\n",
       "Consolidation|Mass|Nodule|Pneumonia                                                    1\n",
       "Atelectasis|Cardiomegaly|Effusion|Fibrosis|Nodule                                      1\n",
       "Pneumothorax|Mass                                                                      1\n",
       "Name: Finding Labels, Length: 807, dtype: int64"
      ]
     },
     "execution_count": 14,
     "metadata": {},
     "output_type": "execute_result"
    }
   ],
   "source": [
    "label_counts = all_xray_df['Finding Labels'].value_counts()\n",
    "label_counts"
   ]
  },
  {
   "cell_type": "markdown",
   "metadata": {
    "_cell_guid": "0d674a43-170f-4ca6-a9b4-edc64ab89c35",
    "_uuid": "9a1669750b7cffcae1b7a2eb4307b85472dff192"
   },
   "source": [
    "# Preprocessing Labels\n",
    "Here we take the labels and make them into a more clear format. The primary step is to see the distribution of findings and then to convert them to simple binary labels"
   ]
  },
  {
   "cell_type": "code",
   "execution_count": 15,
   "metadata": {
    "_cell_guid": "d75ed03e-986d-4f3f-81af-c910d194f390",
    "_uuid": "0c5123f65edf349f8ad2e5c5f55ac484d974f5c7"
   },
   "outputs": [
    {
     "data": {
      "image/png": "[encoded data removed]",
      "text/plain": [
       "<Figure size 864x576 with 1 Axes>"
      ]
     },
     "metadata": {
      "needs_background": "light"
     },
     "output_type": "display_data"
    }
   ],
   "source": [
    "label_counts = all_xray_df['Finding Labels'].value_counts()[:15]\n",
    "fig, ax1 = plt.subplots(1,1,figsize = (12, 8))\n",
    "ax1.bar(np.arange(len(label_counts))+0.5, label_counts)\n",
    "ax1.set_xticks(np.arange(len(label_counts))+0.5)\n",
    "_ = ax1.set_xticklabels(label_counts.index, rotation = 90)"
   ]
  },
  {
   "cell_type": "code",
   "execution_count": 16,
   "metadata": {
    "_cell_guid": "a9ff3a04-254d-4667-b0a3-869bbd92b08b",
    "_uuid": "78b4425b0a8932bb33864b5a3712611004687a48"
   },
   "outputs": [
    {
     "name": "stdout",
     "output_type": "stream",
     "text": [
      "All Labels (15): ['Atelectasis', 'Cardiomegaly', 'Consolidation', 'Edema', 'Effusion', 'Emphysema', 'Fibrosis', 'Hernia', 'Infiltration', 'Mass', 'No Finding', 'Nodule', 'Pleural_Thickening', 'Pneumonia', 'Pneumothorax']\n"
     ]
    },
    {
     "data": {
      "text/html": [
       "<div>\n",
       "<style scoped>\n",
       "    .dataframe tbody tr th:only-of-type {\n",
       "        vertical-align: middle;\n",
       "    }\n",
       "\n",
       "    .dataframe tbody tr th {\n",
       "        vertical-align: top;\n",
       "    }\n",
       "\n",
       "    .dataframe thead th {\n",
       "        text-align: right;\n",
       "    }\n",
       "</style>\n",
       "<table border=\"1\" class=\"dataframe\">\n",
       "  <thead>\n",
       "    <tr style=\"text-align: right;\">\n",
       "      <th></th>\n",
       "      <th>Image Index</th>\n",
       "      <th>Finding Labels</th>\n",
       "      <th>Follow-up #</th>\n",
       "      <th>Patient ID</th>\n",
       "      <th>Patient Age</th>\n",
       "      <th>Patient Gender</th>\n",
       "      <th>View Position</th>\n",
       "      <th>OriginalImage[Width</th>\n",
       "      <th>Height]</th>\n",
       "      <th>OriginalImagePixelSpacing[x</th>\n",
       "      <th>...</th>\n",
       "      <th>Emphysema</th>\n",
       "      <th>Fibrosis</th>\n",
       "      <th>Hernia</th>\n",
       "      <th>Infiltration</th>\n",
       "      <th>Mass</th>\n",
       "      <th>No Finding</th>\n",
       "      <th>Nodule</th>\n",
       "      <th>Pleural_Thickening</th>\n",
       "      <th>Pneumonia</th>\n",
       "      <th>Pneumothorax</th>\n",
       "    </tr>\n",
       "  </thead>\n",
       "  <tbody>\n",
       "    <tr>\n",
       "      <th>75203</th>\n",
       "      <td>00018451_002.png</td>\n",
       "      <td>Infiltration</td>\n",
       "      <td>2</td>\n",
       "      <td>18451</td>\n",
       "      <td>52</td>\n",
       "      <td>F</td>\n",
       "      <td>PA</td>\n",
       "      <td>2774</td>\n",
       "      <td>2991</td>\n",
       "      <td>0.143</td>\n",
       "      <td>...</td>\n",
       "      <td>0.0</td>\n",
       "      <td>0.0</td>\n",
       "      <td>0.0</td>\n",
       "      <td>1.0</td>\n",
       "      <td>0.0</td>\n",
       "      <td>0.0</td>\n",
       "      <td>0.0</td>\n",
       "      <td>0.0</td>\n",
       "      <td>0.0</td>\n",
       "      <td>0.0</td>\n",
       "    </tr>\n",
       "    <tr>\n",
       "      <th>11971</th>\n",
       "      <td>00003122_018.png</td>\n",
       "      <td>No Finding</td>\n",
       "      <td>18</td>\n",
       "      <td>3122</td>\n",
       "      <td>58</td>\n",
       "      <td>M</td>\n",
       "      <td>AP</td>\n",
       "      <td>2500</td>\n",
       "      <td>2048</td>\n",
       "      <td>0.168</td>\n",
       "      <td>...</td>\n",
       "      <td>0.0</td>\n",
       "      <td>0.0</td>\n",
       "      <td>0.0</td>\n",
       "      <td>0.0</td>\n",
       "      <td>0.0</td>\n",
       "      <td>1.0</td>\n",
       "      <td>0.0</td>\n",
       "      <td>0.0</td>\n",
       "      <td>0.0</td>\n",
       "      <td>0.0</td>\n",
       "    </tr>\n",
       "    <tr>\n",
       "      <th>38430</th>\n",
       "      <td>00010049_000.png</td>\n",
       "      <td>No Finding</td>\n",
       "      <td>0</td>\n",
       "      <td>10049</td>\n",
       "      <td>31</td>\n",
       "      <td>M</td>\n",
       "      <td>PA</td>\n",
       "      <td>2346</td>\n",
       "      <td>2991</td>\n",
       "      <td>0.143</td>\n",
       "      <td>...</td>\n",
       "      <td>0.0</td>\n",
       "      <td>0.0</td>\n",
       "      <td>0.0</td>\n",
       "      <td>0.0</td>\n",
       "      <td>0.0</td>\n",
       "      <td>1.0</td>\n",
       "      <td>0.0</td>\n",
       "      <td>0.0</td>\n",
       "      <td>0.0</td>\n",
       "      <td>0.0</td>\n",
       "    </tr>\n",
       "  </tbody>\n",
       "</table>\n",
       "<p>3 rows × 28 columns</p>\n",
       "</div>"
      ],
      "text/plain": [
       "            Image Index Finding Labels  Follow-up #  Patient ID  Patient Age  \\\n",
       "75203  00018451_002.png   Infiltration            2       18451           52   \n",
       "11971  00003122_018.png     No Finding           18        3122           58   \n",
       "38430  00010049_000.png     No Finding            0       10049           31   \n",
       "\n",
       "      Patient Gender View Position  OriginalImage[Width  Height]  \\\n",
       "75203              F            PA                 2774     2991   \n",
       "11971              M            AP                 2500     2048   \n",
       "38430              M            PA                 2346     2991   \n",
       "\n",
       "       OriginalImagePixelSpacing[x  ...  Emphysema  Fibrosis Hernia  \\\n",
       "75203                        0.143  ...        0.0       0.0    0.0   \n",
       "11971                        0.168  ...        0.0       0.0    0.0   \n",
       "38430                        0.143  ...        0.0       0.0    0.0   \n",
       "\n",
       "       Infiltration  Mass  No Finding  Nodule  Pleural_Thickening  Pneumonia  \\\n",
       "75203           1.0   0.0         0.0     0.0                 0.0        0.0   \n",
       "11971           0.0   0.0         1.0     0.0                 0.0        0.0   \n",
       "38430           0.0   0.0         1.0     0.0                 0.0        0.0   \n",
       "\n",
       "       Pneumothorax  \n",
       "75203           0.0  \n",
       "11971           0.0  \n",
       "38430           0.0  \n",
       "\n",
       "[3 rows x 28 columns]"
      ]
     },
     "execution_count": 16,
     "metadata": {},
     "output_type": "execute_result"
    }
   ],
   "source": [
    "#all_xray_df['Finding Labels'] = all_xray_df['Finding Labels'].map(lambda x: x.replace('No Finding', ''))\n",
    "from itertools import chain\n",
    "all_labels = np.unique(list(chain(*all_xray_df['Finding Labels'].map(lambda x: x.split('|')).tolist())))\n",
    "all_labels = [x for x in all_labels if len(x)>0]\n",
    "print('All Labels ({}): {}'.format(len(all_labels), all_labels))\n",
    "for c_label in all_labels:\n",
    "    if len(c_label)>1: # leave out empty labels\n",
    "        all_xray_df[c_label] = all_xray_df['Finding Labels'].map(lambda finding: 1.0 if c_label in finding else 0)\n",
    "all_xray_df.sample(3)"
   ]
  },
  {
   "cell_type": "code",
   "execution_count": 17,
   "metadata": {},
   "outputs": [
    {
     "data": {
      "text/plain": [
       "['Atelectasis',\n",
       " 'Cardiomegaly',\n",
       " 'Consolidation',\n",
       " 'Edema',\n",
       " 'Effusion',\n",
       " 'Emphysema',\n",
       " 'Fibrosis',\n",
       " 'Hernia',\n",
       " 'Infiltration',\n",
       " 'Mass',\n",
       " 'No Finding',\n",
       " 'Nodule',\n",
       " 'Pleural_Thickening',\n",
       " 'Pneumonia',\n",
       " 'Pneumothorax']"
      ]
     },
     "execution_count": 17,
     "metadata": {},
     "output_type": "execute_result"
    }
   ],
   "source": [
    "all_labels"
   ]
  },
  {
   "cell_type": "markdown",
   "metadata": {
    "_cell_guid": "05b6c7d9-4869-40b5-a70b-53957c69f021",
    "_uuid": "64653f9f57d3a5b952f1f1a709eb70ca38761a0d"
   },
   "source": [
    "### Clean categories\n",
    "Since we have too many categories, we can prune a few out by taking the ones with only a few examples"
   ]
  },
  {
   "cell_type": "code",
   "execution_count": 18,
   "metadata": {
    "_cell_guid": "dd273e26-63ab-4d76-925d-9c1c2c1ba69c",
    "_uuid": "9f368f9ea8947d8fc1dacf3988c58b6a2bf5fffc"
   },
   "outputs": [
    {
     "name": "stdout",
     "output_type": "stream",
     "text": [
      "Clean Labels (14) [('Atelectasis', 10670), ('Cardiomegaly', 2476), ('Consolidation', 4271), ('Edema', 2150), ('Effusion', 12410), ('Emphysema', 2295), ('Fibrosis', 1407), ('Infiltration', 18291), ('Mass', 5454), ('No Finding', 54652), ('Nodule', 5887), ('Pleural_Thickening', 3060), ('Pneumonia', 1296), ('Pneumothorax', 4862)]\n"
     ]
    }
   ],
   "source": [
    "# keep at least 1000 cases\n",
    "MIN_CASES = 1000\n",
    "all_labels = [c_label for c_label in all_labels if all_xray_df[c_label].sum()>MIN_CASES]\n",
    "print('Clean Labels ({})'.format(len(all_labels)), \n",
    "      [(c_label,int(all_xray_df[c_label].sum())) for c_label in all_labels])"
   ]
  },
  {
   "cell_type": "code",
   "execution_count": 19,
   "metadata": {},
   "outputs": [
    {
     "data": {
      "text/html": [
       "<div>\n",
       "<style scoped>\n",
       "    .dataframe tbody tr th:only-of-type {\n",
       "        vertical-align: middle;\n",
       "    }\n",
       "\n",
       "    .dataframe tbody tr th {\n",
       "        vertical-align: top;\n",
       "    }\n",
       "\n",
       "    .dataframe thead th {\n",
       "        text-align: right;\n",
       "    }\n",
       "</style>\n",
       "<table border=\"1\" class=\"dataframe\">\n",
       "  <thead>\n",
       "    <tr style=\"text-align: right;\">\n",
       "      <th></th>\n",
       "      <th>Image Index</th>\n",
       "      <th>Finding Labels</th>\n",
       "      <th>Follow-up #</th>\n",
       "      <th>Patient ID</th>\n",
       "      <th>Patient Age</th>\n",
       "      <th>Patient Gender</th>\n",
       "      <th>View Position</th>\n",
       "      <th>OriginalImage[Width</th>\n",
       "      <th>Height]</th>\n",
       "      <th>OriginalImagePixelSpacing[x</th>\n",
       "      <th>...</th>\n",
       "      <th>Emphysema</th>\n",
       "      <th>Fibrosis</th>\n",
       "      <th>Hernia</th>\n",
       "      <th>Infiltration</th>\n",
       "      <th>Mass</th>\n",
       "      <th>No Finding</th>\n",
       "      <th>Nodule</th>\n",
       "      <th>Pleural_Thickening</th>\n",
       "      <th>Pneumonia</th>\n",
       "      <th>Pneumothorax</th>\n",
       "    </tr>\n",
       "  </thead>\n",
       "  <tbody>\n",
       "    <tr>\n",
       "      <th>86005</th>\n",
       "      <td>00021203_000.png</td>\n",
       "      <td>No Finding</td>\n",
       "      <td>0</td>\n",
       "      <td>21203</td>\n",
       "      <td>42</td>\n",
       "      <td>M</td>\n",
       "      <td>PA</td>\n",
       "      <td>2992</td>\n",
       "      <td>2991</td>\n",
       "      <td>0.143</td>\n",
       "      <td>...</td>\n",
       "      <td>0.0</td>\n",
       "      <td>0.0</td>\n",
       "      <td>0.0</td>\n",
       "      <td>0.0</td>\n",
       "      <td>0.0</td>\n",
       "      <td>1.0</td>\n",
       "      <td>0.0</td>\n",
       "      <td>0.0</td>\n",
       "      <td>0.0</td>\n",
       "      <td>0.0</td>\n",
       "    </tr>\n",
       "    <tr>\n",
       "      <th>43161</th>\n",
       "      <td>00011140_010.png</td>\n",
       "      <td>No Finding</td>\n",
       "      <td>10</td>\n",
       "      <td>11140</td>\n",
       "      <td>40</td>\n",
       "      <td>F</td>\n",
       "      <td>AP</td>\n",
       "      <td>2500</td>\n",
       "      <td>2048</td>\n",
       "      <td>0.168</td>\n",
       "      <td>...</td>\n",
       "      <td>0.0</td>\n",
       "      <td>0.0</td>\n",
       "      <td>0.0</td>\n",
       "      <td>0.0</td>\n",
       "      <td>0.0</td>\n",
       "      <td>1.0</td>\n",
       "      <td>0.0</td>\n",
       "      <td>0.0</td>\n",
       "      <td>0.0</td>\n",
       "      <td>0.0</td>\n",
       "    </tr>\n",
       "    <tr>\n",
       "      <th>54781</th>\n",
       "      <td>00013698_000.png</td>\n",
       "      <td>No Finding</td>\n",
       "      <td>0</td>\n",
       "      <td>13698</td>\n",
       "      <td>62</td>\n",
       "      <td>F</td>\n",
       "      <td>PA</td>\n",
       "      <td>2992</td>\n",
       "      <td>2991</td>\n",
       "      <td>0.143</td>\n",
       "      <td>...</td>\n",
       "      <td>0.0</td>\n",
       "      <td>0.0</td>\n",
       "      <td>0.0</td>\n",
       "      <td>0.0</td>\n",
       "      <td>0.0</td>\n",
       "      <td>1.0</td>\n",
       "      <td>0.0</td>\n",
       "      <td>0.0</td>\n",
       "      <td>0.0</td>\n",
       "      <td>0.0</td>\n",
       "    </tr>\n",
       "  </tbody>\n",
       "</table>\n",
       "<p>3 rows × 28 columns</p>\n",
       "</div>"
      ],
      "text/plain": [
       "            Image Index Finding Labels  Follow-up #  Patient ID  Patient Age  \\\n",
       "86005  00021203_000.png     No Finding            0       21203           42   \n",
       "43161  00011140_010.png     No Finding           10       11140           40   \n",
       "54781  00013698_000.png     No Finding            0       13698           62   \n",
       "\n",
       "      Patient Gender View Position  OriginalImage[Width  Height]  \\\n",
       "86005              M            PA                 2992     2991   \n",
       "43161              F            AP                 2500     2048   \n",
       "54781              F            PA                 2992     2991   \n",
       "\n",
       "       OriginalImagePixelSpacing[x  ...  Emphysema  Fibrosis Hernia  \\\n",
       "86005                        0.143  ...        0.0       0.0    0.0   \n",
       "43161                        0.168  ...        0.0       0.0    0.0   \n",
       "54781                        0.143  ...        0.0       0.0    0.0   \n",
       "\n",
       "       Infiltration  Mass  No Finding  Nodule  Pleural_Thickening  Pneumonia  \\\n",
       "86005           0.0   0.0         1.0     0.0                 0.0        0.0   \n",
       "43161           0.0   0.0         1.0     0.0                 0.0        0.0   \n",
       "54781           0.0   0.0         1.0     0.0                 0.0        0.0   \n",
       "\n",
       "       Pneumothorax  \n",
       "86005           0.0  \n",
       "43161           0.0  \n",
       "54781           0.0  \n",
       "\n",
       "[3 rows x 28 columns]"
      ]
     },
     "execution_count": 19,
     "metadata": {},
     "output_type": "execute_result"
    }
   ],
   "source": [
    "all_xray_df.sample(3)"
   ]
  },
  {
   "cell_type": "code",
   "execution_count": 20,
   "metadata": {},
   "outputs": [
    {
     "name": "stdout",
     "output_type": "stream",
     "text": [
      "Atelectasis: 0.104485\n",
      "Cardiomegaly: 0.024246\n",
      "Consolidation: 0.041823\n",
      "Edema: 0.021054\n",
      "Effusion: 0.121524\n",
      "Emphysema: 0.022474\n",
      "Fibrosis: 0.013778\n",
      "Infiltration: 0.179113\n",
      "Mass: 0.053408\n",
      "No Finding: 0.535174\n",
      "Nodule: 0.057648\n",
      "Pleural_Thickening: 0.029965\n",
      "Pneumonia: 0.012691\n",
      "Pneumothorax: 0.047611\n",
      "[0.08259729 0.01916691 0.03306214 0.01664331 0.09606676 0.01776577\n",
      " 0.01089169 0.14159203 0.04221983 0.42306531 0.04557172 0.02368769\n",
      " 0.01003244 0.03763711]\n"
     ]
    }
   ],
   "source": [
    "for c_label, s_count in zip(all_labels, np.mean(all_xray_df[all_labels].values,0)):\n",
    "    print('%s: %f' % (c_label, s_count))\n",
    "arrivals=np.array(np.mean(all_xray_df[all_labels].values,0))\n",
    "arrivals=arrivals/arrivals.sum(axis=0,keepdims=True)\n",
    "print(arrivals)"
   ]
  },
  {
   "cell_type": "code",
   "execution_count": 21,
   "metadata": {},
   "outputs": [
    {
     "name": "stdout",
     "output_type": "stream",
     "text": [
      "Atelectasis           10670.0\n",
      "Cardiomegaly           2476.0\n",
      "Consolidation          4271.0\n",
      "Edema                  2150.0\n",
      "Effusion              12410.0\n",
      "Emphysema              2295.0\n",
      "Fibrosis               1407.0\n",
      "Infiltration          18291.0\n",
      "Mass                   5454.0\n",
      "No Finding            54652.0\n",
      "Nodule                 5887.0\n",
      "Pleural_Thickening     3060.0\n",
      "Pneumonia              1296.0\n",
      "Pneumothorax           4862.0\n",
      "dtype: float64\n"
     ]
    }
   ],
   "source": [
    "print(all_xray_df[all_labels].sum())"
   ]
  },
  {
   "cell_type": "markdown",
   "metadata": {},
   "source": [
    "# Label the type of each image and create a training data-set that is balanced across all image types\n"
   ]
  },
  {
   "cell_type": "code",
   "execution_count": 22,
   "metadata": {},
   "outputs": [],
   "source": [
    "def image_type(X):\n",
    "    if any(item =='Pneumothorax' for item in X):\n",
    "        return 1\n",
    "    elif any(item =='Emphysema' for item in X):\n",
    "        return 2\n",
    "    elif any(item =='Pneumonia' for item in X):\n",
    "        return 3\n",
    "    elif any(item =='Edema' for item in X):\n",
    "        return 4\n",
    "    elif any(item =='Consolidation' for item in X):\n",
    "        return 5\n",
    "    elif any(item =='Effusion' for item in X):\n",
    "        return 6\n",
    "    elif any(item =='Infiltration' for item in X):\n",
    "        return 7\n",
    "    elif any(item =='Atelectasis' for item in X):\n",
    "        return 8\n",
    "    elif any(item =='Cardiomegaly' for item in X):\n",
    "        return 9\n",
    "    elif any(item =='Pleural_Thickening' for item in X):\n",
    "        return 10\n",
    "    elif any(item =='Fibrosis' for item in X):\n",
    "        return 11\n",
    "    elif any(item =='Mass' for item in X):\n",
    "        return 12\n",
    "    elif any(item =='Nodule' for item in X):\n",
    "        return 13\n",
    "    else:\n",
    "        return 14\n",
    "def rank_disease(item):\n",
    "    if item =='Pneumothorax':\n",
    "        return 1\n",
    "    elif item =='Emphysema':\n",
    "        return 2\n",
    "    elif item =='Pneumonia':\n",
    "        return 3\n",
    "    elif item =='Edema':\n",
    "        return 4\n",
    "    elif item =='Consolidation':\n",
    "        return 5\n",
    "    elif item =='Effusion':\n",
    "        return 6\n",
    "    elif item =='Infiltration':\n",
    "        return 7\n",
    "    elif item =='Atelectasis':\n",
    "        return 8\n",
    "    elif item =='Cardiomegaly':\n",
    "        return 9\n",
    "    elif item =='Pleural_Thickening':\n",
    "        return 10\n",
    "    elif item =='Fibrosis':\n",
    "        return 11\n",
    "    elif item =='Mass':\n",
    "        return 12\n",
    "    elif item =='Nodule':\n",
    "        return 13\n",
    "    else:\n",
    "        return 14"
   ]
  },
  {
   "cell_type": "markdown",
   "metadata": {
    "_cell_guid": "a1367d63-4c7b-4e47-b19f-9a26d1f89476",
    "_uuid": "6ed6489bbd618fb419ceca2bbd8c300694f1d4ed",
    "scrolled": true
   },
   "source": [
    "# Prepare Training Data\n",
    "Here we split the data into training and validation sets and create a single vector (disease_vec) with the 0/1 outputs for the disease status (what the model will try and predict)"
   ]
  },
  {
   "cell_type": "code",
   "execution_count": 23,
   "metadata": {},
   "outputs": [],
   "source": [
    "all_xray_df['disease_vec'] = all_xray_df.apply(lambda x: [x[all_labels].values], 1).map(lambda x: x[0])\n",
    "from itertools import chain\n",
    "all_xray_df['Type']=all_xray_df['Finding Labels'].map(lambda x: image_type(x.split('|')))"
   ]
  },
  {
   "cell_type": "code",
   "execution_count": 24,
   "metadata": {},
   "outputs": [
    {
     "name": "stdout",
     "output_type": "stream",
     "text": [
      "       Type              Finding Labels\n",
      "98757     5   Atelectasis|Consolidation\n",
      "14134    14                  No Finding\n",
      "23763     5  Consolidation|Infiltration\n",
      "55656     6       Effusion|Infiltration\n",
      "70753     2                   Emphysema\n",
      "37859     6        Atelectasis|Effusion\n",
      "51209     6                    Effusion\n",
      "49205    14                  No Finding\n",
      "57220    14                  No Finding\n",
      "57100    14                  No Finding\n"
     ]
    }
   ],
   "source": [
    "print(all_xray_df[['Type','Finding Labels']].sample(10))\n"
   ]
  },
  {
   "cell_type": "code",
   "execution_count": 25,
   "metadata": {},
   "outputs": [
    {
     "name": "stdout",
     "output_type": "stream",
     "text": [
      "14    54740\n",
      "7     12078\n",
      "6      9474\n",
      "1      4862\n",
      "8      4577\n",
      "5      3758\n",
      "13     2501\n",
      "12     2410\n",
      "4      1793\n",
      "2      1602\n",
      "10     1360\n",
      "3      1243\n",
      "9      1043\n",
      "11      679\n",
      "Name: Type, dtype: int64\n"
     ]
    }
   ],
   "source": [
    "print(all_xray_df['Type'].value_counts())"
   ]
  },
  {
   "cell_type": "code",
   "execution_count": 26,
   "metadata": {},
   "outputs": [
    {
     "name": "stdout",
     "output_type": "stream",
     "text": [
      "Atelectasis           10670.0\n",
      "Cardiomegaly           2476.0\n",
      "Consolidation          4271.0\n",
      "Edema                  2150.0\n",
      "Effusion              12410.0\n",
      "Emphysema              2295.0\n",
      "Fibrosis               1407.0\n",
      "Infiltration          18291.0\n",
      "Mass                   5454.0\n",
      "No Finding            54652.0\n",
      "Nodule                 5887.0\n",
      "Pleural_Thickening     3060.0\n",
      "Pneumonia              1296.0\n",
      "Pneumothorax           4862.0\n",
      "dtype: float64\n"
     ]
    }
   ],
   "source": [
    "print(all_xray_df[all_labels].sum())"
   ]
  },
  {
   "cell_type": "code",
   "execution_count": 27,
   "metadata": {
    "_cell_guid": "5feddc96-7958-4d34-81f1-10eba94ab1b6",
    "_uuid": "8c7dc722de08243cc763d23928708f9c040bbdc6"
   },
   "outputs": [],
   "source": [
    "from sklearn.model_selection import train_test_split\n",
    "train_df, valid_test_df = train_test_split(all_xray_df, \n",
    "                                   test_size = 0.5, \n",
    "                                   random_state = 2018,\n",
    "                                   stratify = all_xray_df['Type'])"
   ]
  },
  {
   "cell_type": "code",
   "execution_count": 28,
   "metadata": {},
   "outputs": [],
   "source": [
    "valid_df, test_df = train_test_split(valid_test_df, \n",
    "                                   test_size = 0.5, \n",
    "                                   random_state = 2018,\n",
    "                                   stratify = valid_test_df['Type'])"
   ]
  },
  {
   "cell_type": "code",
   "execution_count": 29,
   "metadata": {},
   "outputs": [
    {
     "name": "stdout",
     "output_type": "stream",
     "text": [
      "train (51060, 30) validation (25530, 30) test (25530, 30)\n"
     ]
    }
   ],
   "source": [
    "print('train', train_df.shape, 'validation', valid_df.shape,'test', test_df.shape)"
   ]
  },
  {
   "cell_type": "code",
   "execution_count": 30,
   "metadata": {},
   "outputs": [
    {
     "name": "stdout",
     "output_type": "stream",
     "text": [
      "            Image Index Finding Labels  Follow-up #  Patient ID  Patient Age  \\\n",
      "80526  00019772_001.png     No Finding            1       19772           73   \n",
      "84145  00020679_000.png     No Finding            0       20679           69   \n",
      "44082  00011364_000.png     No Finding            0       11364           53   \n",
      "\n",
      "      Patient Gender View Position  OriginalImage[Width  Height]  \\\n",
      "80526              M            AP                 2500     2048   \n",
      "84145              M            PA                 2992     2991   \n",
      "44082              F            PA                 2614     2873   \n",
      "\n",
      "       OriginalImagePixelSpacing[x  ...  Mass  No Finding Nodule  \\\n",
      "80526                        0.168  ...   0.0         1.0    0.0   \n",
      "84145                        0.143  ...   0.0         1.0    0.0   \n",
      "44082                        0.143  ...   0.0         1.0    0.0   \n",
      "\n",
      "       Pleural_Thickening  Pneumonia  Pneumothorax  \\\n",
      "80526                 0.0        0.0           0.0   \n",
      "84145                 0.0        0.0           0.0   \n",
      "44082                 0.0        0.0           0.0   \n",
      "\n",
      "                                             disease_vec  Type      newLabel  \\\n",
      "80526  [0.0, 0.0, 0.0, 0.0, 0.0, 0.0, 0.0, 0.0, 0.0, ...    14  [No Finding]   \n",
      "84145  [0.0, 0.0, 0.0, 0.0, 0.0, 0.0, 0.0, 0.0, 0.0, ...    14  [No Finding]   \n",
      "44082  [0.0, 0.0, 0.0, 0.0, 0.0, 0.0, 0.0, 0.0, 0.0, ...    14  [No Finding]   \n",
      "\n",
      "       newLabelT  \n",
      "80526         14  \n",
      "84145         14  \n",
      "44082         14  \n",
      "\n",
      "[3 rows x 32 columns]\n"
     ]
    },
    {
     "name": "stderr",
     "output_type": "stream",
     "text": [
      "/home/ubuntu/anaconda3/lib/python3.7/site-packages/ipykernel_launcher.py:1: SettingWithCopyWarning: \n",
      "A value is trying to be set on a copy of a slice from a DataFrame.\n",
      "Try using .loc[row_indexer,col_indexer] = value instead\n",
      "\n",
      "See the caveats in the documentation: http://pandas.pydata.org/pandas-docs/stable/indexing.html#indexing-view-versus-copy\n",
      "  \"\"\"Entry point for launching an IPython kernel.\n",
      "/home/ubuntu/anaconda3/lib/python3.7/site-packages/ipykernel_launcher.py:2: SettingWithCopyWarning: \n",
      "A value is trying to be set on a copy of a slice from a DataFrame.\n",
      "Try using .loc[row_indexer,col_indexer] = value instead\n",
      "\n",
      "See the caveats in the documentation: http://pandas.pydata.org/pandas-docs/stable/indexing.html#indexing-view-versus-copy\n",
      "  \n"
     ]
    }
   ],
   "source": [
    "train_df['newLabel'] = train_df.apply(lambda x: x['Finding Labels'].split('|'), axis=1)\n",
    "train_df['newLabelT'] = train_df['Type']\n",
    "print(train_df.sample(3))"
   ]
  },
  {
   "cell_type": "code",
   "execution_count": 31,
   "metadata": {},
   "outputs": [
    {
     "name": "stdout",
     "output_type": "stream",
     "text": [
      "            Image Index     Finding Labels  Follow-up #  Patient ID  \\\n",
      "70000  00017236_082.png       Infiltration           82       17236   \n",
      "79501  00019528_013.png         No Finding           13       19528   \n",
      "24318  00006391_001.png  Atelectasis|Edema            1        6391   \n",
      "\n",
      "       Patient Age Patient Gender View Position  OriginalImage[Width  Height]  \\\n",
      "70000           46              M            AP                 2500     2048   \n",
      "79501           54              M            PA                 2992     2991   \n",
      "24318            9              M            AP                 2500     2048   \n",
      "\n",
      "       OriginalImagePixelSpacing[x  ...  Mass  No Finding Nodule  \\\n",
      "70000                        0.168  ...   0.0         0.0    0.0   \n",
      "79501                        0.143  ...   0.0         1.0    0.0   \n",
      "24318                        0.171  ...   0.0         0.0    0.0   \n",
      "\n",
      "       Pleural_Thickening  Pneumonia  Pneumothorax  \\\n",
      "70000                 0.0        0.0           0.0   \n",
      "79501                 0.0        0.0           0.0   \n",
      "24318                 0.0        0.0           0.0   \n",
      "\n",
      "                                             disease_vec  Type  \\\n",
      "70000  [0.0, 0.0, 0.0, 0.0, 0.0, 0.0, 0.0, 1.0, 0.0, ...     7   \n",
      "79501  [0.0, 0.0, 0.0, 0.0, 0.0, 0.0, 0.0, 0.0, 0.0, ...    14   \n",
      "24318  [1.0, 0.0, 0.0, 1.0, 0.0, 0.0, 0.0, 0.0, 0.0, ...     4   \n",
      "\n",
      "                   newLabel  newLabelT  \n",
      "70000        [Infiltration]          7  \n",
      "79501          [No Finding]         14  \n",
      "24318  [Atelectasis, Edema]          4  \n",
      "\n",
      "[3 rows x 32 columns]\n"
     ]
    },
    {
     "name": "stderr",
     "output_type": "stream",
     "text": [
      "/home/ubuntu/anaconda3/lib/python3.7/site-packages/ipykernel_launcher.py:1: SettingWithCopyWarning: \n",
      "A value is trying to be set on a copy of a slice from a DataFrame.\n",
      "Try using .loc[row_indexer,col_indexer] = value instead\n",
      "\n",
      "See the caveats in the documentation: http://pandas.pydata.org/pandas-docs/stable/indexing.html#indexing-view-versus-copy\n",
      "  \"\"\"Entry point for launching an IPython kernel.\n",
      "/home/ubuntu/anaconda3/lib/python3.7/site-packages/ipykernel_launcher.py:2: SettingWithCopyWarning: \n",
      "A value is trying to be set on a copy of a slice from a DataFrame.\n",
      "Try using .loc[row_indexer,col_indexer] = value instead\n",
      "\n",
      "See the caveats in the documentation: http://pandas.pydata.org/pandas-docs/stable/indexing.html#indexing-view-versus-copy\n",
      "  \n"
     ]
    }
   ],
   "source": [
    "valid_df['newLabel'] = valid_df.apply(lambda x: x['Finding Labels'].split('|'), axis=1)\n",
    "valid_df['newLabelT'] = valid_df['Type']\n",
    "print(valid_df.sample(3))"
   ]
  },
  {
   "cell_type": "code",
   "execution_count": 32,
   "metadata": {},
   "outputs": [
    {
     "name": "stdout",
     "output_type": "stream",
     "text": [
      "            Image Index Finding Labels  Follow-up #  Patient ID  Patient Age  \\\n",
      "72735  00017927_000.png   Infiltration            0       17927           26   \n",
      "43721  00011259_000.png     No Finding            0       11259           30   \n",
      "83901  00020624_012.png     No Finding           12       20624           70   \n",
      "\n",
      "      Patient Gender View Position  OriginalImage[Width  Height]  \\\n",
      "72735              M            AP                 2500     2048   \n",
      "43721              M            PA                 2926     2829   \n",
      "83901              M            PA                 3056     2516   \n",
      "\n",
      "       OriginalImagePixelSpacing[x  ...  Mass  No Finding Nodule  \\\n",
      "72735                        0.168  ...   0.0         0.0    0.0   \n",
      "43721                        0.143  ...   0.0         1.0    0.0   \n",
      "83901                        0.139  ...   0.0         1.0    0.0   \n",
      "\n",
      "       Pleural_Thickening  Pneumonia  Pneumothorax  \\\n",
      "72735                 0.0        0.0           0.0   \n",
      "43721                 0.0        0.0           0.0   \n",
      "83901                 0.0        0.0           0.0   \n",
      "\n",
      "                                             disease_vec  Type  \\\n",
      "72735  [0.0, 0.0, 0.0, 0.0, 0.0, 0.0, 0.0, 1.0, 0.0, ...     7   \n",
      "43721  [0.0, 0.0, 0.0, 0.0, 0.0, 0.0, 0.0, 0.0, 0.0, ...    14   \n",
      "83901  [0.0, 0.0, 0.0, 0.0, 0.0, 0.0, 0.0, 0.0, 0.0, ...    14   \n",
      "\n",
      "             newLabel  newLabelT  \n",
      "72735  [Infiltration]          7  \n",
      "43721    [No Finding]         14  \n",
      "83901    [No Finding]         14  \n",
      "\n",
      "[3 rows x 32 columns]\n"
     ]
    },
    {
     "name": "stderr",
     "output_type": "stream",
     "text": [
      "/home/ubuntu/anaconda3/lib/python3.7/site-packages/ipykernel_launcher.py:1: SettingWithCopyWarning: \n",
      "A value is trying to be set on a copy of a slice from a DataFrame.\n",
      "Try using .loc[row_indexer,col_indexer] = value instead\n",
      "\n",
      "See the caveats in the documentation: http://pandas.pydata.org/pandas-docs/stable/indexing.html#indexing-view-versus-copy\n",
      "  \"\"\"Entry point for launching an IPython kernel.\n",
      "/home/ubuntu/anaconda3/lib/python3.7/site-packages/ipykernel_launcher.py:2: SettingWithCopyWarning: \n",
      "A value is trying to be set on a copy of a slice from a DataFrame.\n",
      "Try using .loc[row_indexer,col_indexer] = value instead\n",
      "\n",
      "See the caveats in the documentation: http://pandas.pydata.org/pandas-docs/stable/indexing.html#indexing-view-versus-copy\n",
      "  \n"
     ]
    }
   ],
   "source": [
    "test_df['newLabel'] = test_df.apply(lambda x: x['Finding Labels'].split('|'), axis=1)\n",
    "test_df['newLabelT'] = test_df['Type']\n",
    "print(test_df.sample(3))"
   ]
  },
  {
   "cell_type": "code",
   "execution_count": 33,
   "metadata": {},
   "outputs": [
    {
     "name": "stdout",
     "output_type": "stream",
     "text": [
      "AxesSubplot(0.125,0.125;0.775x0.755)\n"
     ]
    },
    {
     "data": {
      "image/png": "[encoded data removed]",
      "text/plain": [
       "<Figure size 432x288 with 1 Axes>"
      ]
     },
     "metadata": {
      "needs_background": "light"
     },
     "output_type": "display_data"
    }
   ],
   "source": [
    "print(train_df['Type'].hist())"
   ]
  },
  {
   "cell_type": "code",
   "execution_count": 34,
   "metadata": {},
   "outputs": [],
   "source": [
    "#from imblearn.over_sampling import SMOTE"
   ]
  },
  {
   "cell_type": "code",
   "execution_count": 35,
   "metadata": {},
   "outputs": [],
   "source": [
    "#pip install -U git+https://github.com/scikit-learn-contrib/imbalanced-learn.git"
   ]
  },
  {
   "cell_type": "code",
   "execution_count": 36,
   "metadata": {},
   "outputs": [],
   "source": [
    "from sklearn.preprocessing import LabelEncoder\n",
    "y=train_df['Type']"
   ]
  },
  {
   "cell_type": "code",
   "execution_count": 37,
   "metadata": {},
   "outputs": [
    {
     "name": "stderr",
     "output_type": "stream",
     "text": [
      "/home/ubuntu/anaconda3/lib/python3.7/site-packages/sklearn/utils/validation.py:1692: FutureWarning: Feature names only support names that are all strings. Got feature names with dtypes: ['str', 'str_']. An error will be raised in 1.2.\n",
      "  FutureWarning,\n"
     ]
    }
   ],
   "source": [
    "from imblearn.over_sampling import RandomOverSampler\n",
    "ros = RandomOverSampler(random_state=0)\n",
    "X_res, y_res = ros.fit_resample(train_df, y)"
   ]
  },
  {
   "cell_type": "code",
   "execution_count": 38,
   "metadata": {},
   "outputs": [
    {
     "data": {
      "text/plain": [
       "(383180, 32)"
      ]
     },
     "execution_count": 38,
     "metadata": {},
     "output_type": "execute_result"
    }
   ],
   "source": [
    "X_res.shape"
   ]
  },
  {
   "cell_type": "code",
   "execution_count": 39,
   "metadata": {},
   "outputs": [
    {
     "data": {
      "text/plain": [
       "(51060, 32)"
      ]
     },
     "execution_count": 39,
     "metadata": {},
     "output_type": "execute_result"
    }
   ],
   "source": [
    "train_df.shape"
   ]
  },
  {
   "cell_type": "code",
   "execution_count": 40,
   "metadata": {},
   "outputs": [
    {
     "name": "stdout",
     "output_type": "stream",
     "text": [
      "AxesSubplot(0.125,0.125;0.775x0.755)\n"
     ]
    },
    {
     "data": {
      "image/png": "[encoded data removed]",
      "text/plain": [
       "<Figure size 432x288 with 1 Axes>"
      ]
     },
     "metadata": {
      "needs_background": "light"
     },
     "output_type": "display_data"
    }
   ],
   "source": [
    "train_df=X_res\n",
    "print(train_df['Type'].hist())"
   ]
  },
  {
   "cell_type": "markdown",
   "metadata": {},
   "source": [
    "# Training the Model"
   ]
  },
  {
   "cell_type": "code",
   "execution_count": 41,
   "metadata": {},
   "outputs": [],
   "source": [
    "from tensorflow.keras.applications.mobilenet import MobileNet\n",
    "from tensorflow.keras.layers import GlobalAveragePooling2D, Dense, Dropout, Flatten\n",
    "from tensorflow.keras.models import Sequential\n",
    "from keras import optimizers, callbacks, regularizers"
   ]
  },
  {
   "cell_type": "code",
   "execution_count": 42,
   "metadata": {},
   "outputs": [],
   "source": [
    "def MakeModel1(IMG_SIZE, bs, channels=1):\n",
    "    model = Sequential()\n",
    "    base_mobilenet_model = MobileNet(input_shape =  (*IMG_SIZE, channels), #Need to define the shape here from IMG_SIZE\n",
    "                                 include_top = False, weights = None)\n",
    "    model.add(base_mobilenet_model)\n",
    "    model.add(GlobalAveragePooling2D())\n",
    "    model.add(Dropout(0.5))\n",
    "    model.add(Dense(512))\n",
    "    model.add(Dropout(0.5))\n",
    "    model.add(Dense(len(all_labels), activation = 'sigmoid'))\n",
    "    return model\n",
    "def MakeModel2(n_priorities,IMG_SIZE, bs, channels=1):\n",
    "    model = Sequential()\n",
    "    base_mobilenet_model = MobileNet(input_shape =  (*IMG_SIZE, channels), #Need to define the shape here from IMG_SIZE\n",
    "                                 include_top = False, weights = None)\n",
    "    model.add(base_mobilenet_model)\n",
    "    model.add(GlobalAveragePooling2D())\n",
    "    model.add(Dropout(0.5))\n",
    "    model.add(Dense(512))\n",
    "    model.add(Dropout(0.5))\n",
    "    model.add(Dense(len(all_labels),activation = 'sigmoid'))\n",
    "    model.add(Dense(n_priorities, activation = 'softmax'))\n",
    "    return model"
   ]
  },
  {
   "cell_type": "code",
   "execution_count": 43,
   "metadata": {},
   "outputs": [],
   "source": [
    "from keras.preprocessing.image import ImageDataGenerator\n",
    "core_idg = ImageDataGenerator(samplewise_center=True, \n",
    "                              samplewise_std_normalization=True, \n",
    "                              horizontal_flip = True, \n",
    "                              vertical_flip = False, \n",
    "                              height_shift_range= 0.05, \n",
    "                              width_shift_range=0.1, \n",
    "                              rotation_range=5, \n",
    "                              shear_range = 0.1,\n",
    "                              fill_mode = 'reflect',\n",
    "                              zoom_range=0.15)"
   ]
  },
  {
   "cell_type": "code",
   "execution_count": 44,
   "metadata": {},
   "outputs": [],
   "source": [
    "n_priorities=4"
   ]
  },
  {
   "cell_type": "code",
   "execution_count": 45,
   "metadata": {},
   "outputs": [
    {
     "name": "stdout",
     "output_type": "stream",
     "text": [
      "Found 383139 validated image filenames belonging to 14 classes.\n",
      "Found 25510 validated image filenames belonging to 14 classes.\n"
     ]
    }
   ],
   "source": [
    "lr = 0.0005\n",
    "syntheticBatch = 256\n",
    "imageSize = (512, 512)\n",
    "colorMode = 'rgb'\n",
    "channels = 3\n",
    "batchSize = 32\n",
    "batch = int(256 / batchSize)\n",
    "STEPS_PER_EPOCH = 1000\n",
    "EPOCHS = 100\n",
    "from tensorflow.keras.callbacks import ModelCheckpoint, LearningRateScheduler, EarlyStopping, ReduceLROnPlateau\n",
    "weight_path=\"{}_weights.best.sequential.january_2022.hdf5\".format('xray_class')\n",
    "checkpoint = ModelCheckpoint(weight_path, monitor='val_loss', verbose=1, \n",
    "                             save_best_only=True, mode='min', save_weights_only = True)\n",
    "\n",
    "early = EarlyStopping(monitor=\"val_loss\", \n",
    "                      mode=\"min\", \n",
    "                      patience=5)\n",
    "callbacks_list = [checkpoint, early]\n",
    "\n",
    "\n",
    "train_gen = core_idg.flow_from_dataframe(dataframe=train_df, \n",
    "                         directory=None,\n",
    "                         x_col = 'path',\n",
    "                        y_col = 'newLabel', \n",
    "                         class_mode = 'categorical',\n",
    "                        classes = all_labels,\n",
    "                        target_size = imageSize,\n",
    "                         color_mode = colorMode,\n",
    "                        batch_size = batchSize)\n",
    "\n",
    "valid_gen = core_idg.flow_from_dataframe(dataframe=valid_df, \n",
    "                         directory=None,\n",
    "                         x_col = 'path',\n",
    "                        y_col = 'newLabel', \n",
    "                         class_mode = 'categorical',\n",
    "                        classes = all_labels,\n",
    "                        target_size = imageSize,\n",
    "                         color_mode = colorMode,\n",
    "                        batch_size = batchSize) # we can use much larger batches for evaluation\n",
    "\n",
    "\n",
    "opt = tensorflow.keras.optimizers.Adam(\n",
    "    learning_rate=lr,\n",
    "    beta_1=0.9,\n",
    "    beta_2=0.999,\n",
    "    epsilon=1e-07,\n",
    "    amsgrad=False,\n",
    "    name=\"Adam\"\n",
    ")\n"
   ]
  },
  {
   "cell_type": "code",
   "execution_count": null,
   "metadata": {},
   "outputs": [],
   "source": [
    "import gc\n",
    "gc.collect()\n",
    "multi_disease_model = MakeModel1(imageSize, batchSize, channels)\n",
    "multi_disease_model.load_weights(\"xray_class_weights.best.sequential.june9.hdf5\")"
   ]
  },
  {
   "cell_type": "code",
   "execution_count": null,
   "metadata": {},
   "outputs": [],
   "source": [
    "multi_disease_model.compile(optimizer = opt, loss = 'binary_crossentropy',\n",
    "       metrics = ['binary_accuracy', 'mae'])\n",
    "\n",
    "history = multi_disease_model.fit_generator(train_gen,                           \n",
    "              validation_data = valid_gen, \n",
    "              steps_per_epoch=1000,                              \n",
    "              epochs = 20, \n",
    "              callbacks = callbacks_list)"
   ]
  },
  {
   "cell_type": "code",
   "execution_count": null,
   "metadata": {},
   "outputs": [],
   "source": [
    "import gc\n",
    "gc.collect()"
   ]
  },
  {
   "cell_type": "code",
   "execution_count": 68,
   "metadata": {},
   "outputs": [],
   "source": [
    "import tensorflow as tf"
   ]
  },
  {
   "cell_type": "code",
   "execution_count": 69,
   "metadata": {},
   "outputs": [],
   "source": [
    "tf.keras.backend.clear_session()"
   ]
  },
  {
   "cell_type": "code",
   "execution_count": 144,
   "metadata": {},
   "outputs": [],
   "source": [
    "multi_disease_model = MakeModel1(imageSize, batchSize, channels)\n",
    "multi_disease_model.load_weights(\"xray_class_weights.best.sequential.january_2022.hdf5\")"
   ]
  },
  {
   "cell_type": "code",
   "execution_count": 142,
   "metadata": {},
   "outputs": [
    {
     "name": "stdout",
     "output_type": "stream",
     "text": [
      "Found 25510 validated image filenames belonging to 14 classes.\n"
     ]
    }
   ],
   "source": [
    "test_X, test_Y = next(core_idg.flow_from_dataframe(dataframe=valid_df, \n",
    "                             directory=None,\n",
    "                             x_col = 'path',\n",
    "                            y_col = 'newLabel', \n",
    "                             class_mode = 'categorical',\n",
    "                            classes = all_labels,\n",
    "                            target_size = imageSize,\n",
    "                             color_mode = colorMode,\n",
    "                            batch_size = 2000))"
   ]
  },
  {
   "cell_type": "code",
   "execution_count": 145,
   "metadata": {},
   "outputs": [
    {
     "name": "stdout",
     "output_type": "stream",
     "text": [
      "2000/2000 [==============================] - 27s 13ms/step\n"
     ]
    }
   ],
   "source": [
    "pred_Y = multi_disease_model.predict(test_X, batch_size = 1, verbose = True)"
   ]
  },
  {
   "cell_type": "code",
   "execution_count": 146,
   "metadata": {},
   "outputs": [
    {
     "data": {
      "image/png": "[encoded data removed]",
      "text/plain": [
       "<Figure size 648x648 with 1 Axes>"
      ]
     },
     "metadata": {
      "needs_background": "light"
     },
     "output_type": "display_data"
    }
   ],
   "source": [
    "from sklearn.metrics import roc_curve, auc\n",
    "fig, c_ax = plt.subplots(1,1, figsize = (9, 9))\n",
    "for (idx, c_label) in enumerate(all_labels):\n",
    "    fpr, tpr, thresholds = roc_curve(test_Y[:,idx].astype(int), pred_Y[:,idx])\n",
    "    c_ax.plot(fpr, tpr, label = '%s (AUC:%0.2f)'  % (c_label, auc(fpr, tpr)))\n",
    "c_ax.legend()\n",
    "c_ax.set_xlabel('False Positive Rate')\n",
    "c_ax.set_ylabel('True Positive Rate')\n",
    "fig.savefig('trained_net_january_2022.pdf')"
   ]
  },
  {
   "cell_type": "code",
   "execution_count": 82,
   "metadata": {},
   "outputs": [
    {
     "data": {
      "text/plain": [
       "(25530, 32)"
      ]
     },
     "execution_count": 82,
     "metadata": {},
     "output_type": "execute_result"
    }
   ],
   "source": [
    "test_df.shape"
   ]
  },
  {
   "cell_type": "code",
   "execution_count": 84,
   "metadata": {},
   "outputs": [],
   "source": [
    "test_df.to_csv('test_df_january_22.csv', index=False)"
   ]
  },
  {
   "cell_type": "code",
   "execution_count": 147,
   "metadata": {},
   "outputs": [],
   "source": [
    "del multi_disease_model"
   ]
  },
  {
   "cell_type": "markdown",
   "metadata": {},
   "source": [
    "# Computing the Youden Index Thresholds and the Type-Classification Matrix Q"
   ]
  },
  {
   "cell_type": "code",
   "execution_count": 148,
   "metadata": {},
   "outputs": [],
   "source": [
    "disease_thresholds={}"
   ]
  },
  {
   "cell_type": "code",
   "execution_count": 149,
   "metadata": {},
   "outputs": [
    {
     "data": {
      "text/plain": [
       "{}"
      ]
     },
     "execution_count": 149,
     "metadata": {},
     "output_type": "execute_result"
    }
   ],
   "source": [
    "disease_thresholds"
   ]
  },
  {
   "cell_type": "code",
   "execution_count": 150,
   "metadata": {},
   "outputs": [],
   "source": [
    "for (idx, c_label) in enumerate(all_labels):\n",
    "    fpr, tpr, thresholds = roc_curve(test_Y[:,idx].astype(int), pred_Y[:,idx])\n",
    "    optimal_idx = np.argmax(tpr - fpr)\n",
    "    optimal_threshold = thresholds[optimal_idx]\n",
    "    #disease_thresholds.loc[len(disease_thresholds.index)] = [c_label,2]\n",
    "    disease_thresholds[c_label]=optimal_threshold\n"
   ]
  },
  {
   "cell_type": "code",
   "execution_count": 151,
   "metadata": {},
   "outputs": [
    {
     "data": {
      "text/plain": [
       "{'Atelectasis': 0.10676851,\n",
       " 'Cardiomegaly': 0.043366976,\n",
       " 'Consolidation': 0.06581639,\n",
       " 'Edema': 0.14420465,\n",
       " 'Effusion': 0.045613006,\n",
       " 'Emphysema': 0.100178234,\n",
       " 'Fibrosis': 0.06619118,\n",
       " 'Infiltration': 0.20058593,\n",
       " 'Mass': 0.17318188,\n",
       " 'No Finding': 0.1090359,\n",
       " 'Nodule': 0.16145295,\n",
       " 'Pleural_Thickening': 0.04642132,\n",
       " 'Pneumonia': 0.04213357,\n",
       " 'Pneumothorax': 0.05543855}"
      ]
     },
     "execution_count": 151,
     "metadata": {},
     "output_type": "execute_result"
    }
   ],
   "source": [
    "disease_thresholds"
   ]
  },
  {
   "cell_type": "code",
   "execution_count": 152,
   "metadata": {},
   "outputs": [
    {
     "data": {
      "text/plain": [
       "0.06581639"
      ]
     },
     "execution_count": 152,
     "metadata": {},
     "output_type": "execute_result"
    }
   ],
   "source": [
    "disease_thresholds['Consolidation']"
   ]
  },
  {
   "cell_type": "code",
   "execution_count": 153,
   "metadata": {},
   "outputs": [],
   "source": [
    "import pickle"
   ]
  },
  {
   "cell_type": "code",
   "execution_count": 154,
   "metadata": {},
   "outputs": [],
   "source": [
    "a_file = open(\"data_disease_thresholds.pkl\", \"wb\")"
   ]
  },
  {
   "cell_type": "code",
   "execution_count": 155,
   "metadata": {},
   "outputs": [],
   "source": [
    "pickle.dump(disease_thresholds, a_file)"
   ]
  },
  {
   "cell_type": "code",
   "execution_count": 156,
   "metadata": {},
   "outputs": [],
   "source": [
    "a_file.close()"
   ]
  },
  {
   "cell_type": "code",
   "execution_count": 96,
   "metadata": {},
   "outputs": [
    {
     "data": {
      "text/plain": [
       "array(dict_values([0.1033651, 0.02430491, 0.0909833, 0.063854836, 0.05434157, 0.12722923, 0.12196326, 0.20064068, 0.23371999, 0.110839285, 0.17452836, 0.069686554, 0.049683064, 0.049669754]),\n",
       "      dtype=object)"
      ]
     },
     "execution_count": 96,
     "metadata": {},
     "output_type": "execute_result"
    }
   ],
   "source": [
    "np.array(disease_thresholds.values())"
   ]
  },
  {
   "cell_type": "code",
   "execution_count": 97,
   "metadata": {},
   "outputs": [
    {
     "data": {
      "text/plain": [
       "dict_values([0.1033651, 0.02430491, 0.0909833, 0.063854836, 0.05434157, 0.12722923, 0.12196326, 0.20064068, 0.23371999, 0.110839285, 0.17452836, 0.069686554, 0.049683064, 0.049669754])"
      ]
     },
     "execution_count": 97,
     "metadata": {},
     "output_type": "execute_result"
    }
   ],
   "source": [
    "set=disease_thresholds.values()\n",
    "set"
   ]
  },
  {
   "cell_type": "code",
   "execution_count": 98,
   "metadata": {},
   "outputs": [
    {
     "data": {
      "text/plain": [
       "array([0.1033651 , 0.02430491, 0.0909833 , 0.06385484, 0.05434157,\n",
       "       0.12722923, 0.12196326, 0.20064068, 0.23371999, 0.11083928,\n",
       "       0.17452836, 0.06968655, 0.04968306, 0.04966975], dtype=float32)"
      ]
     },
     "execution_count": 98,
     "metadata": {},
     "output_type": "execute_result"
    }
   ],
   "source": [
    "set=np.array(list(set))\n",
    "set"
   ]
  },
  {
   "cell_type": "code",
   "execution_count": 99,
   "metadata": {},
   "outputs": [],
   "source": [
    "set=pd.DataFrame(set)"
   ]
  },
  {
   "cell_type": "code",
   "execution_count": 100,
   "metadata": {},
   "outputs": [],
   "source": [
    "set=pd.DataFrame(set.T)"
   ]
  },
  {
   "cell_type": "code",
   "execution_count": 101,
   "metadata": {},
   "outputs": [],
   "source": [
    "set=pd.concat([set]*test_Y.shape[0])"
   ]
  },
  {
   "cell_type": "code",
   "execution_count": 102,
   "metadata": {},
   "outputs": [],
   "source": [
    "def image_type_vector(X):\n",
    "    set=X\n",
    "    pet=set[set==1].index.tolist()\n",
    "    return(image_type([all_labels[i] for i in pet]))"
   ]
  },
  {
   "cell_type": "code",
   "execution_count": 103,
   "metadata": {},
   "outputs": [],
   "source": [
    "data1=pd.DataFrame(test_Y).apply(lambda row : image_type_vector(row), axis = 1)\n",
    "data2=(1+np.sign(pred_Y-set))/2"
   ]
  },
  {
   "cell_type": "code",
   "execution_count": 104,
   "metadata": {},
   "outputs": [],
   "source": [
    "data2=pd.DataFrame(data2).apply(lambda row : image_type_vector(row), axis = 1)"
   ]
  },
  {
   "cell_type": "code",
   "execution_count": 105,
   "metadata": {},
   "outputs": [],
   "source": [
    "data2.index=range(test_Y.shape[0])"
   ]
  },
  {
   "cell_type": "code",
   "execution_count": 106,
   "metadata": {},
   "outputs": [],
   "source": [
    "from sklearn.metrics import confusion_matrix"
   ]
  },
  {
   "cell_type": "code",
   "execution_count": 107,
   "metadata": {},
   "outputs": [],
   "source": [
    "mat1=confusion_matrix(data1,data2,labels=[1,2,3,4,5,6,7,8,9,10,11,12,13,14])"
   ]
  },
  {
   "cell_type": "code",
   "execution_count": 108,
   "metadata": {},
   "outputs": [
    {
     "data": {
      "text/html": [
       "<div>\n",
       "<style scoped>\n",
       "    .dataframe tbody tr th:only-of-type {\n",
       "        vertical-align: middle;\n",
       "    }\n",
       "\n",
       "    .dataframe tbody tr th {\n",
       "        vertical-align: top;\n",
       "    }\n",
       "\n",
       "    .dataframe thead th {\n",
       "        text-align: right;\n",
       "    }\n",
       "</style>\n",
       "<table border=\"1\" class=\"dataframe\">\n",
       "  <thead>\n",
       "    <tr style=\"text-align: right;\">\n",
       "      <th></th>\n",
       "      <th>0</th>\n",
       "      <th>1</th>\n",
       "      <th>2</th>\n",
       "      <th>3</th>\n",
       "      <th>4</th>\n",
       "      <th>5</th>\n",
       "      <th>6</th>\n",
       "      <th>7</th>\n",
       "      <th>8</th>\n",
       "      <th>9</th>\n",
       "      <th>10</th>\n",
       "      <th>11</th>\n",
       "      <th>12</th>\n",
       "      <th>13</th>\n",
       "    </tr>\n",
       "  </thead>\n",
       "  <tbody>\n",
       "    <tr>\n",
       "      <th>0</th>\n",
       "      <td>79</td>\n",
       "      <td>0</td>\n",
       "      <td>13</td>\n",
       "      <td>0</td>\n",
       "      <td>0</td>\n",
       "      <td>0</td>\n",
       "      <td>0</td>\n",
       "      <td>1</td>\n",
       "      <td>2</td>\n",
       "      <td>5</td>\n",
       "      <td>1</td>\n",
       "      <td>0</td>\n",
       "      <td>2</td>\n",
       "      <td>0</td>\n",
       "    </tr>\n",
       "    <tr>\n",
       "      <th>1</th>\n",
       "      <td>17</td>\n",
       "      <td>1</td>\n",
       "      <td>4</td>\n",
       "      <td>0</td>\n",
       "      <td>0</td>\n",
       "      <td>0</td>\n",
       "      <td>0</td>\n",
       "      <td>2</td>\n",
       "      <td>2</td>\n",
       "      <td>0</td>\n",
       "      <td>0</td>\n",
       "      <td>1</td>\n",
       "      <td>2</td>\n",
       "      <td>0</td>\n",
       "    </tr>\n",
       "    <tr>\n",
       "      <th>2</th>\n",
       "      <td>6</td>\n",
       "      <td>0</td>\n",
       "      <td>11</td>\n",
       "      <td>0</td>\n",
       "      <td>0</td>\n",
       "      <td>0</td>\n",
       "      <td>0</td>\n",
       "      <td>0</td>\n",
       "      <td>2</td>\n",
       "      <td>0</td>\n",
       "      <td>0</td>\n",
       "      <td>1</td>\n",
       "      <td>0</td>\n",
       "      <td>0</td>\n",
       "    </tr>\n",
       "    <tr>\n",
       "      <th>3</th>\n",
       "      <td>13</td>\n",
       "      <td>1</td>\n",
       "      <td>19</td>\n",
       "      <td>0</td>\n",
       "      <td>0</td>\n",
       "      <td>0</td>\n",
       "      <td>0</td>\n",
       "      <td>0</td>\n",
       "      <td>0</td>\n",
       "      <td>0</td>\n",
       "      <td>0</td>\n",
       "      <td>0</td>\n",
       "      <td>0</td>\n",
       "      <td>0</td>\n",
       "    </tr>\n",
       "    <tr>\n",
       "      <th>4</th>\n",
       "      <td>20</td>\n",
       "      <td>1</td>\n",
       "      <td>29</td>\n",
       "      <td>0</td>\n",
       "      <td>0</td>\n",
       "      <td>1</td>\n",
       "      <td>0</td>\n",
       "      <td>1</td>\n",
       "      <td>2</td>\n",
       "      <td>1</td>\n",
       "      <td>2</td>\n",
       "      <td>1</td>\n",
       "      <td>0</td>\n",
       "      <td>0</td>\n",
       "    </tr>\n",
       "    <tr>\n",
       "      <th>5</th>\n",
       "      <td>88</td>\n",
       "      <td>5</td>\n",
       "      <td>61</td>\n",
       "      <td>0</td>\n",
       "      <td>2</td>\n",
       "      <td>4</td>\n",
       "      <td>0</td>\n",
       "      <td>4</td>\n",
       "      <td>11</td>\n",
       "      <td>5</td>\n",
       "      <td>1</td>\n",
       "      <td>0</td>\n",
       "      <td>0</td>\n",
       "      <td>0</td>\n",
       "    </tr>\n",
       "    <tr>\n",
       "      <th>6</th>\n",
       "      <td>44</td>\n",
       "      <td>2</td>\n",
       "      <td>91</td>\n",
       "      <td>1</td>\n",
       "      <td>1</td>\n",
       "      <td>1</td>\n",
       "      <td>0</td>\n",
       "      <td>7</td>\n",
       "      <td>19</td>\n",
       "      <td>17</td>\n",
       "      <td>10</td>\n",
       "      <td>4</td>\n",
       "      <td>22</td>\n",
       "      <td>1</td>\n",
       "    </tr>\n",
       "    <tr>\n",
       "      <th>7</th>\n",
       "      <td>19</td>\n",
       "      <td>1</td>\n",
       "      <td>30</td>\n",
       "      <td>1</td>\n",
       "      <td>1</td>\n",
       "      <td>1</td>\n",
       "      <td>0</td>\n",
       "      <td>6</td>\n",
       "      <td>4</td>\n",
       "      <td>9</td>\n",
       "      <td>1</td>\n",
       "      <td>2</td>\n",
       "      <td>1</td>\n",
       "      <td>0</td>\n",
       "    </tr>\n",
       "    <tr>\n",
       "      <th>8</th>\n",
       "      <td>2</td>\n",
       "      <td>0</td>\n",
       "      <td>5</td>\n",
       "      <td>0</td>\n",
       "      <td>0</td>\n",
       "      <td>0</td>\n",
       "      <td>0</td>\n",
       "      <td>1</td>\n",
       "      <td>13</td>\n",
       "      <td>0</td>\n",
       "      <td>0</td>\n",
       "      <td>0</td>\n",
       "      <td>0</td>\n",
       "      <td>0</td>\n",
       "    </tr>\n",
       "    <tr>\n",
       "      <th>9</th>\n",
       "      <td>12</td>\n",
       "      <td>0</td>\n",
       "      <td>3</td>\n",
       "      <td>0</td>\n",
       "      <td>0</td>\n",
       "      <td>0</td>\n",
       "      <td>0</td>\n",
       "      <td>0</td>\n",
       "      <td>2</td>\n",
       "      <td>8</td>\n",
       "      <td>0</td>\n",
       "      <td>1</td>\n",
       "      <td>0</td>\n",
       "      <td>0</td>\n",
       "    </tr>\n",
       "    <tr>\n",
       "      <th>10</th>\n",
       "      <td>5</td>\n",
       "      <td>0</td>\n",
       "      <td>3</td>\n",
       "      <td>0</td>\n",
       "      <td>0</td>\n",
       "      <td>0</td>\n",
       "      <td>0</td>\n",
       "      <td>0</td>\n",
       "      <td>0</td>\n",
       "      <td>3</td>\n",
       "      <td>0</td>\n",
       "      <td>1</td>\n",
       "      <td>2</td>\n",
       "      <td>0</td>\n",
       "    </tr>\n",
       "    <tr>\n",
       "      <th>11</th>\n",
       "      <td>14</td>\n",
       "      <td>2</td>\n",
       "      <td>6</td>\n",
       "      <td>0</td>\n",
       "      <td>1</td>\n",
       "      <td>0</td>\n",
       "      <td>0</td>\n",
       "      <td>4</td>\n",
       "      <td>3</td>\n",
       "      <td>11</td>\n",
       "      <td>3</td>\n",
       "      <td>9</td>\n",
       "      <td>0</td>\n",
       "      <td>0</td>\n",
       "    </tr>\n",
       "    <tr>\n",
       "      <th>12</th>\n",
       "      <td>15</td>\n",
       "      <td>0</td>\n",
       "      <td>15</td>\n",
       "      <td>0</td>\n",
       "      <td>0</td>\n",
       "      <td>0</td>\n",
       "      <td>0</td>\n",
       "      <td>2</td>\n",
       "      <td>6</td>\n",
       "      <td>9</td>\n",
       "      <td>4</td>\n",
       "      <td>2</td>\n",
       "      <td>2</td>\n",
       "      <td>1</td>\n",
       "    </tr>\n",
       "    <tr>\n",
       "      <th>13</th>\n",
       "      <td>174</td>\n",
       "      <td>12</td>\n",
       "      <td>356</td>\n",
       "      <td>0</td>\n",
       "      <td>3</td>\n",
       "      <td>3</td>\n",
       "      <td>0</td>\n",
       "      <td>58</td>\n",
       "      <td>158</td>\n",
       "      <td>112</td>\n",
       "      <td>71</td>\n",
       "      <td>20</td>\n",
       "      <td>141</td>\n",
       "      <td>2</td>\n",
       "    </tr>\n",
       "  </tbody>\n",
       "</table>\n",
       "</div>"
      ],
      "text/plain": [
       "     0   1    2   3   4   5   6   7    8    9   10  11   12  13\n",
       "0    79   0   13   0   0   0   0   1    2    5   1   0    2   0\n",
       "1    17   1    4   0   0   0   0   2    2    0   0   1    2   0\n",
       "2     6   0   11   0   0   0   0   0    2    0   0   1    0   0\n",
       "3    13   1   19   0   0   0   0   0    0    0   0   0    0   0\n",
       "4    20   1   29   0   0   1   0   1    2    1   2   1    0   0\n",
       "5    88   5   61   0   2   4   0   4   11    5   1   0    0   0\n",
       "6    44   2   91   1   1   1   0   7   19   17  10   4   22   1\n",
       "7    19   1   30   1   1   1   0   6    4    9   1   2    1   0\n",
       "8     2   0    5   0   0   0   0   1   13    0   0   0    0   0\n",
       "9    12   0    3   0   0   0   0   0    2    8   0   1    0   0\n",
       "10    5   0    3   0   0   0   0   0    0    3   0   1    2   0\n",
       "11   14   2    6   0   1   0   0   4    3   11   3   9    0   0\n",
       "12   15   0   15   0   0   0   0   2    6    9   4   2    2   1\n",
       "13  174  12  356   0   3   3   0  58  158  112  71  20  141   2"
      ]
     },
     "execution_count": 108,
     "metadata": {},
     "output_type": "execute_result"
    }
   ],
   "source": [
    "pd.DataFrame(mat1)"
   ]
  },
  {
   "cell_type": "code",
   "execution_count": 109,
   "metadata": {},
   "outputs": [
    {
     "data": {
      "text/plain": [
       "(14,)"
      ]
     },
     "execution_count": 109,
     "metadata": {},
     "output_type": "execute_result"
    }
   ],
   "source": [
    "mat1.sum(axis=1).shape"
   ]
  },
  {
   "cell_type": "code",
   "execution_count": 112,
   "metadata": {},
   "outputs": [],
   "source": [
    "Q_Youden=pd.DataFrame(mat1/mat1.sum(axis=1).reshape(-1,1))\n",
    "b_file = open(\"Q_Youden.pkl\", \"wb\")\n",
    "pickle.dump(Q_Youden, b_file)\n",
    "b_file.close()"
   ]
  },
  {
   "cell_type": "code",
   "execution_count": 113,
   "metadata": {},
   "outputs": [
    {
     "data": {
      "text/plain": [
       "14"
      ]
     },
     "execution_count": 113,
     "metadata": {},
     "output_type": "execute_result"
    }
   ],
   "source": [
    "len(all_labels)"
   ]
  },
  {
   "cell_type": "code",
   "execution_count": 114,
   "metadata": {},
   "outputs": [
    {
     "data": {
      "text/plain": [
       "[0.5, 0.5, 0.5, 0.5, 0.5, 0.5, 0.5, 0.5, 0.5, 0.5, 0.5, 0.5, 0.5, 0.5]"
      ]
     },
     "execution_count": 114,
     "metadata": {},
     "output_type": "execute_result"
    }
   ],
   "source": [
    "[0.5]*len(all_labels)"
   ]
  },
  {
   "cell_type": "code",
   "execution_count": 115,
   "metadata": {},
   "outputs": [
    {
     "data": {
      "text/html": [
       "<div>\n",
       "<style scoped>\n",
       "    .dataframe tbody tr th:only-of-type {\n",
       "        vertical-align: middle;\n",
       "    }\n",
       "\n",
       "    .dataframe tbody tr th {\n",
       "        vertical-align: top;\n",
       "    }\n",
       "\n",
       "    .dataframe thead th {\n",
       "        text-align: right;\n",
       "    }\n",
       "</style>\n",
       "<table border=\"1\" class=\"dataframe\">\n",
       "  <thead>\n",
       "    <tr style=\"text-align: right;\">\n",
       "      <th></th>\n",
       "      <th>0</th>\n",
       "      <th>1</th>\n",
       "      <th>2</th>\n",
       "      <th>3</th>\n",
       "      <th>4</th>\n",
       "      <th>5</th>\n",
       "      <th>6</th>\n",
       "      <th>7</th>\n",
       "      <th>8</th>\n",
       "      <th>9</th>\n",
       "      <th>10</th>\n",
       "      <th>11</th>\n",
       "      <th>12</th>\n",
       "      <th>13</th>\n",
       "    </tr>\n",
       "  </thead>\n",
       "  <tbody>\n",
       "    <tr>\n",
       "      <th>0</th>\n",
       "      <td>0.000000</td>\n",
       "      <td>0.097087</td>\n",
       "      <td>0.0</td>\n",
       "      <td>0.000000</td>\n",
       "      <td>0.0</td>\n",
       "      <td>0.019417</td>\n",
       "      <td>0.000000</td>\n",
       "      <td>0.029126</td>\n",
       "      <td>0.000000</td>\n",
       "      <td>0.0</td>\n",
       "      <td>0.000000</td>\n",
       "      <td>0.009709</td>\n",
       "      <td>0.0</td>\n",
       "      <td>0.844660</td>\n",
       "    </tr>\n",
       "    <tr>\n",
       "      <th>1</th>\n",
       "      <td>0.034483</td>\n",
       "      <td>0.206897</td>\n",
       "      <td>0.0</td>\n",
       "      <td>0.000000</td>\n",
       "      <td>0.0</td>\n",
       "      <td>0.000000</td>\n",
       "      <td>0.000000</td>\n",
       "      <td>0.000000</td>\n",
       "      <td>0.034483</td>\n",
       "      <td>0.0</td>\n",
       "      <td>0.000000</td>\n",
       "      <td>0.000000</td>\n",
       "      <td>0.0</td>\n",
       "      <td>0.724138</td>\n",
       "    </tr>\n",
       "    <tr>\n",
       "      <th>2</th>\n",
       "      <td>0.000000</td>\n",
       "      <td>0.000000</td>\n",
       "      <td>0.0</td>\n",
       "      <td>0.000000</td>\n",
       "      <td>0.0</td>\n",
       "      <td>0.000000</td>\n",
       "      <td>0.000000</td>\n",
       "      <td>0.100000</td>\n",
       "      <td>0.000000</td>\n",
       "      <td>0.0</td>\n",
       "      <td>0.000000</td>\n",
       "      <td>0.050000</td>\n",
       "      <td>0.0</td>\n",
       "      <td>0.850000</td>\n",
       "    </tr>\n",
       "    <tr>\n",
       "      <th>3</th>\n",
       "      <td>0.000000</td>\n",
       "      <td>0.000000</td>\n",
       "      <td>0.0</td>\n",
       "      <td>0.030303</td>\n",
       "      <td>0.0</td>\n",
       "      <td>0.030303</td>\n",
       "      <td>0.060606</td>\n",
       "      <td>0.000000</td>\n",
       "      <td>0.060606</td>\n",
       "      <td>0.0</td>\n",
       "      <td>0.000000</td>\n",
       "      <td>0.030303</td>\n",
       "      <td>0.0</td>\n",
       "      <td>0.787879</td>\n",
       "    </tr>\n",
       "    <tr>\n",
       "      <th>4</th>\n",
       "      <td>0.000000</td>\n",
       "      <td>0.000000</td>\n",
       "      <td>0.0</td>\n",
       "      <td>0.000000</td>\n",
       "      <td>0.0</td>\n",
       "      <td>0.051724</td>\n",
       "      <td>0.000000</td>\n",
       "      <td>0.017241</td>\n",
       "      <td>0.000000</td>\n",
       "      <td>0.0</td>\n",
       "      <td>0.017241</td>\n",
       "      <td>0.068966</td>\n",
       "      <td>0.0</td>\n",
       "      <td>0.844828</td>\n",
       "    </tr>\n",
       "    <tr>\n",
       "      <th>5</th>\n",
       "      <td>0.000000</td>\n",
       "      <td>0.011050</td>\n",
       "      <td>0.0</td>\n",
       "      <td>0.000000</td>\n",
       "      <td>0.0</td>\n",
       "      <td>0.127072</td>\n",
       "      <td>0.005525</td>\n",
       "      <td>0.022099</td>\n",
       "      <td>0.022099</td>\n",
       "      <td>0.0</td>\n",
       "      <td>0.011050</td>\n",
       "      <td>0.016575</td>\n",
       "      <td>0.0</td>\n",
       "      <td>0.784530</td>\n",
       "    </tr>\n",
       "    <tr>\n",
       "      <th>6</th>\n",
       "      <td>0.000000</td>\n",
       "      <td>0.018182</td>\n",
       "      <td>0.0</td>\n",
       "      <td>0.009091</td>\n",
       "      <td>0.0</td>\n",
       "      <td>0.004545</td>\n",
       "      <td>0.004545</td>\n",
       "      <td>0.004545</td>\n",
       "      <td>0.009091</td>\n",
       "      <td>0.0</td>\n",
       "      <td>0.013636</td>\n",
       "      <td>0.022727</td>\n",
       "      <td>0.0</td>\n",
       "      <td>0.913636</td>\n",
       "    </tr>\n",
       "    <tr>\n",
       "      <th>7</th>\n",
       "      <td>0.000000</td>\n",
       "      <td>0.000000</td>\n",
       "      <td>0.0</td>\n",
       "      <td>0.000000</td>\n",
       "      <td>0.0</td>\n",
       "      <td>0.039474</td>\n",
       "      <td>0.000000</td>\n",
       "      <td>0.065789</td>\n",
       "      <td>0.000000</td>\n",
       "      <td>0.0</td>\n",
       "      <td>0.000000</td>\n",
       "      <td>0.026316</td>\n",
       "      <td>0.0</td>\n",
       "      <td>0.868421</td>\n",
       "    </tr>\n",
       "    <tr>\n",
       "      <th>8</th>\n",
       "      <td>0.000000</td>\n",
       "      <td>0.000000</td>\n",
       "      <td>0.0</td>\n",
       "      <td>0.000000</td>\n",
       "      <td>0.0</td>\n",
       "      <td>0.000000</td>\n",
       "      <td>0.000000</td>\n",
       "      <td>0.000000</td>\n",
       "      <td>0.380952</td>\n",
       "      <td>0.0</td>\n",
       "      <td>0.000000</td>\n",
       "      <td>0.000000</td>\n",
       "      <td>0.0</td>\n",
       "      <td>0.619048</td>\n",
       "    </tr>\n",
       "    <tr>\n",
       "      <th>9</th>\n",
       "      <td>0.000000</td>\n",
       "      <td>0.076923</td>\n",
       "      <td>0.0</td>\n",
       "      <td>0.000000</td>\n",
       "      <td>0.0</td>\n",
       "      <td>0.000000</td>\n",
       "      <td>0.000000</td>\n",
       "      <td>0.000000</td>\n",
       "      <td>0.000000</td>\n",
       "      <td>0.0</td>\n",
       "      <td>0.038462</td>\n",
       "      <td>0.076923</td>\n",
       "      <td>0.0</td>\n",
       "      <td>0.807692</td>\n",
       "    </tr>\n",
       "    <tr>\n",
       "      <th>10</th>\n",
       "      <td>0.000000</td>\n",
       "      <td>0.000000</td>\n",
       "      <td>0.0</td>\n",
       "      <td>0.000000</td>\n",
       "      <td>0.0</td>\n",
       "      <td>0.071429</td>\n",
       "      <td>0.000000</td>\n",
       "      <td>0.000000</td>\n",
       "      <td>0.000000</td>\n",
       "      <td>0.0</td>\n",
       "      <td>0.000000</td>\n",
       "      <td>0.000000</td>\n",
       "      <td>0.0</td>\n",
       "      <td>0.928571</td>\n",
       "    </tr>\n",
       "    <tr>\n",
       "      <th>11</th>\n",
       "      <td>0.000000</td>\n",
       "      <td>0.018868</td>\n",
       "      <td>0.0</td>\n",
       "      <td>0.000000</td>\n",
       "      <td>0.0</td>\n",
       "      <td>0.000000</td>\n",
       "      <td>0.000000</td>\n",
       "      <td>0.000000</td>\n",
       "      <td>0.000000</td>\n",
       "      <td>0.0</td>\n",
       "      <td>0.037736</td>\n",
       "      <td>0.301887</td>\n",
       "      <td>0.0</td>\n",
       "      <td>0.641509</td>\n",
       "    </tr>\n",
       "    <tr>\n",
       "      <th>12</th>\n",
       "      <td>0.000000</td>\n",
       "      <td>0.000000</td>\n",
       "      <td>0.0</td>\n",
       "      <td>0.017857</td>\n",
       "      <td>0.0</td>\n",
       "      <td>0.000000</td>\n",
       "      <td>0.000000</td>\n",
       "      <td>0.000000</td>\n",
       "      <td>0.017857</td>\n",
       "      <td>0.0</td>\n",
       "      <td>0.035714</td>\n",
       "      <td>0.035714</td>\n",
       "      <td>0.0</td>\n",
       "      <td>0.892857</td>\n",
       "    </tr>\n",
       "    <tr>\n",
       "      <th>13</th>\n",
       "      <td>0.000901</td>\n",
       "      <td>0.008108</td>\n",
       "      <td>0.0</td>\n",
       "      <td>0.003604</td>\n",
       "      <td>0.0</td>\n",
       "      <td>0.003604</td>\n",
       "      <td>0.000000</td>\n",
       "      <td>0.010811</td>\n",
       "      <td>0.022523</td>\n",
       "      <td>0.0</td>\n",
       "      <td>0.014414</td>\n",
       "      <td>0.013514</td>\n",
       "      <td>0.0</td>\n",
       "      <td>0.922523</td>\n",
       "    </tr>\n",
       "  </tbody>\n",
       "</table>\n",
       "</div>"
      ],
      "text/plain": [
       "          0         1    2         3    4         5         6         7   \\\n",
       "0   0.000000  0.097087  0.0  0.000000  0.0  0.019417  0.000000  0.029126   \n",
       "1   0.034483  0.206897  0.0  0.000000  0.0  0.000000  0.000000  0.000000   \n",
       "2   0.000000  0.000000  0.0  0.000000  0.0  0.000000  0.000000  0.100000   \n",
       "3   0.000000  0.000000  0.0  0.030303  0.0  0.030303  0.060606  0.000000   \n",
       "4   0.000000  0.000000  0.0  0.000000  0.0  0.051724  0.000000  0.017241   \n",
       "5   0.000000  0.011050  0.0  0.000000  0.0  0.127072  0.005525  0.022099   \n",
       "6   0.000000  0.018182  0.0  0.009091  0.0  0.004545  0.004545  0.004545   \n",
       "7   0.000000  0.000000  0.0  0.000000  0.0  0.039474  0.000000  0.065789   \n",
       "8   0.000000  0.000000  0.0  0.000000  0.0  0.000000  0.000000  0.000000   \n",
       "9   0.000000  0.076923  0.0  0.000000  0.0  0.000000  0.000000  0.000000   \n",
       "10  0.000000  0.000000  0.0  0.000000  0.0  0.071429  0.000000  0.000000   \n",
       "11  0.000000  0.018868  0.0  0.000000  0.0  0.000000  0.000000  0.000000   \n",
       "12  0.000000  0.000000  0.0  0.017857  0.0  0.000000  0.000000  0.000000   \n",
       "13  0.000901  0.008108  0.0  0.003604  0.0  0.003604  0.000000  0.010811   \n",
       "\n",
       "          8    9         10        11   12        13  \n",
       "0   0.000000  0.0  0.000000  0.009709  0.0  0.844660  \n",
       "1   0.034483  0.0  0.000000  0.000000  0.0  0.724138  \n",
       "2   0.000000  0.0  0.000000  0.050000  0.0  0.850000  \n",
       "3   0.060606  0.0  0.000000  0.030303  0.0  0.787879  \n",
       "4   0.000000  0.0  0.017241  0.068966  0.0  0.844828  \n",
       "5   0.022099  0.0  0.011050  0.016575  0.0  0.784530  \n",
       "6   0.009091  0.0  0.013636  0.022727  0.0  0.913636  \n",
       "7   0.000000  0.0  0.000000  0.026316  0.0  0.868421  \n",
       "8   0.380952  0.0  0.000000  0.000000  0.0  0.619048  \n",
       "9   0.000000  0.0  0.038462  0.076923  0.0  0.807692  \n",
       "10  0.000000  0.0  0.000000  0.000000  0.0  0.928571  \n",
       "11  0.000000  0.0  0.037736  0.301887  0.0  0.641509  \n",
       "12  0.017857  0.0  0.035714  0.035714  0.0  0.892857  \n",
       "13  0.022523  0.0  0.014414  0.013514  0.0  0.922523  "
      ]
     },
     "execution_count": 115,
     "metadata": {},
     "output_type": "execute_result"
    }
   ],
   "source": [
    "set=[0.5]*len(all_labels)\n",
    "set=pd.DataFrame(set)\n",
    "set=pd.DataFrame(set.T)\n",
    "set=pd.concat([set]*test_Y.shape[0])\n",
    "def image_type_vector(X):\n",
    "    set=X\n",
    "    pet=set[set==1].index.tolist()\n",
    "    return(image_type([all_labels[i] for i in pet]))\n",
    "data1=pd.DataFrame(test_Y).apply(lambda row : image_type_vector(row), axis = 1)\n",
    "data2=(1+np.sign(pred_Y-set))/2\n",
    "data2=pd.DataFrame(data2).apply(lambda row : image_type_vector(row), axis = 1)\n",
    "data2.index=range(test_Y.shape[0])\n",
    "mat1=confusion_matrix(data1,data2,labels=[1,2,3,4,5,6,7,8,9,10,11,12,13,14])\n",
    "pd.DataFrame(mat1)\n",
    "pd.DataFrame(mat1/mat1.sum(axis=1).reshape(-1,1))"
   ]
  },
  {
   "cell_type": "code",
   "execution_count": 117,
   "metadata": {},
   "outputs": [],
   "source": [
    "Q_point_five=pd.DataFrame(mat1/mat1.sum(axis=1).reshape(-1,1))\n",
    "c_file = open(\"Q_point_five.pkl\", \"wb\")\n",
    "pickle.dump(Q_point_five, c_file)\n",
    "c_file.close()"
   ]
  },
  {
   "cell_type": "markdown",
   "metadata": {},
   "source": [
    "# Write a function that gives the best partitioning given a type classification matrix Q and number of queues N. "
   ]
  },
  {
   "cell_type": "code",
   "execution_count": 118,
   "metadata": {},
   "outputs": [],
   "source": [
    "def queue_wait_cost(pmat,costs,arrivals,service):\n",
    "    clambda = costs*arrivals\n",
    "    rho = arrivals/service\n",
    "    clambda_pmat = np.matmul(clambda,pmat)\n",
    "    rho_pmat = np.matmul(rho,pmat)\n",
    "    vec1=1-np.cumsum(rho_pmat)\n",
    "    vec2=np.roll(1-np.cumsum(rho_pmat),1)\n",
    "    vec2[0]=1\n",
    "    denom = (1/vec1)*(1/vec2)\n",
    "    return sum(clambda_pmat*denom)"
   ]
  },
  {
   "cell_type": "code",
   "execution_count": 119,
   "metadata": {},
   "outputs": [],
   "source": [
    "def partition(collection):\n",
    "    if len(collection) == 1:\n",
    "        yield [ collection ]\n",
    "        return\n",
    "\n",
    "    first = collection[:1]\n",
    "    for smaller in partition(collection[1:]):\n",
    "        # insert `first` in each of the subpartition's subsets\n",
    "        for n, subset in enumerate(smaller):\n",
    "            yield smaller[:n] + [first + subset]  + smaller[n+1:]\n",
    "        # put `first` in its own subset \n",
    "        yield [ first ] + smaller"
   ]
  },
  {
   "cell_type": "code",
   "execution_count": 120,
   "metadata": {},
   "outputs": [],
   "source": [
    "something = list(range(1,15))\n",
    "\n",
    "z=enumerate(partition(something), 1)"
   ]
  },
  {
   "cell_type": "code",
   "execution_count": 122,
   "metadata": {},
   "outputs": [
    {
     "data": {
      "text/plain": [
       "10391745"
      ]
     },
     "execution_count": 122,
     "metadata": {},
     "output_type": "execute_result"
    }
   ],
   "source": [
    "len(list_partitions)"
   ]
  },
  {
   "cell_type": "code",
   "execution_count": 123,
   "metadata": {},
   "outputs": [],
   "source": [
    "del list_partitions"
   ]
  },
  {
   "cell_type": "code",
   "execution_count": 124,
   "metadata": {},
   "outputs": [
    {
     "data": {
      "text/html": [
       "<div>\n",
       "<style scoped>\n",
       "    .dataframe tbody tr th:only-of-type {\n",
       "        vertical-align: middle;\n",
       "    }\n",
       "\n",
       "    .dataframe tbody tr th {\n",
       "        vertical-align: top;\n",
       "    }\n",
       "\n",
       "    .dataframe thead th {\n",
       "        text-align: right;\n",
       "    }\n",
       "</style>\n",
       "<table border=\"1\" class=\"dataframe\">\n",
       "  <thead>\n",
       "    <tr style=\"text-align: right;\">\n",
       "      <th></th>\n",
       "      <th>0</th>\n",
       "      <th>1</th>\n",
       "      <th>2</th>\n",
       "      <th>3</th>\n",
       "      <th>4</th>\n",
       "      <th>5</th>\n",
       "      <th>6</th>\n",
       "      <th>7</th>\n",
       "      <th>8</th>\n",
       "      <th>9</th>\n",
       "      <th>10</th>\n",
       "      <th>11</th>\n",
       "      <th>12</th>\n",
       "      <th>13</th>\n",
       "    </tr>\n",
       "  </thead>\n",
       "  <tbody>\n",
       "    <tr>\n",
       "      <th>0</th>\n",
       "      <td>0.766990</td>\n",
       "      <td>0.000000</td>\n",
       "      <td>0.126214</td>\n",
       "      <td>0.000000</td>\n",
       "      <td>0.000000</td>\n",
       "      <td>0.000000</td>\n",
       "      <td>0.0</td>\n",
       "      <td>0.009709</td>\n",
       "      <td>0.019417</td>\n",
       "      <td>0.048544</td>\n",
       "      <td>0.009709</td>\n",
       "      <td>0.000000</td>\n",
       "      <td>0.019417</td>\n",
       "      <td>0.000000</td>\n",
       "    </tr>\n",
       "    <tr>\n",
       "      <th>1</th>\n",
       "      <td>0.586207</td>\n",
       "      <td>0.034483</td>\n",
       "      <td>0.137931</td>\n",
       "      <td>0.000000</td>\n",
       "      <td>0.000000</td>\n",
       "      <td>0.000000</td>\n",
       "      <td>0.0</td>\n",
       "      <td>0.068966</td>\n",
       "      <td>0.068966</td>\n",
       "      <td>0.000000</td>\n",
       "      <td>0.000000</td>\n",
       "      <td>0.034483</td>\n",
       "      <td>0.068966</td>\n",
       "      <td>0.000000</td>\n",
       "    </tr>\n",
       "    <tr>\n",
       "      <th>2</th>\n",
       "      <td>0.300000</td>\n",
       "      <td>0.000000</td>\n",
       "      <td>0.550000</td>\n",
       "      <td>0.000000</td>\n",
       "      <td>0.000000</td>\n",
       "      <td>0.000000</td>\n",
       "      <td>0.0</td>\n",
       "      <td>0.000000</td>\n",
       "      <td>0.100000</td>\n",
       "      <td>0.000000</td>\n",
       "      <td>0.000000</td>\n",
       "      <td>0.050000</td>\n",
       "      <td>0.000000</td>\n",
       "      <td>0.000000</td>\n",
       "    </tr>\n",
       "    <tr>\n",
       "      <th>3</th>\n",
       "      <td>0.393939</td>\n",
       "      <td>0.030303</td>\n",
       "      <td>0.575758</td>\n",
       "      <td>0.000000</td>\n",
       "      <td>0.000000</td>\n",
       "      <td>0.000000</td>\n",
       "      <td>0.0</td>\n",
       "      <td>0.000000</td>\n",
       "      <td>0.000000</td>\n",
       "      <td>0.000000</td>\n",
       "      <td>0.000000</td>\n",
       "      <td>0.000000</td>\n",
       "      <td>0.000000</td>\n",
       "      <td>0.000000</td>\n",
       "    </tr>\n",
       "    <tr>\n",
       "      <th>4</th>\n",
       "      <td>0.344828</td>\n",
       "      <td>0.017241</td>\n",
       "      <td>0.500000</td>\n",
       "      <td>0.000000</td>\n",
       "      <td>0.000000</td>\n",
       "      <td>0.017241</td>\n",
       "      <td>0.0</td>\n",
       "      <td>0.017241</td>\n",
       "      <td>0.034483</td>\n",
       "      <td>0.017241</td>\n",
       "      <td>0.034483</td>\n",
       "      <td>0.017241</td>\n",
       "      <td>0.000000</td>\n",
       "      <td>0.000000</td>\n",
       "    </tr>\n",
       "    <tr>\n",
       "      <th>5</th>\n",
       "      <td>0.486188</td>\n",
       "      <td>0.027624</td>\n",
       "      <td>0.337017</td>\n",
       "      <td>0.000000</td>\n",
       "      <td>0.011050</td>\n",
       "      <td>0.022099</td>\n",
       "      <td>0.0</td>\n",
       "      <td>0.022099</td>\n",
       "      <td>0.060773</td>\n",
       "      <td>0.027624</td>\n",
       "      <td>0.005525</td>\n",
       "      <td>0.000000</td>\n",
       "      <td>0.000000</td>\n",
       "      <td>0.000000</td>\n",
       "    </tr>\n",
       "    <tr>\n",
       "      <th>6</th>\n",
       "      <td>0.200000</td>\n",
       "      <td>0.009091</td>\n",
       "      <td>0.413636</td>\n",
       "      <td>0.004545</td>\n",
       "      <td>0.004545</td>\n",
       "      <td>0.004545</td>\n",
       "      <td>0.0</td>\n",
       "      <td>0.031818</td>\n",
       "      <td>0.086364</td>\n",
       "      <td>0.077273</td>\n",
       "      <td>0.045455</td>\n",
       "      <td>0.018182</td>\n",
       "      <td>0.100000</td>\n",
       "      <td>0.004545</td>\n",
       "    </tr>\n",
       "    <tr>\n",
       "      <th>7</th>\n",
       "      <td>0.250000</td>\n",
       "      <td>0.013158</td>\n",
       "      <td>0.394737</td>\n",
       "      <td>0.013158</td>\n",
       "      <td>0.013158</td>\n",
       "      <td>0.013158</td>\n",
       "      <td>0.0</td>\n",
       "      <td>0.078947</td>\n",
       "      <td>0.052632</td>\n",
       "      <td>0.118421</td>\n",
       "      <td>0.013158</td>\n",
       "      <td>0.026316</td>\n",
       "      <td>0.013158</td>\n",
       "      <td>0.000000</td>\n",
       "    </tr>\n",
       "    <tr>\n",
       "      <th>8</th>\n",
       "      <td>0.095238</td>\n",
       "      <td>0.000000</td>\n",
       "      <td>0.238095</td>\n",
       "      <td>0.000000</td>\n",
       "      <td>0.000000</td>\n",
       "      <td>0.000000</td>\n",
       "      <td>0.0</td>\n",
       "      <td>0.047619</td>\n",
       "      <td>0.619048</td>\n",
       "      <td>0.000000</td>\n",
       "      <td>0.000000</td>\n",
       "      <td>0.000000</td>\n",
       "      <td>0.000000</td>\n",
       "      <td>0.000000</td>\n",
       "    </tr>\n",
       "    <tr>\n",
       "      <th>9</th>\n",
       "      <td>0.461538</td>\n",
       "      <td>0.000000</td>\n",
       "      <td>0.115385</td>\n",
       "      <td>0.000000</td>\n",
       "      <td>0.000000</td>\n",
       "      <td>0.000000</td>\n",
       "      <td>0.0</td>\n",
       "      <td>0.000000</td>\n",
       "      <td>0.076923</td>\n",
       "      <td>0.307692</td>\n",
       "      <td>0.000000</td>\n",
       "      <td>0.038462</td>\n",
       "      <td>0.000000</td>\n",
       "      <td>0.000000</td>\n",
       "    </tr>\n",
       "    <tr>\n",
       "      <th>10</th>\n",
       "      <td>0.357143</td>\n",
       "      <td>0.000000</td>\n",
       "      <td>0.214286</td>\n",
       "      <td>0.000000</td>\n",
       "      <td>0.000000</td>\n",
       "      <td>0.000000</td>\n",
       "      <td>0.0</td>\n",
       "      <td>0.000000</td>\n",
       "      <td>0.000000</td>\n",
       "      <td>0.214286</td>\n",
       "      <td>0.000000</td>\n",
       "      <td>0.071429</td>\n",
       "      <td>0.142857</td>\n",
       "      <td>0.000000</td>\n",
       "    </tr>\n",
       "    <tr>\n",
       "      <th>11</th>\n",
       "      <td>0.264151</td>\n",
       "      <td>0.037736</td>\n",
       "      <td>0.113208</td>\n",
       "      <td>0.000000</td>\n",
       "      <td>0.018868</td>\n",
       "      <td>0.000000</td>\n",
       "      <td>0.0</td>\n",
       "      <td>0.075472</td>\n",
       "      <td>0.056604</td>\n",
       "      <td>0.207547</td>\n",
       "      <td>0.056604</td>\n",
       "      <td>0.169811</td>\n",
       "      <td>0.000000</td>\n",
       "      <td>0.000000</td>\n",
       "    </tr>\n",
       "    <tr>\n",
       "      <th>12</th>\n",
       "      <td>0.267857</td>\n",
       "      <td>0.000000</td>\n",
       "      <td>0.267857</td>\n",
       "      <td>0.000000</td>\n",
       "      <td>0.000000</td>\n",
       "      <td>0.000000</td>\n",
       "      <td>0.0</td>\n",
       "      <td>0.035714</td>\n",
       "      <td>0.107143</td>\n",
       "      <td>0.160714</td>\n",
       "      <td>0.071429</td>\n",
       "      <td>0.035714</td>\n",
       "      <td>0.035714</td>\n",
       "      <td>0.017857</td>\n",
       "    </tr>\n",
       "    <tr>\n",
       "      <th>13</th>\n",
       "      <td>0.156757</td>\n",
       "      <td>0.010811</td>\n",
       "      <td>0.320721</td>\n",
       "      <td>0.000000</td>\n",
       "      <td>0.002703</td>\n",
       "      <td>0.002703</td>\n",
       "      <td>0.0</td>\n",
       "      <td>0.052252</td>\n",
       "      <td>0.142342</td>\n",
       "      <td>0.100901</td>\n",
       "      <td>0.063964</td>\n",
       "      <td>0.018018</td>\n",
       "      <td>0.127027</td>\n",
       "      <td>0.001802</td>\n",
       "    </tr>\n",
       "  </tbody>\n",
       "</table>\n",
       "</div>"
      ],
      "text/plain": [
       "          0         1         2         3         4         5    6         7   \\\n",
       "0   0.766990  0.000000  0.126214  0.000000  0.000000  0.000000  0.0  0.009709   \n",
       "1   0.586207  0.034483  0.137931  0.000000  0.000000  0.000000  0.0  0.068966   \n",
       "2   0.300000  0.000000  0.550000  0.000000  0.000000  0.000000  0.0  0.000000   \n",
       "3   0.393939  0.030303  0.575758  0.000000  0.000000  0.000000  0.0  0.000000   \n",
       "4   0.344828  0.017241  0.500000  0.000000  0.000000  0.017241  0.0  0.017241   \n",
       "5   0.486188  0.027624  0.337017  0.000000  0.011050  0.022099  0.0  0.022099   \n",
       "6   0.200000  0.009091  0.413636  0.004545  0.004545  0.004545  0.0  0.031818   \n",
       "7   0.250000  0.013158  0.394737  0.013158  0.013158  0.013158  0.0  0.078947   \n",
       "8   0.095238  0.000000  0.238095  0.000000  0.000000  0.000000  0.0  0.047619   \n",
       "9   0.461538  0.000000  0.115385  0.000000  0.000000  0.000000  0.0  0.000000   \n",
       "10  0.357143  0.000000  0.214286  0.000000  0.000000  0.000000  0.0  0.000000   \n",
       "11  0.264151  0.037736  0.113208  0.000000  0.018868  0.000000  0.0  0.075472   \n",
       "12  0.267857  0.000000  0.267857  0.000000  0.000000  0.000000  0.0  0.035714   \n",
       "13  0.156757  0.010811  0.320721  0.000000  0.002703  0.002703  0.0  0.052252   \n",
       "\n",
       "          8         9         10        11        12        13  \n",
       "0   0.019417  0.048544  0.009709  0.000000  0.019417  0.000000  \n",
       "1   0.068966  0.000000  0.000000  0.034483  0.068966  0.000000  \n",
       "2   0.100000  0.000000  0.000000  0.050000  0.000000  0.000000  \n",
       "3   0.000000  0.000000  0.000000  0.000000  0.000000  0.000000  \n",
       "4   0.034483  0.017241  0.034483  0.017241  0.000000  0.000000  \n",
       "5   0.060773  0.027624  0.005525  0.000000  0.000000  0.000000  \n",
       "6   0.086364  0.077273  0.045455  0.018182  0.100000  0.004545  \n",
       "7   0.052632  0.118421  0.013158  0.026316  0.013158  0.000000  \n",
       "8   0.619048  0.000000  0.000000  0.000000  0.000000  0.000000  \n",
       "9   0.076923  0.307692  0.000000  0.038462  0.000000  0.000000  \n",
       "10  0.000000  0.214286  0.000000  0.071429  0.142857  0.000000  \n",
       "11  0.056604  0.207547  0.056604  0.169811  0.000000  0.000000  \n",
       "12  0.107143  0.160714  0.071429  0.035714  0.035714  0.017857  \n",
       "13  0.142342  0.100901  0.063964  0.018018  0.127027  0.001802  "
      ]
     },
     "execution_count": 124,
     "metadata": {},
     "output_type": "execute_result"
    }
   ],
   "source": [
    "Q_Youden"
   ]
  },
  {
   "cell_type": "code",
   "execution_count": 125,
   "metadata": {},
   "outputs": [
    {
     "data": {
      "text/html": [
       "<div>\n",
       "<style scoped>\n",
       "    .dataframe tbody tr th:only-of-type {\n",
       "        vertical-align: middle;\n",
       "    }\n",
       "\n",
       "    .dataframe tbody tr th {\n",
       "        vertical-align: top;\n",
       "    }\n",
       "\n",
       "    .dataframe thead th {\n",
       "        text-align: right;\n",
       "    }\n",
       "</style>\n",
       "<table border=\"1\" class=\"dataframe\">\n",
       "  <thead>\n",
       "    <tr style=\"text-align: right;\">\n",
       "      <th></th>\n",
       "      <th>0</th>\n",
       "      <th>1</th>\n",
       "      <th>2</th>\n",
       "      <th>3</th>\n",
       "      <th>4</th>\n",
       "      <th>5</th>\n",
       "      <th>6</th>\n",
       "      <th>7</th>\n",
       "      <th>8</th>\n",
       "      <th>9</th>\n",
       "      <th>10</th>\n",
       "      <th>11</th>\n",
       "      <th>12</th>\n",
       "      <th>13</th>\n",
       "    </tr>\n",
       "  </thead>\n",
       "  <tbody>\n",
       "    <tr>\n",
       "      <th>0</th>\n",
       "      <td>0.000000</td>\n",
       "      <td>0.097087</td>\n",
       "      <td>0.0</td>\n",
       "      <td>0.000000</td>\n",
       "      <td>0.0</td>\n",
       "      <td>0.019417</td>\n",
       "      <td>0.000000</td>\n",
       "      <td>0.029126</td>\n",
       "      <td>0.000000</td>\n",
       "      <td>0.0</td>\n",
       "      <td>0.000000</td>\n",
       "      <td>0.009709</td>\n",
       "      <td>0.0</td>\n",
       "      <td>0.844660</td>\n",
       "    </tr>\n",
       "    <tr>\n",
       "      <th>1</th>\n",
       "      <td>0.034483</td>\n",
       "      <td>0.206897</td>\n",
       "      <td>0.0</td>\n",
       "      <td>0.000000</td>\n",
       "      <td>0.0</td>\n",
       "      <td>0.000000</td>\n",
       "      <td>0.000000</td>\n",
       "      <td>0.000000</td>\n",
       "      <td>0.034483</td>\n",
       "      <td>0.0</td>\n",
       "      <td>0.000000</td>\n",
       "      <td>0.000000</td>\n",
       "      <td>0.0</td>\n",
       "      <td>0.724138</td>\n",
       "    </tr>\n",
       "    <tr>\n",
       "      <th>2</th>\n",
       "      <td>0.000000</td>\n",
       "      <td>0.000000</td>\n",
       "      <td>0.0</td>\n",
       "      <td>0.000000</td>\n",
       "      <td>0.0</td>\n",
       "      <td>0.000000</td>\n",
       "      <td>0.000000</td>\n",
       "      <td>0.100000</td>\n",
       "      <td>0.000000</td>\n",
       "      <td>0.0</td>\n",
       "      <td>0.000000</td>\n",
       "      <td>0.050000</td>\n",
       "      <td>0.0</td>\n",
       "      <td>0.850000</td>\n",
       "    </tr>\n",
       "    <tr>\n",
       "      <th>3</th>\n",
       "      <td>0.000000</td>\n",
       "      <td>0.000000</td>\n",
       "      <td>0.0</td>\n",
       "      <td>0.030303</td>\n",
       "      <td>0.0</td>\n",
       "      <td>0.030303</td>\n",
       "      <td>0.060606</td>\n",
       "      <td>0.000000</td>\n",
       "      <td>0.060606</td>\n",
       "      <td>0.0</td>\n",
       "      <td>0.000000</td>\n",
       "      <td>0.030303</td>\n",
       "      <td>0.0</td>\n",
       "      <td>0.787879</td>\n",
       "    </tr>\n",
       "    <tr>\n",
       "      <th>4</th>\n",
       "      <td>0.000000</td>\n",
       "      <td>0.000000</td>\n",
       "      <td>0.0</td>\n",
       "      <td>0.000000</td>\n",
       "      <td>0.0</td>\n",
       "      <td>0.051724</td>\n",
       "      <td>0.000000</td>\n",
       "      <td>0.017241</td>\n",
       "      <td>0.000000</td>\n",
       "      <td>0.0</td>\n",
       "      <td>0.017241</td>\n",
       "      <td>0.068966</td>\n",
       "      <td>0.0</td>\n",
       "      <td>0.844828</td>\n",
       "    </tr>\n",
       "    <tr>\n",
       "      <th>5</th>\n",
       "      <td>0.000000</td>\n",
       "      <td>0.011050</td>\n",
       "      <td>0.0</td>\n",
       "      <td>0.000000</td>\n",
       "      <td>0.0</td>\n",
       "      <td>0.127072</td>\n",
       "      <td>0.005525</td>\n",
       "      <td>0.022099</td>\n",
       "      <td>0.022099</td>\n",
       "      <td>0.0</td>\n",
       "      <td>0.011050</td>\n",
       "      <td>0.016575</td>\n",
       "      <td>0.0</td>\n",
       "      <td>0.784530</td>\n",
       "    </tr>\n",
       "    <tr>\n",
       "      <th>6</th>\n",
       "      <td>0.000000</td>\n",
       "      <td>0.018182</td>\n",
       "      <td>0.0</td>\n",
       "      <td>0.009091</td>\n",
       "      <td>0.0</td>\n",
       "      <td>0.004545</td>\n",
       "      <td>0.004545</td>\n",
       "      <td>0.004545</td>\n",
       "      <td>0.009091</td>\n",
       "      <td>0.0</td>\n",
       "      <td>0.013636</td>\n",
       "      <td>0.022727</td>\n",
       "      <td>0.0</td>\n",
       "      <td>0.913636</td>\n",
       "    </tr>\n",
       "    <tr>\n",
       "      <th>7</th>\n",
       "      <td>0.000000</td>\n",
       "      <td>0.000000</td>\n",
       "      <td>0.0</td>\n",
       "      <td>0.000000</td>\n",
       "      <td>0.0</td>\n",
       "      <td>0.039474</td>\n",
       "      <td>0.000000</td>\n",
       "      <td>0.065789</td>\n",
       "      <td>0.000000</td>\n",
       "      <td>0.0</td>\n",
       "      <td>0.000000</td>\n",
       "      <td>0.026316</td>\n",
       "      <td>0.0</td>\n",
       "      <td>0.868421</td>\n",
       "    </tr>\n",
       "    <tr>\n",
       "      <th>8</th>\n",
       "      <td>0.000000</td>\n",
       "      <td>0.000000</td>\n",
       "      <td>0.0</td>\n",
       "      <td>0.000000</td>\n",
       "      <td>0.0</td>\n",
       "      <td>0.000000</td>\n",
       "      <td>0.000000</td>\n",
       "      <td>0.000000</td>\n",
       "      <td>0.380952</td>\n",
       "      <td>0.0</td>\n",
       "      <td>0.000000</td>\n",
       "      <td>0.000000</td>\n",
       "      <td>0.0</td>\n",
       "      <td>0.619048</td>\n",
       "    </tr>\n",
       "    <tr>\n",
       "      <th>9</th>\n",
       "      <td>0.000000</td>\n",
       "      <td>0.076923</td>\n",
       "      <td>0.0</td>\n",
       "      <td>0.000000</td>\n",
       "      <td>0.0</td>\n",
       "      <td>0.000000</td>\n",
       "      <td>0.000000</td>\n",
       "      <td>0.000000</td>\n",
       "      <td>0.000000</td>\n",
       "      <td>0.0</td>\n",
       "      <td>0.038462</td>\n",
       "      <td>0.076923</td>\n",
       "      <td>0.0</td>\n",
       "      <td>0.807692</td>\n",
       "    </tr>\n",
       "    <tr>\n",
       "      <th>10</th>\n",
       "      <td>0.000000</td>\n",
       "      <td>0.000000</td>\n",
       "      <td>0.0</td>\n",
       "      <td>0.000000</td>\n",
       "      <td>0.0</td>\n",
       "      <td>0.071429</td>\n",
       "      <td>0.000000</td>\n",
       "      <td>0.000000</td>\n",
       "      <td>0.000000</td>\n",
       "      <td>0.0</td>\n",
       "      <td>0.000000</td>\n",
       "      <td>0.000000</td>\n",
       "      <td>0.0</td>\n",
       "      <td>0.928571</td>\n",
       "    </tr>\n",
       "    <tr>\n",
       "      <th>11</th>\n",
       "      <td>0.000000</td>\n",
       "      <td>0.018868</td>\n",
       "      <td>0.0</td>\n",
       "      <td>0.000000</td>\n",
       "      <td>0.0</td>\n",
       "      <td>0.000000</td>\n",
       "      <td>0.000000</td>\n",
       "      <td>0.000000</td>\n",
       "      <td>0.000000</td>\n",
       "      <td>0.0</td>\n",
       "      <td>0.037736</td>\n",
       "      <td>0.301887</td>\n",
       "      <td>0.0</td>\n",
       "      <td>0.641509</td>\n",
       "    </tr>\n",
       "    <tr>\n",
       "      <th>12</th>\n",
       "      <td>0.000000</td>\n",
       "      <td>0.000000</td>\n",
       "      <td>0.0</td>\n",
       "      <td>0.017857</td>\n",
       "      <td>0.0</td>\n",
       "      <td>0.000000</td>\n",
       "      <td>0.000000</td>\n",
       "      <td>0.000000</td>\n",
       "      <td>0.017857</td>\n",
       "      <td>0.0</td>\n",
       "      <td>0.035714</td>\n",
       "      <td>0.035714</td>\n",
       "      <td>0.0</td>\n",
       "      <td>0.892857</td>\n",
       "    </tr>\n",
       "    <tr>\n",
       "      <th>13</th>\n",
       "      <td>0.000901</td>\n",
       "      <td>0.008108</td>\n",
       "      <td>0.0</td>\n",
       "      <td>0.003604</td>\n",
       "      <td>0.0</td>\n",
       "      <td>0.003604</td>\n",
       "      <td>0.000000</td>\n",
       "      <td>0.010811</td>\n",
       "      <td>0.022523</td>\n",
       "      <td>0.0</td>\n",
       "      <td>0.014414</td>\n",
       "      <td>0.013514</td>\n",
       "      <td>0.0</td>\n",
       "      <td>0.922523</td>\n",
       "    </tr>\n",
       "  </tbody>\n",
       "</table>\n",
       "</div>"
      ],
      "text/plain": [
       "          0         1    2         3    4         5         6         7   \\\n",
       "0   0.000000  0.097087  0.0  0.000000  0.0  0.019417  0.000000  0.029126   \n",
       "1   0.034483  0.206897  0.0  0.000000  0.0  0.000000  0.000000  0.000000   \n",
       "2   0.000000  0.000000  0.0  0.000000  0.0  0.000000  0.000000  0.100000   \n",
       "3   0.000000  0.000000  0.0  0.030303  0.0  0.030303  0.060606  0.000000   \n",
       "4   0.000000  0.000000  0.0  0.000000  0.0  0.051724  0.000000  0.017241   \n",
       "5   0.000000  0.011050  0.0  0.000000  0.0  0.127072  0.005525  0.022099   \n",
       "6   0.000000  0.018182  0.0  0.009091  0.0  0.004545  0.004545  0.004545   \n",
       "7   0.000000  0.000000  0.0  0.000000  0.0  0.039474  0.000000  0.065789   \n",
       "8   0.000000  0.000000  0.0  0.000000  0.0  0.000000  0.000000  0.000000   \n",
       "9   0.000000  0.076923  0.0  0.000000  0.0  0.000000  0.000000  0.000000   \n",
       "10  0.000000  0.000000  0.0  0.000000  0.0  0.071429  0.000000  0.000000   \n",
       "11  0.000000  0.018868  0.0  0.000000  0.0  0.000000  0.000000  0.000000   \n",
       "12  0.000000  0.000000  0.0  0.017857  0.0  0.000000  0.000000  0.000000   \n",
       "13  0.000901  0.008108  0.0  0.003604  0.0  0.003604  0.000000  0.010811   \n",
       "\n",
       "          8    9         10        11   12        13  \n",
       "0   0.000000  0.0  0.000000  0.009709  0.0  0.844660  \n",
       "1   0.034483  0.0  0.000000  0.000000  0.0  0.724138  \n",
       "2   0.000000  0.0  0.000000  0.050000  0.0  0.850000  \n",
       "3   0.060606  0.0  0.000000  0.030303  0.0  0.787879  \n",
       "4   0.000000  0.0  0.017241  0.068966  0.0  0.844828  \n",
       "5   0.022099  0.0  0.011050  0.016575  0.0  0.784530  \n",
       "6   0.009091  0.0  0.013636  0.022727  0.0  0.913636  \n",
       "7   0.000000  0.0  0.000000  0.026316  0.0  0.868421  \n",
       "8   0.380952  0.0  0.000000  0.000000  0.0  0.619048  \n",
       "9   0.000000  0.0  0.038462  0.076923  0.0  0.807692  \n",
       "10  0.000000  0.0  0.000000  0.000000  0.0  0.928571  \n",
       "11  0.000000  0.0  0.037736  0.301887  0.0  0.641509  \n",
       "12  0.017857  0.0  0.035714  0.035714  0.0  0.892857  \n",
       "13  0.022523  0.0  0.014414  0.013514  0.0  0.922523  "
      ]
     },
     "execution_count": 125,
     "metadata": {},
     "output_type": "execute_result"
    }
   ],
   "source": [
    "Q_point_five"
   ]
  },
  {
   "cell_type": "code",
   "execution_count": 126,
   "metadata": {},
   "outputs": [],
   "source": [
    "from itertools import combinations\n",
    "types=14\n",
    "queues=4"
   ]
  },
  {
   "cell_type": "code",
   "execution_count": 127,
   "metadata": {},
   "outputs": [],
   "source": [
    "combination_lists=list(combinations(range(types-1),queues-1))"
   ]
  },
  {
   "cell_type": "code",
   "execution_count": 128,
   "metadata": {},
   "outputs": [
    {
     "data": {
      "text/plain": [
       "[(0, 1, 2),\n",
       " (0, 1, 3),\n",
       " (0, 1, 4),\n",
       " (0, 1, 5),\n",
       " (0, 1, 6),\n",
       " (0, 1, 7),\n",
       " (0, 1, 8),\n",
       " (0, 1, 9),\n",
       " (0, 1, 10),\n",
       " (0, 1, 11),\n",
       " (0, 1, 12),\n",
       " (0, 2, 3),\n",
       " (0, 2, 4),\n",
       " (0, 2, 5),\n",
       " (0, 2, 6),\n",
       " (0, 2, 7),\n",
       " (0, 2, 8),\n",
       " (0, 2, 9),\n",
       " (0, 2, 10),\n",
       " (0, 2, 11),\n",
       " (0, 2, 12),\n",
       " (0, 3, 4),\n",
       " (0, 3, 5),\n",
       " (0, 3, 6),\n",
       " (0, 3, 7),\n",
       " (0, 3, 8),\n",
       " (0, 3, 9),\n",
       " (0, 3, 10),\n",
       " (0, 3, 11),\n",
       " (0, 3, 12),\n",
       " (0, 4, 5),\n",
       " (0, 4, 6),\n",
       " (0, 4, 7),\n",
       " (0, 4, 8),\n",
       " (0, 4, 9),\n",
       " (0, 4, 10),\n",
       " (0, 4, 11),\n",
       " (0, 4, 12),\n",
       " (0, 5, 6),\n",
       " (0, 5, 7),\n",
       " (0, 5, 8),\n",
       " (0, 5, 9),\n",
       " (0, 5, 10),\n",
       " (0, 5, 11),\n",
       " (0, 5, 12),\n",
       " (0, 6, 7),\n",
       " (0, 6, 8),\n",
       " (0, 6, 9),\n",
       " (0, 6, 10),\n",
       " (0, 6, 11),\n",
       " (0, 6, 12),\n",
       " (0, 7, 8),\n",
       " (0, 7, 9),\n",
       " (0, 7, 10),\n",
       " (0, 7, 11),\n",
       " (0, 7, 12),\n",
       " (0, 8, 9),\n",
       " (0, 8, 10),\n",
       " (0, 8, 11),\n",
       " (0, 8, 12),\n",
       " (0, 9, 10),\n",
       " (0, 9, 11),\n",
       " (0, 9, 12),\n",
       " (0, 10, 11),\n",
       " (0, 10, 12),\n",
       " (0, 11, 12),\n",
       " (1, 2, 3),\n",
       " (1, 2, 4),\n",
       " (1, 2, 5),\n",
       " (1, 2, 6),\n",
       " (1, 2, 7),\n",
       " (1, 2, 8),\n",
       " (1, 2, 9),\n",
       " (1, 2, 10),\n",
       " (1, 2, 11),\n",
       " (1, 2, 12),\n",
       " (1, 3, 4),\n",
       " (1, 3, 5),\n",
       " (1, 3, 6),\n",
       " (1, 3, 7),\n",
       " (1, 3, 8),\n",
       " (1, 3, 9),\n",
       " (1, 3, 10),\n",
       " (1, 3, 11),\n",
       " (1, 3, 12),\n",
       " (1, 4, 5),\n",
       " (1, 4, 6),\n",
       " (1, 4, 7),\n",
       " (1, 4, 8),\n",
       " (1, 4, 9),\n",
       " (1, 4, 10),\n",
       " (1, 4, 11),\n",
       " (1, 4, 12),\n",
       " (1, 5, 6),\n",
       " (1, 5, 7),\n",
       " (1, 5, 8),\n",
       " (1, 5, 9),\n",
       " (1, 5, 10),\n",
       " (1, 5, 11),\n",
       " (1, 5, 12),\n",
       " (1, 6, 7),\n",
       " (1, 6, 8),\n",
       " (1, 6, 9),\n",
       " (1, 6, 10),\n",
       " (1, 6, 11),\n",
       " (1, 6, 12),\n",
       " (1, 7, 8),\n",
       " (1, 7, 9),\n",
       " (1, 7, 10),\n",
       " (1, 7, 11),\n",
       " (1, 7, 12),\n",
       " (1, 8, 9),\n",
       " (1, 8, 10),\n",
       " (1, 8, 11),\n",
       " (1, 8, 12),\n",
       " (1, 9, 10),\n",
       " (1, 9, 11),\n",
       " (1, 9, 12),\n",
       " (1, 10, 11),\n",
       " (1, 10, 12),\n",
       " (1, 11, 12),\n",
       " (2, 3, 4),\n",
       " (2, 3, 5),\n",
       " (2, 3, 6),\n",
       " (2, 3, 7),\n",
       " (2, 3, 8),\n",
       " (2, 3, 9),\n",
       " (2, 3, 10),\n",
       " (2, 3, 11),\n",
       " (2, 3, 12),\n",
       " (2, 4, 5),\n",
       " (2, 4, 6),\n",
       " (2, 4, 7),\n",
       " (2, 4, 8),\n",
       " (2, 4, 9),\n",
       " (2, 4, 10),\n",
       " (2, 4, 11),\n",
       " (2, 4, 12),\n",
       " (2, 5, 6),\n",
       " (2, 5, 7),\n",
       " (2, 5, 8),\n",
       " (2, 5, 9),\n",
       " (2, 5, 10),\n",
       " (2, 5, 11),\n",
       " (2, 5, 12),\n",
       " (2, 6, 7),\n",
       " (2, 6, 8),\n",
       " (2, 6, 9),\n",
       " (2, 6, 10),\n",
       " (2, 6, 11),\n",
       " (2, 6, 12),\n",
       " (2, 7, 8),\n",
       " (2, 7, 9),\n",
       " (2, 7, 10),\n",
       " (2, 7, 11),\n",
       " (2, 7, 12),\n",
       " (2, 8, 9),\n",
       " (2, 8, 10),\n",
       " (2, 8, 11),\n",
       " (2, 8, 12),\n",
       " (2, 9, 10),\n",
       " (2, 9, 11),\n",
       " (2, 9, 12),\n",
       " (2, 10, 11),\n",
       " (2, 10, 12),\n",
       " (2, 11, 12),\n",
       " (3, 4, 5),\n",
       " (3, 4, 6),\n",
       " (3, 4, 7),\n",
       " (3, 4, 8),\n",
       " (3, 4, 9),\n",
       " (3, 4, 10),\n",
       " (3, 4, 11),\n",
       " (3, 4, 12),\n",
       " (3, 5, 6),\n",
       " (3, 5, 7),\n",
       " (3, 5, 8),\n",
       " (3, 5, 9),\n",
       " (3, 5, 10),\n",
       " (3, 5, 11),\n",
       " (3, 5, 12),\n",
       " (3, 6, 7),\n",
       " (3, 6, 8),\n",
       " (3, 6, 9),\n",
       " (3, 6, 10),\n",
       " (3, 6, 11),\n",
       " (3, 6, 12),\n",
       " (3, 7, 8),\n",
       " (3, 7, 9),\n",
       " (3, 7, 10),\n",
       " (3, 7, 11),\n",
       " (3, 7, 12),\n",
       " (3, 8, 9),\n",
       " (3, 8, 10),\n",
       " (3, 8, 11),\n",
       " (3, 8, 12),\n",
       " (3, 9, 10),\n",
       " (3, 9, 11),\n",
       " (3, 9, 12),\n",
       " (3, 10, 11),\n",
       " (3, 10, 12),\n",
       " (3, 11, 12),\n",
       " (4, 5, 6),\n",
       " (4, 5, 7),\n",
       " (4, 5, 8),\n",
       " (4, 5, 9),\n",
       " (4, 5, 10),\n",
       " (4, 5, 11),\n",
       " (4, 5, 12),\n",
       " (4, 6, 7),\n",
       " (4, 6, 8),\n",
       " (4, 6, 9),\n",
       " (4, 6, 10),\n",
       " (4, 6, 11),\n",
       " (4, 6, 12),\n",
       " (4, 7, 8),\n",
       " (4, 7, 9),\n",
       " (4, 7, 10),\n",
       " (4, 7, 11),\n",
       " (4, 7, 12),\n",
       " (4, 8, 9),\n",
       " (4, 8, 10),\n",
       " (4, 8, 11),\n",
       " (4, 8, 12),\n",
       " (4, 9, 10),\n",
       " (4, 9, 11),\n",
       " (4, 9, 12),\n",
       " (4, 10, 11),\n",
       " (4, 10, 12),\n",
       " (4, 11, 12),\n",
       " (5, 6, 7),\n",
       " (5, 6, 8),\n",
       " (5, 6, 9),\n",
       " (5, 6, 10),\n",
       " (5, 6, 11),\n",
       " (5, 6, 12),\n",
       " (5, 7, 8),\n",
       " (5, 7, 9),\n",
       " (5, 7, 10),\n",
       " (5, 7, 11),\n",
       " (5, 7, 12),\n",
       " (5, 8, 9),\n",
       " (5, 8, 10),\n",
       " (5, 8, 11),\n",
       " (5, 8, 12),\n",
       " (5, 9, 10),\n",
       " (5, 9, 11),\n",
       " (5, 9, 12),\n",
       " (5, 10, 11),\n",
       " (5, 10, 12),\n",
       " (5, 11, 12),\n",
       " (6, 7, 8),\n",
       " (6, 7, 9),\n",
       " (6, 7, 10),\n",
       " (6, 7, 11),\n",
       " (6, 7, 12),\n",
       " (6, 8, 9),\n",
       " (6, 8, 10),\n",
       " (6, 8, 11),\n",
       " (6, 8, 12),\n",
       " (6, 9, 10),\n",
       " (6, 9, 11),\n",
       " (6, 9, 12),\n",
       " (6, 10, 11),\n",
       " (6, 10, 12),\n",
       " (6, 11, 12),\n",
       " (7, 8, 9),\n",
       " (7, 8, 10),\n",
       " (7, 8, 11),\n",
       " (7, 8, 12),\n",
       " (7, 9, 10),\n",
       " (7, 9, 11),\n",
       " (7, 9, 12),\n",
       " (7, 10, 11),\n",
       " (7, 10, 12),\n",
       " (7, 11, 12),\n",
       " (8, 9, 10),\n",
       " (8, 9, 11),\n",
       " (8, 9, 12),\n",
       " (8, 10, 11),\n",
       " (8, 10, 12),\n",
       " (8, 11, 12),\n",
       " (9, 10, 11),\n",
       " (9, 10, 12),\n",
       " (9, 11, 12),\n",
       " (10, 11, 12)]"
      ]
     },
     "execution_count": 128,
     "metadata": {},
     "output_type": "execute_result"
    }
   ],
   "source": [
    "combination_lists"
   ]
  },
  {
   "cell_type": "code",
   "execution_count": 129,
   "metadata": {},
   "outputs": [
    {
     "data": {
      "text/plain": [
       "0.0"
      ]
     },
     "execution_count": 129,
     "metadata": {},
     "output_type": "execute_result"
    }
   ],
   "source": [
    "mat=np. zeros((types,queues))\n",
    "mat[0,1]"
   ]
  },
  {
   "cell_type": "code",
   "execution_count": 130,
   "metadata": {},
   "outputs": [],
   "source": [
    "def partition_matrix(partition):\n",
    "    mat=np.zeros((types,queues))\n",
    "    for i in range(1,queues-1):\n",
    "        for j in range((partition[i-1]+1),partition[i]+1):\n",
    "                mat[j,i]=1\n",
    "    for j in range(partition[0]+1):\n",
    "        mat[j,0]=1\n",
    "    for j in range(partition[queues-2]+1,types):\n",
    "        mat[j,(queues-1)]=1\n",
    "    return mat   "
   ]
  },
  {
   "cell_type": "code",
   "execution_count": 131,
   "metadata": {},
   "outputs": [
    {
     "data": {
      "text/plain": [
       "array([[1., 0., 0., 0.],\n",
       "       [0., 1., 0., 0.],\n",
       "       [0., 0., 1., 0.],\n",
       "       [0., 0., 1., 0.],\n",
       "       [0., 0., 1., 0.],\n",
       "       [0., 0., 1., 0.],\n",
       "       [0., 0., 1., 0.],\n",
       "       [0., 0., 1., 0.],\n",
       "       [0., 0., 1., 0.],\n",
       "       [0., 0., 1., 0.],\n",
       "       [0., 0., 1., 0.],\n",
       "       [0., 0., 1., 0.],\n",
       "       [0., 0., 1., 0.],\n",
       "       [0., 0., 0., 1.]])"
      ]
     },
     "execution_count": 131,
     "metadata": {},
     "output_type": "execute_result"
    }
   ],
   "source": [
    "partition_matrix((0,1,12))"
   ]
  },
  {
   "cell_type": "code",
   "execution_count": 132,
   "metadata": {},
   "outputs": [
    {
     "data": {
      "text/plain": [
       "(14, 14)"
      ]
     },
     "execution_count": 132,
     "metadata": {},
     "output_type": "execute_result"
    }
   ],
   "source": [
    "Q_Youden.shape"
   ]
  },
  {
   "cell_type": "code",
   "execution_count": 133,
   "metadata": {},
   "outputs": [
    {
     "data": {
      "text/plain": [
       "(14, 4)"
      ]
     },
     "execution_count": 133,
     "metadata": {},
     "output_type": "execute_result"
    }
   ],
   "source": [
    "partition_matrix((0,1,12)).shape"
   ]
  },
  {
   "cell_type": "code",
   "execution_count": 134,
   "metadata": {},
   "outputs": [
    {
     "data": {
      "text/plain": [
       "array([[0.76699029, 0.        , 0.23300971, 0.        ],\n",
       "       [0.5862069 , 0.03448276, 0.37931034, 0.        ],\n",
       "       [0.3       , 0.        , 0.7       , 0.        ],\n",
       "       [0.39393939, 0.03030303, 0.57575758, 0.        ],\n",
       "       [0.34482759, 0.01724138, 0.63793103, 0.        ],\n",
       "       [0.48618785, 0.02762431, 0.48618785, 0.        ],\n",
       "       [0.2       , 0.00909091, 0.78636364, 0.00454545],\n",
       "       [0.25      , 0.01315789, 0.73684211, 0.        ],\n",
       "       [0.0952381 , 0.        , 0.9047619 , 0.        ],\n",
       "       [0.46153846, 0.        , 0.53846154, 0.        ],\n",
       "       [0.35714286, 0.        , 0.64285714, 0.        ],\n",
       "       [0.26415094, 0.03773585, 0.69811321, 0.        ],\n",
       "       [0.26785714, 0.        , 0.71428571, 0.01785714],\n",
       "       [0.15675676, 0.01081081, 0.83063063, 0.0018018 ]])"
      ]
     },
     "execution_count": 134,
     "metadata": {},
     "output_type": "execute_result"
    }
   ],
   "source": [
    "np.dot(Q_Youden,partition_matrix((0,1,12)))"
   ]
  },
  {
   "cell_type": "code",
   "execution_count": 135,
   "metadata": {},
   "outputs": [
    {
     "data": {
      "text/plain": [
       "array([[0.00000000e+00, 9.70873786e-02, 5.82524272e-02, 8.44660194e-01],\n",
       "       [3.44827586e-02, 2.06896552e-01, 3.44827586e-02, 7.24137931e-01],\n",
       "       [0.00000000e+00, 0.00000000e+00, 1.50000000e-01, 8.50000000e-01],\n",
       "       [0.00000000e+00, 0.00000000e+00, 2.12121212e-01, 7.87878788e-01],\n",
       "       [0.00000000e+00, 0.00000000e+00, 1.55172414e-01, 8.44827586e-01],\n",
       "       [0.00000000e+00, 1.10497238e-02, 2.04419890e-01, 7.84530387e-01],\n",
       "       [0.00000000e+00, 1.81818182e-02, 6.81818182e-02, 9.13636364e-01],\n",
       "       [0.00000000e+00, 0.00000000e+00, 1.31578947e-01, 8.68421053e-01],\n",
       "       [0.00000000e+00, 0.00000000e+00, 3.80952381e-01, 6.19047619e-01],\n",
       "       [0.00000000e+00, 7.69230769e-02, 1.15384615e-01, 8.07692308e-01],\n",
       "       [0.00000000e+00, 0.00000000e+00, 7.14285714e-02, 9.28571429e-01],\n",
       "       [0.00000000e+00, 1.88679245e-02, 3.39622642e-01, 6.41509434e-01],\n",
       "       [0.00000000e+00, 0.00000000e+00, 1.07142857e-01, 8.92857143e-01],\n",
       "       [9.00900901e-04, 8.10810811e-03, 6.84684685e-02, 9.22522523e-01]])"
      ]
     },
     "execution_count": 135,
     "metadata": {},
     "output_type": "execute_result"
    }
   ],
   "source": [
    "np.dot(Q_point_five,partition_matrix((0,1,12)))"
   ]
  },
  {
   "cell_type": "code",
   "execution_count": 136,
   "metadata": {},
   "outputs": [],
   "source": [
    "list_partition_matrices = list(map(partition_matrix, combination_lists))"
   ]
  },
  {
   "cell_type": "code",
   "execution_count": 137,
   "metadata": {},
   "outputs": [
    {
     "data": {
      "text/plain": [
       "array([[1., 0., 0., 0.],\n",
       "       [0., 1., 0., 0.],\n",
       "       [0., 0., 1., 0.],\n",
       "       [0., 0., 1., 0.],\n",
       "       [0., 0., 0., 1.],\n",
       "       [0., 0., 0., 1.],\n",
       "       [0., 0., 0., 1.],\n",
       "       [0., 0., 0., 1.],\n",
       "       [0., 0., 0., 1.],\n",
       "       [0., 0., 0., 1.],\n",
       "       [0., 0., 0., 1.],\n",
       "       [0., 0., 0., 1.],\n",
       "       [0., 0., 0., 1.],\n",
       "       [0., 0., 0., 1.]])"
      ]
     },
     "execution_count": 137,
     "metadata": {},
     "output_type": "execute_result"
    }
   ],
   "source": [
    "list_partition_matrices[1]"
   ]
  },
  {
   "cell_type": "code",
   "execution_count": 138,
   "metadata": {},
   "outputs": [],
   "source": [
    "def get_pmat_q_youden(partition_matrix):\n",
    "    return np.dot(Q_Youden,partition_matrix)\n",
    "def get_pmat_q_point_five(partition_matrix):\n",
    "    return np.dot(Q_point_five,partition_matrix)\n",
    "def get_pmat_q_identity(partition_matrix):\n",
    "    return np.dot(np.identity(types),partition_matrix)"
   ]
  },
  {
   "cell_type": "code",
   "execution_count": 139,
   "metadata": {},
   "outputs": [
    {
     "data": {
      "text/plain": [
       "array([[0.76699029, 0.        , 0.12621359, 0.10679612],\n",
       "       [0.5862069 , 0.03448276, 0.13793103, 0.24137931],\n",
       "       [0.3       , 0.        , 0.55      , 0.15      ],\n",
       "       [0.39393939, 0.03030303, 0.57575758, 0.        ],\n",
       "       [0.34482759, 0.01724138, 0.5       , 0.13793103],\n",
       "       [0.48618785, 0.02762431, 0.33701657, 0.14917127],\n",
       "       [0.2       , 0.00909091, 0.41818182, 0.37272727],\n",
       "       [0.25      , 0.01315789, 0.40789474, 0.32894737],\n",
       "       [0.0952381 , 0.        , 0.23809524, 0.66666667],\n",
       "       [0.46153846, 0.        , 0.11538462, 0.42307692],\n",
       "       [0.35714286, 0.        , 0.21428571, 0.42857143],\n",
       "       [0.26415094, 0.03773585, 0.11320755, 0.58490566],\n",
       "       [0.26785714, 0.        , 0.26785714, 0.46428571],\n",
       "       [0.15675676, 0.01081081, 0.32072072, 0.51171171]])"
      ]
     },
     "execution_count": 139,
     "metadata": {},
     "output_type": "execute_result"
    }
   ],
   "source": [
    "get_pmat_q_youden(list_partition_matrices[1])"
   ]
  },
  {
   "cell_type": "code",
   "execution_count": 140,
   "metadata": {},
   "outputs": [
    {
     "data": {
      "text/plain": [
       "array([[0.00000000e+00, 9.70873786e-02, 0.00000000e+00, 9.02912621e-01],\n",
       "       [3.44827586e-02, 2.06896552e-01, 0.00000000e+00, 7.58620690e-01],\n",
       "       [0.00000000e+00, 0.00000000e+00, 0.00000000e+00, 1.00000000e+00],\n",
       "       [0.00000000e+00, 0.00000000e+00, 3.03030303e-02, 9.69696970e-01],\n",
       "       [0.00000000e+00, 0.00000000e+00, 0.00000000e+00, 1.00000000e+00],\n",
       "       [0.00000000e+00, 1.10497238e-02, 0.00000000e+00, 9.88950276e-01],\n",
       "       [0.00000000e+00, 1.81818182e-02, 9.09090909e-03, 9.72727273e-01],\n",
       "       [0.00000000e+00, 0.00000000e+00, 0.00000000e+00, 1.00000000e+00],\n",
       "       [0.00000000e+00, 0.00000000e+00, 0.00000000e+00, 1.00000000e+00],\n",
       "       [0.00000000e+00, 7.69230769e-02, 0.00000000e+00, 9.23076923e-01],\n",
       "       [0.00000000e+00, 0.00000000e+00, 0.00000000e+00, 1.00000000e+00],\n",
       "       [0.00000000e+00, 1.88679245e-02, 0.00000000e+00, 9.81132075e-01],\n",
       "       [0.00000000e+00, 0.00000000e+00, 1.78571429e-02, 9.82142857e-01],\n",
       "       [9.00900901e-04, 8.10810811e-03, 3.60360360e-03, 9.87387387e-01]])"
      ]
     },
     "execution_count": 140,
     "metadata": {},
     "output_type": "execute_result"
    }
   ],
   "source": [
    "get_pmat_q_point_five(list_partition_matrices[1])"
   ]
  },
  {
   "cell_type": "code",
   "execution_count": 141,
   "metadata": {},
   "outputs": [
    {
     "data": {
      "text/plain": [
       "array([[1., 0., 0., 0.],\n",
       "       [0., 1., 0., 0.],\n",
       "       [0., 0., 1., 0.],\n",
       "       [0., 0., 1., 0.],\n",
       "       [0., 0., 0., 1.],\n",
       "       [0., 0., 0., 1.],\n",
       "       [0., 0., 0., 1.],\n",
       "       [0., 0., 0., 1.],\n",
       "       [0., 0., 0., 1.],\n",
       "       [0., 0., 0., 1.],\n",
       "       [0., 0., 0., 1.],\n",
       "       [0., 0., 0., 1.],\n",
       "       [0., 0., 0., 1.],\n",
       "       [0., 0., 0., 1.]])"
      ]
     },
     "execution_count": 141,
     "metadata": {},
     "output_type": "execute_result"
    }
   ],
   "source": [
    "get_pmat_q_identity(list_partition_matrices[1])"
   ]
  },
  {
   "cell_type": "code",
   "execution_count": null,
   "metadata": {},
   "outputs": [],
   "source": [
    "arrivals=np.array(np.mean(train_df['Type'].values,0))\n",
    "arrivals=arrivals/arrivals.sum(axis=0,keepdims=True)\n",
    "print(arrivals)"
   ]
  },
  {
   "cell_type": "code",
   "execution_count": null,
   "metadata": {},
   "outputs": [],
   "source": [
    "type(test_df['Type'].value_counts())"
   ]
  },
  {
   "cell_type": "code",
   "execution_count": null,
   "metadata": {},
   "outputs": [],
   "source": [
    "types_test_data=pd.Series(test_df['Type'].value_counts().index)"
   ]
  },
  {
   "cell_type": "code",
   "execution_count": null,
   "metadata": {},
   "outputs": [],
   "source": [
    "types_test_data"
   ]
  },
  {
   "cell_type": "code",
   "execution_count": null,
   "metadata": {},
   "outputs": [],
   "source": [
    "counts_types_test_data=pd.Series(test_df['Type'].value_counts())"
   ]
  },
  {
   "cell_type": "code",
   "execution_count": null,
   "metadata": {},
   "outputs": [],
   "source": [
    "arrivals_types_test_data=counts_types_test_data/counts_types_test_data.sum(axis=0)"
   ]
  },
  {
   "cell_type": "code",
   "execution_count": null,
   "metadata": {},
   "outputs": [],
   "source": [
    "arrivals_types_test_data"
   ]
  },
  {
   "cell_type": "code",
   "execution_count": null,
   "metadata": {},
   "outputs": [],
   "source": [
    "pd.DataFrame({'Type':types_test_data.values,'Arrival_Rates':arrivals_types_test_data.values}).sort_values('Type', ascending=True)"
   ]
  },
  {
   "cell_type": "code",
   "execution_count": null,
   "metadata": {},
   "outputs": [],
   "source": [
    "def get_arrival_rates_types(data):\n",
    "    types_test_data=pd.Series(data['Type'].value_counts().index)\n",
    "    counts_types_test_data=pd.Series(data['Type'].value_counts())\n",
    "    arrivals_types_test_data=counts_types_test_data/counts_types_test_data.sum(axis=0)\n",
    "    return pd.DataFrame({'Type':types_test_data.values,'Arrival_Rates':arrivals_types_test_data.values}).sort_values('Type', ascending=True)['Arrival_Rates'].values   "
   ]
  },
  {
   "cell_type": "code",
   "execution_count": null,
   "metadata": {},
   "outputs": [],
   "source": [
    "get_arrival_rates_types(test_df)"
   ]
  },
  {
   "cell_type": "code",
   "execution_count": null,
   "metadata": {},
   "outputs": [],
   "source": [
    "def get_costs_types(r):\n",
    "    return [r**(types-rank-1) for rank in range(types)]"
   ]
  },
  {
   "cell_type": "code",
   "execution_count": null,
   "metadata": {},
   "outputs": [],
   "source": [
    "get_costs_types(2)"
   ]
  },
  {
   "cell_type": "code",
   "execution_count": null,
   "metadata": {},
   "outputs": [],
   "source": [
    "def get_service_rates_types(rho):\n",
    "    return [1/rho]*types"
   ]
  },
  {
   "cell_type": "code",
   "execution_count": null,
   "metadata": {},
   "outputs": [],
   "source": [
    "get_service_rates_types(0.9)"
   ]
  },
  {
   "cell_type": "code",
   "execution_count": null,
   "metadata": {},
   "outputs": [],
   "source": [
    "queue_wait_cost(get_pmat_q_youden(list_partition_matrices[200]),get_costs_types(2),get_arrival_rates_types(test_df),get_service_rates_types(0.9))"
   ]
  },
  {
   "cell_type": "code",
   "execution_count": null,
   "metadata": {},
   "outputs": [],
   "source": [
    "[queue_wait_cost(get_pmat_q_youden(X),get_costs_types(2),get_arrival_rates_types(all_xray_df),get_service_rates_types(0.6)) for X in list_partition_matrices]"
   ]
  },
  {
   "cell_type": "code",
   "execution_count": null,
   "metadata": {},
   "outputs": [],
   "source": [
    "np.argmin([queue_wait_cost(get_pmat_q_youden(X),get_costs_types(2),get_arrival_rates_types(all_xray_df),get_service_rates_types(0.6)) for X in list_partition_matrices])"
   ]
  },
  {
   "cell_type": "code",
   "execution_count": null,
   "metadata": {},
   "outputs": [],
   "source": [
    "list_partition_matrices[33]"
   ]
  },
  {
   "cell_type": "code",
   "execution_count": null,
   "metadata": {},
   "outputs": [],
   "source": [
    "np.argmin([queue_wait_cost(get_pmat_q_point_five(X),get_costs_types(2),get_arrival_rates_types(all_xray_df),get_service_rates_types(0.6)) for X in list_partition_matrices])"
   ]
  },
  {
   "cell_type": "code",
   "execution_count": null,
   "metadata": {},
   "outputs": [],
   "source": [
    "list_partition_matrices[14]"
   ]
  },
  {
   "cell_type": "code",
   "execution_count": null,
   "metadata": {},
   "outputs": [],
   "source": [
    "np.argmin([queue_wait_cost(get_pmat_q_identity(X),get_costs_types(2),get_arrival_rates_types(all_xray_df),get_service_rates_types(0.6)) for X in list_partition_matrices])"
   ]
  },
  {
   "cell_type": "code",
   "execution_count": null,
   "metadata": {},
   "outputs": [],
   "source": [
    "list_partition_matrices[88]"
   ]
  }
 ],
 "metadata": {
  "kernelspec": {
   "display_name": "Python 3",
   "language": "python",
   "name": "python3"
  },
  "language_info": {
   "codemirror_mode": {
    "name": "ipython",
    "version": 3
   },
   "file_extension": ".py",
   "mimetype": "text/x-python",
   "name": "python",
   "nbconvert_exporter": "python",
   "pygments_lexer": "ipython3",
   "version": "3.7.10"
  }
 },
 "nbformat": 4,
 "nbformat_minor": 1
}
