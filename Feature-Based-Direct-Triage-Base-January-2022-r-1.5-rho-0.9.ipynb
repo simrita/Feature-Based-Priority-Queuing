{
 "cells": [
  {
   "cell_type": "code",
   "execution_count": 1,
   "metadata": {},
   "outputs": [
    {
     "name": "stdout",
     "output_type": "stream",
     "text": [
      "3.7.10\n"
     ]
    }
   ],
   "source": [
    "from platform import python_version\n",
    "print(python_version())"
   ]
  },
  {
   "cell_type": "markdown",
   "metadata": {},
   "source": [
    "A: The usage of the data set is unrestricted. But you should provide the link to our original download site, acknowledge the NIH Clinical Center and provide a citation to our CVPR 2017 paper"
   ]
  },
  {
   "cell_type": "markdown",
   "metadata": {},
   "source": [
    "A: ‘No finding’ means the 14 listed disease patterns are not found in the image. "
   ]
  },
  {
   "cell_type": "markdown",
   "metadata": {},
   "source": [
    "https://www.kaggle.com/nih-chest-xrays/data\n",
    "\n",
    "Citations\n",
    "Wang X, Peng Y, Lu L, Lu Z, Bagheri M, Summers RM. ChestX-ray8: Hospital-scale Chest X-ray Database and Benchmarks on Weakly-Supervised Classification and Localization of Common Thorax Diseases. IEEE CVPR 2017, ChestX-ray8_Hospital-Scale_Chest_CVPR_2017_paper.pdf\n",
    "\n",
    "NIH News release: NIH Clinical Center provides one of the largest publicly available chest x-ray datasets to scientific community\n",
    "\n",
    "Original source files and documents: https://nihcc.app.box.com/v/ChestXray-NIHCC/folder/36938765345"
   ]
  },
  {
   "cell_type": "markdown",
   "metadata": {},
   "source": [
    "### Context Behind Dataset for Final Writeup:"
   ]
  },
  {
   "cell_type": "markdown",
   "metadata": {},
   "source": [
    "Dataset was gathered by the NIH and contains over 100,000 anonymized chest x-ray images from more than 30,000 patients.  "
   ]
  },
  {
   "cell_type": "markdown",
   "metadata": {
    "_cell_guid": "19ff9d0b-d32d-4325-a19f-2ccbfa7d2dff",
    "_uuid": "9206c5863724e1af01281071e0f0ee5109ef431b"
   },
   "source": [
    "# Goal\n",
    "The goal is to use a simple model to classify x-ray images in Keras"
   ]
  },
  {
   "cell_type": "code",
   "execution_count": 2,
   "metadata": {
    "_cell_guid": "f42f6560-edf0-4efb-85a6-6e945e50895b",
    "_uuid": "3300a1edbf2e8122d88093998eb503a6fab8a719"
   },
   "outputs": [
    {
     "name": "stderr",
     "output_type": "stream",
     "text": [
      "\n",
      "Bad key \"text.kerning_factor\" on line 4 in\n",
      "/home/ubuntu/anaconda3/lib/python3.7/site-packages/matplotlib/mpl-data/stylelib/_classic_test_patch.mplstyle.\n",
      "You probably need to get an updated matplotlibrc file from\n",
      "http://github.com/matplotlib/matplotlib/blob/master/matplotlibrc.template\n",
      "or from the matplotlib source distribution\n"
     ]
    }
   ],
   "source": [
    "import numpy as np # linear algebra\n",
    "import pandas as pd # data processing, CSV file I/O (e.g. pd.read_csv)\n",
    "import os\n",
    "from glob import glob\n",
    "%matplotlib inline\n",
    "import matplotlib.pyplot as plt"
   ]
  },
  {
   "cell_type": "code",
   "execution_count": 3,
   "metadata": {},
   "outputs": [],
   "source": [
    "import tensorflow"
   ]
  },
  {
   "cell_type": "code",
   "execution_count": 4,
   "metadata": {},
   "outputs": [
    {
     "data": {
      "text/plain": [
       "[('00018942_001.png', '../data/images_009/images/00018942_001.png'),\n",
       " ('00020323_001.png', '../data/images_009/images/00020323_001.png'),\n",
       " ('00018730_001.png', '../data/images_009/images/00018730_001.png'),\n",
       " ('00019551_000.png', '../data/images_009/images/00019551_000.png')]"
      ]
     },
     "execution_count": 4,
     "metadata": {},
     "output_type": "execute_result"
    }
   ],
   "source": [
    "all_xray_df = pd.read_csv('../data/Data_Entry_2017.csv')\n",
    "folderlist = glob(os.path.join('../data', 'images*'))\n",
    "imglist = []\n",
    "for folder in folderlist:\n",
    "    tmp = glob(os.path.join(folder, \"images\", \"*.png\"))\n",
    "    imglist += tmp\n",
    "all_image_paths = {os.path.basename(x): x for x in imglist}\n",
    "#{k:all_image_paths[k] for k in all_image_paths.keys()[:5]}\n",
    "list(all_image_paths.items())[:4]\n",
    "# all_image_paths = {os.path.basename(x): x for x in \n",
    "#                    glob(os.path.join('.', 'data', 'images*', '*.png'))}\n",
    "\n"
   ]
  },
  {
   "cell_type": "code",
   "execution_count": 5,
   "metadata": {},
   "outputs": [
    {
     "name": "stdout",
     "output_type": "stream",
     "text": [
      "Scans found: 112120 , Total Headers 112120\n",
      "[('00002587_005.png', '../data/images_002/images/00002587_005.png'), ('00002588_000.png', '../data/images_002/images/00002588_000.png'), ('00002589_000.png', '../data/images_002/images/00002589_000.png'), ('00002589_001.png', '../data/images_002/images/00002589_001.png')]\n"
     ]
    },
    {
     "data": {
      "text/html": [
       "<div>\n",
       "<style scoped>\n",
       "    .dataframe tbody tr th:only-of-type {\n",
       "        vertical-align: middle;\n",
       "    }\n",
       "\n",
       "    .dataframe tbody tr th {\n",
       "        vertical-align: top;\n",
       "    }\n",
       "\n",
       "    .dataframe thead th {\n",
       "        text-align: right;\n",
       "    }\n",
       "</style>\n",
       "<table border=\"1\" class=\"dataframe\">\n",
       "  <thead>\n",
       "    <tr style=\"text-align: right;\">\n",
       "      <th></th>\n",
       "      <th>Image Index</th>\n",
       "      <th>Finding Labels</th>\n",
       "      <th>Follow-up #</th>\n",
       "      <th>Patient ID</th>\n",
       "      <th>Patient Age</th>\n",
       "      <th>Patient Gender</th>\n",
       "      <th>View Position</th>\n",
       "      <th>OriginalImage[Width</th>\n",
       "      <th>Height]</th>\n",
       "      <th>OriginalImagePixelSpacing[x</th>\n",
       "      <th>y]</th>\n",
       "      <th>Unnamed: 11</th>\n",
       "      <th>path</th>\n",
       "    </tr>\n",
       "  </thead>\n",
       "  <tbody>\n",
       "    <tr>\n",
       "      <th>53803</th>\n",
       "      <td>00013592_009.png</td>\n",
       "      <td>No Finding</td>\n",
       "      <td>9</td>\n",
       "      <td>13592</td>\n",
       "      <td>60</td>\n",
       "      <td>M</td>\n",
       "      <td>PA</td>\n",
       "      <td>2822</td>\n",
       "      <td>2991</td>\n",
       "      <td>0.143</td>\n",
       "      <td>0.143</td>\n",
       "      <td>NaN</td>\n",
       "      <td>../data/images_006/images/00013592_009.png</td>\n",
       "    </tr>\n",
       "    <tr>\n",
       "      <th>41219</th>\n",
       "      <td>00010677_024.png</td>\n",
       "      <td>Fibrosis|Infiltration|Pneumothorax</td>\n",
       "      <td>24</td>\n",
       "      <td>10677</td>\n",
       "      <td>56</td>\n",
       "      <td>F</td>\n",
       "      <td>AP</td>\n",
       "      <td>2500</td>\n",
       "      <td>2048</td>\n",
       "      <td>0.168</td>\n",
       "      <td>0.168</td>\n",
       "      <td>NaN</td>\n",
       "      <td>../data/images_005/images/00010677_024.png</td>\n",
       "    </tr>\n",
       "    <tr>\n",
       "      <th>87333</th>\n",
       "      <td>00021567_001.png</td>\n",
       "      <td>Infiltration</td>\n",
       "      <td>1</td>\n",
       "      <td>21567</td>\n",
       "      <td>20</td>\n",
       "      <td>M</td>\n",
       "      <td>PA</td>\n",
       "      <td>2992</td>\n",
       "      <td>2991</td>\n",
       "      <td>0.143</td>\n",
       "      <td>0.143</td>\n",
       "      <td>NaN</td>\n",
       "      <td>../data/images_010/images/00021567_001.png</td>\n",
       "    </tr>\n",
       "  </tbody>\n",
       "</table>\n",
       "</div>"
      ],
      "text/plain": [
       "            Image Index                      Finding Labels  Follow-up #  \\\n",
       "53803  00013592_009.png                          No Finding            9   \n",
       "41219  00010677_024.png  Fibrosis|Infiltration|Pneumothorax           24   \n",
       "87333  00021567_001.png                        Infiltration            1   \n",
       "\n",
       "       Patient ID  Patient Age Patient Gender View Position  \\\n",
       "53803       13592           60              M            PA   \n",
       "41219       10677           56              F            AP   \n",
       "87333       21567           20              M            PA   \n",
       "\n",
       "       OriginalImage[Width  Height]  OriginalImagePixelSpacing[x     y]  \\\n",
       "53803                 2822     2991                        0.143  0.143   \n",
       "41219                 2500     2048                        0.168  0.168   \n",
       "87333                 2992     2991                        0.143  0.143   \n",
       "\n",
       "       Unnamed: 11                                        path  \n",
       "53803          NaN  ../data/images_006/images/00013592_009.png  \n",
       "41219          NaN  ../data/images_005/images/00010677_024.png  \n",
       "87333          NaN  ../data/images_010/images/00021567_001.png  "
      ]
     },
     "execution_count": 5,
     "metadata": {},
     "output_type": "execute_result"
    }
   ],
   "source": [
    "print('Scans found:', len(all_image_paths), ', Total Headers', all_xray_df.shape[0])\n",
    "num_selected = 10000\n",
    "tmp = {key: all_image_paths[key] for key in sorted(list(all_image_paths.keys()))[num_selected:]}\n",
    "print(list(tmp.items())[:4])\n",
    "all_xray_df['path'] = all_xray_df['Image Index'][num_selected:].map(tmp.get)\n",
    "all_xray_df = all_xray_df[num_selected:]\n",
    "all_xray_df.sample(3)"
   ]
  },
  {
   "cell_type": "code",
   "execution_count": 6,
   "metadata": {
    "scrolled": true
   },
   "outputs": [
    {
     "data": {
      "text/plain": [
       "No Finding                                                                54652\n",
       "Infiltration                                                               8734\n",
       "Atelectasis                                                                3848\n",
       "Effusion                                                                   3659\n",
       "Nodule                                                                     2495\n",
       "Mass                                                                       2015\n",
       "Pneumothorax                                                               1972\n",
       "Effusion|Infiltration                                                      1511\n",
       "Atelectasis|Infiltration                                                   1237\n",
       "Consolidation                                                              1199\n",
       "Atelectasis|Effusion                                                       1091\n",
       "Pleural_Thickening                                                         1004\n",
       "Cardiomegaly                                                                981\n",
       "Emphysema                                                                   795\n",
       "Infiltration|Nodule                                                         764\n",
       "Atelectasis|Effusion|Infiltration                                           696\n",
       "Edema                                                                       590\n",
       "Fibrosis                                                                    580\n",
       "Cardiomegaly|Effusion                                                       431\n",
       "Infiltration|Mass                                                           390\n",
       "Effusion|Mass                                                               390\n",
       "Consolidation|Infiltration                                                  389\n",
       "Effusion|Pneumothorax                                                       384\n",
       "Mass|Nodule                                                                 380\n",
       "Edema|Infiltration                                                          371\n",
       "Atelectasis|Consolidation                                                   363\n",
       "Emphysema|Pneumothorax                                                      313\n",
       "Infiltration|Pneumothorax                                                   312\n",
       "Consolidation|Effusion                                                      306\n",
       "Pneumonia                                                                   283\n",
       "                                                                          ...  \n",
       "Consolidation|Mass|Pleural_Thickening|Pneumothorax                            1\n",
       "Fibrosis|Infiltration|Mass|Nodule                                             1\n",
       "Cardiomegaly|Consolidation|Nodule                                             1\n",
       "Atelectasis|Consolidation|Infiltration|Nodule|Pleural_Thickening              1\n",
       "Atelectasis|Emphysema|Infiltration|Pneumothorax|Pneumonia                     1\n",
       "Consolidation|Emphysema|Mass|Pneumothorax                                     1\n",
       "Atelectasis|Emphysema|Fibrosis|Mass                                           1\n",
       "Effusion|Emphysema|Nodule|Pleural_Thickening                                  1\n",
       "Effusion|Hernia|Mass                                                          1\n",
       "Effusion|Infiltration|Nodule|Mass|Pneumothorax                                1\n",
       "Fibrosis|Hernia|Mass                                                          1\n",
       "Atelectasis|Emphysema|Fibrosis|Mass|Pneumothorax                              1\n",
       "Atelectasis|Cardiomegaly|Effusion|Infiltration|Mass|Pneumothorax              1\n",
       "Consolidation|Mass|Nodule|Pneumonia                                           1\n",
       "Hernia|Infiltration|Nodule                                                    1\n",
       "Emphysema|Infiltration|Mass|Pleural_Thickening                                1\n",
       "Atelectasis|Cardiomegaly|Consolidation|Effusion|Infiltration|Pneumonia        1\n",
       "Atelectasis|Cardiomegaly|Effusion|Infiltration|Pneumonia                      1\n",
       "Cardiomegaly|Edema|Pleural_Thickening                                         1\n",
       "Atelectasis|Consolidation|Nodule|Pleural_Thickening|Pneumothorax              1\n",
       "Consolidation|Effusion|Emphysema|Mass                                         1\n",
       "Atelectasis|Edema|Effusion|Infiltration|Pleural_Thickening                    1\n",
       "Cardiomegaly|Hernia|Mass                                                      1\n",
       "Emphysema|Mass|Pneumonia|Pneumothorax                                         1\n",
       "Atelectasis|Emphysema|Fibrosis|Infiltration|Nodule|Pneumothorax               1\n",
       "Atelectasis|Edema|Effusion|Emphysema|Infiltration|Mass                        1\n",
       "Edema|Effusion|Emphysema|Infiltration                                         1\n",
       "Atelectasis|Effusion|Fibrosis|Infiltration|Nodule                             1\n",
       "Emphysema|Pneumothorax|Pneumonia                                              1\n",
       "Atelectasis|Fibrosis|Infiltration|Nodule                                      1\n",
       "Name: Finding Labels, Length: 807, dtype: int64"
      ]
     },
     "execution_count": 6,
     "metadata": {},
     "output_type": "execute_result"
    }
   ],
   "source": [
    "label_counts = all_xray_df['Finding Labels'].value_counts()\n",
    "label_counts"
   ]
  },
  {
   "cell_type": "markdown",
   "metadata": {
    "_cell_guid": "0d674a43-170f-4ca6-a9b4-edc64ab89c35",
    "_uuid": "9a1669750b7cffcae1b7a2eb4307b85472dff192"
   },
   "source": [
    "# Preprocessing Labels\n",
    "Here we take the labels and make them into a more clear format. The primary step is to see the distribution of findings and then to convert them to simple binary labels"
   ]
  },
  {
   "cell_type": "code",
   "execution_count": 7,
   "metadata": {
    "_cell_guid": "d75ed03e-986d-4f3f-81af-c910d194f390",
    "_uuid": "0c5123f65edf349f8ad2e5c5f55ac484d974f5c7"
   },
   "outputs": [
    {
     "data": {
      "image/png": "[encoded data removed]",
      "text/plain": [
       "<Figure size 864x576 with 1 Axes>"
      ]
     },
     "metadata": {
      "needs_background": "light"
     },
     "output_type": "display_data"
    }
   ],
   "source": [
    "label_counts = all_xray_df['Finding Labels'].value_counts()[:15]\n",
    "fig, ax1 = plt.subplots(1,1,figsize = (12, 8))\n",
    "ax1.bar(np.arange(len(label_counts))+0.5, label_counts)\n",
    "ax1.set_xticks(np.arange(len(label_counts))+0.5)\n",
    "_ = ax1.set_xticklabels(label_counts.index, rotation = 90)"
   ]
  },
  {
   "cell_type": "code",
   "execution_count": 8,
   "metadata": {
    "_cell_guid": "a9ff3a04-254d-4667-b0a3-869bbd92b08b",
    "_uuid": "78b4425b0a8932bb33864b5a3712611004687a48"
   },
   "outputs": [
    {
     "name": "stdout",
     "output_type": "stream",
     "text": [
      "All Labels (15): ['Atelectasis', 'Cardiomegaly', 'Consolidation', 'Edema', 'Effusion', 'Emphysema', 'Fibrosis', 'Hernia', 'Infiltration', 'Mass', 'No Finding', 'Nodule', 'Pleural_Thickening', 'Pneumonia', 'Pneumothorax']\n"
     ]
    },
    {
     "data": {
      "text/html": [
       "<div>\n",
       "<style scoped>\n",
       "    .dataframe tbody tr th:only-of-type {\n",
       "        vertical-align: middle;\n",
       "    }\n",
       "\n",
       "    .dataframe tbody tr th {\n",
       "        vertical-align: top;\n",
       "    }\n",
       "\n",
       "    .dataframe thead th {\n",
       "        text-align: right;\n",
       "    }\n",
       "</style>\n",
       "<table border=\"1\" class=\"dataframe\">\n",
       "  <thead>\n",
       "    <tr style=\"text-align: right;\">\n",
       "      <th></th>\n",
       "      <th>Image Index</th>\n",
       "      <th>Finding Labels</th>\n",
       "      <th>Follow-up #</th>\n",
       "      <th>Patient ID</th>\n",
       "      <th>Patient Age</th>\n",
       "      <th>Patient Gender</th>\n",
       "      <th>View Position</th>\n",
       "      <th>OriginalImage[Width</th>\n",
       "      <th>Height]</th>\n",
       "      <th>OriginalImagePixelSpacing[x</th>\n",
       "      <th>...</th>\n",
       "      <th>Emphysema</th>\n",
       "      <th>Fibrosis</th>\n",
       "      <th>Hernia</th>\n",
       "      <th>Infiltration</th>\n",
       "      <th>Mass</th>\n",
       "      <th>No Finding</th>\n",
       "      <th>Nodule</th>\n",
       "      <th>Pleural_Thickening</th>\n",
       "      <th>Pneumonia</th>\n",
       "      <th>Pneumothorax</th>\n",
       "    </tr>\n",
       "  </thead>\n",
       "  <tbody>\n",
       "    <tr>\n",
       "      <th>16451</th>\n",
       "      <td>00004381_045.png</td>\n",
       "      <td>Cardiomegaly|Effusion</td>\n",
       "      <td>45</td>\n",
       "      <td>4381</td>\n",
       "      <td>27</td>\n",
       "      <td>M</td>\n",
       "      <td>PA</td>\n",
       "      <td>2678</td>\n",
       "      <td>2873</td>\n",
       "      <td>0.143</td>\n",
       "      <td>...</td>\n",
       "      <td>0.0</td>\n",
       "      <td>0.0</td>\n",
       "      <td>0.0</td>\n",
       "      <td>0.0</td>\n",
       "      <td>0.0</td>\n",
       "      <td>0.0</td>\n",
       "      <td>0.0</td>\n",
       "      <td>0.0</td>\n",
       "      <td>0.0</td>\n",
       "      <td>0.0</td>\n",
       "    </tr>\n",
       "    <tr>\n",
       "      <th>67421</th>\n",
       "      <td>00016649_007.png</td>\n",
       "      <td>No Finding</td>\n",
       "      <td>7</td>\n",
       "      <td>16649</td>\n",
       "      <td>56</td>\n",
       "      <td>F</td>\n",
       "      <td>AP</td>\n",
       "      <td>2500</td>\n",
       "      <td>2048</td>\n",
       "      <td>0.168</td>\n",
       "      <td>...</td>\n",
       "      <td>0.0</td>\n",
       "      <td>0.0</td>\n",
       "      <td>0.0</td>\n",
       "      <td>0.0</td>\n",
       "      <td>0.0</td>\n",
       "      <td>1.0</td>\n",
       "      <td>0.0</td>\n",
       "      <td>0.0</td>\n",
       "      <td>0.0</td>\n",
       "      <td>0.0</td>\n",
       "    </tr>\n",
       "    <tr>\n",
       "      <th>74961</th>\n",
       "      <td>00018385_009.png</td>\n",
       "      <td>No Finding</td>\n",
       "      <td>9</td>\n",
       "      <td>18385</td>\n",
       "      <td>62</td>\n",
       "      <td>F</td>\n",
       "      <td>AP</td>\n",
       "      <td>2500</td>\n",
       "      <td>2048</td>\n",
       "      <td>0.168</td>\n",
       "      <td>...</td>\n",
       "      <td>0.0</td>\n",
       "      <td>0.0</td>\n",
       "      <td>0.0</td>\n",
       "      <td>0.0</td>\n",
       "      <td>0.0</td>\n",
       "      <td>1.0</td>\n",
       "      <td>0.0</td>\n",
       "      <td>0.0</td>\n",
       "      <td>0.0</td>\n",
       "      <td>0.0</td>\n",
       "    </tr>\n",
       "  </tbody>\n",
       "</table>\n",
       "<p>3 rows × 28 columns</p>\n",
       "</div>"
      ],
      "text/plain": [
       "            Image Index         Finding Labels  Follow-up #  Patient ID  \\\n",
       "16451  00004381_045.png  Cardiomegaly|Effusion           45        4381   \n",
       "67421  00016649_007.png             No Finding            7       16649   \n",
       "74961  00018385_009.png             No Finding            9       18385   \n",
       "\n",
       "       Patient Age Patient Gender View Position  OriginalImage[Width  Height]  \\\n",
       "16451           27              M            PA                 2678     2873   \n",
       "67421           56              F            AP                 2500     2048   \n",
       "74961           62              F            AP                 2500     2048   \n",
       "\n",
       "       OriginalImagePixelSpacing[x  ...  Emphysema  Fibrosis Hernia  \\\n",
       "16451                        0.143  ...        0.0       0.0    0.0   \n",
       "67421                        0.168  ...        0.0       0.0    0.0   \n",
       "74961                        0.168  ...        0.0       0.0    0.0   \n",
       "\n",
       "       Infiltration  Mass  No Finding  Nodule  Pleural_Thickening  Pneumonia  \\\n",
       "16451           0.0   0.0         0.0     0.0                 0.0        0.0   \n",
       "67421           0.0   0.0         1.0     0.0                 0.0        0.0   \n",
       "74961           0.0   0.0         1.0     0.0                 0.0        0.0   \n",
       "\n",
       "       Pneumothorax  \n",
       "16451           0.0  \n",
       "67421           0.0  \n",
       "74961           0.0  \n",
       "\n",
       "[3 rows x 28 columns]"
      ]
     },
     "execution_count": 8,
     "metadata": {},
     "output_type": "execute_result"
    }
   ],
   "source": [
    "#all_xray_df['Finding Labels'] = all_xray_df['Finding Labels'].map(lambda x: x.replace('No Finding', ''))\n",
    "from itertools import chain\n",
    "all_labels = np.unique(list(chain(*all_xray_df['Finding Labels'].map(lambda x: x.split('|')).tolist())))\n",
    "all_labels = [x for x in all_labels if len(x)>0]\n",
    "print('All Labels ({}): {}'.format(len(all_labels), all_labels))\n",
    "for c_label in all_labels:\n",
    "    if len(c_label)>1: # leave out empty labels\n",
    "        all_xray_df[c_label] = all_xray_df['Finding Labels'].map(lambda finding: 1.0 if c_label in finding else 0)\n",
    "all_xray_df.sample(3)"
   ]
  },
  {
   "cell_type": "code",
   "execution_count": 9,
   "metadata": {},
   "outputs": [
    {
     "data": {
      "text/plain": [
       "['Atelectasis',\n",
       " 'Cardiomegaly',\n",
       " 'Consolidation',\n",
       " 'Edema',\n",
       " 'Effusion',\n",
       " 'Emphysema',\n",
       " 'Fibrosis',\n",
       " 'Hernia',\n",
       " 'Infiltration',\n",
       " 'Mass',\n",
       " 'No Finding',\n",
       " 'Nodule',\n",
       " 'Pleural_Thickening',\n",
       " 'Pneumonia',\n",
       " 'Pneumothorax']"
      ]
     },
     "execution_count": 9,
     "metadata": {},
     "output_type": "execute_result"
    }
   ],
   "source": [
    "all_labels"
   ]
  },
  {
   "cell_type": "markdown",
   "metadata": {
    "_cell_guid": "05b6c7d9-4869-40b5-a70b-53957c69f021",
    "_uuid": "64653f9f57d3a5b952f1f1a709eb70ca38761a0d"
   },
   "source": [
    "### Clean categories\n",
    "Since we have too many categories, we can prune a few out by taking the ones with only a few examples"
   ]
  },
  {
   "cell_type": "code",
   "execution_count": 10,
   "metadata": {
    "_cell_guid": "dd273e26-63ab-4d76-925d-9c1c2c1ba69c",
    "_uuid": "9f368f9ea8947d8fc1dacf3988c58b6a2bf5fffc"
   },
   "outputs": [
    {
     "name": "stdout",
     "output_type": "stream",
     "text": [
      "Clean Labels (14) [('Atelectasis', 10670), ('Cardiomegaly', 2476), ('Consolidation', 4271), ('Edema', 2150), ('Effusion', 12410), ('Emphysema', 2295), ('Fibrosis', 1407), ('Infiltration', 18291), ('Mass', 5454), ('No Finding', 54652), ('Nodule', 5887), ('Pleural_Thickening', 3060), ('Pneumonia', 1296), ('Pneumothorax', 4862)]\n"
     ]
    }
   ],
   "source": [
    "# keep at least 1000 cases\n",
    "MIN_CASES = 1000\n",
    "all_labels = [c_label for c_label in all_labels if all_xray_df[c_label].sum()>MIN_CASES]\n",
    "print('Clean Labels ({})'.format(len(all_labels)), \n",
    "      [(c_label,int(all_xray_df[c_label].sum())) for c_label in all_labels])"
   ]
  },
  {
   "cell_type": "code",
   "execution_count": 11,
   "metadata": {},
   "outputs": [
    {
     "data": {
      "text/html": [
       "<div>\n",
       "<style scoped>\n",
       "    .dataframe tbody tr th:only-of-type {\n",
       "        vertical-align: middle;\n",
       "    }\n",
       "\n",
       "    .dataframe tbody tr th {\n",
       "        vertical-align: top;\n",
       "    }\n",
       "\n",
       "    .dataframe thead th {\n",
       "        text-align: right;\n",
       "    }\n",
       "</style>\n",
       "<table border=\"1\" class=\"dataframe\">\n",
       "  <thead>\n",
       "    <tr style=\"text-align: right;\">\n",
       "      <th></th>\n",
       "      <th>Image Index</th>\n",
       "      <th>Finding Labels</th>\n",
       "      <th>Follow-up #</th>\n",
       "      <th>Patient ID</th>\n",
       "      <th>Patient Age</th>\n",
       "      <th>Patient Gender</th>\n",
       "      <th>View Position</th>\n",
       "      <th>OriginalImage[Width</th>\n",
       "      <th>Height]</th>\n",
       "      <th>OriginalImagePixelSpacing[x</th>\n",
       "      <th>...</th>\n",
       "      <th>Emphysema</th>\n",
       "      <th>Fibrosis</th>\n",
       "      <th>Hernia</th>\n",
       "      <th>Infiltration</th>\n",
       "      <th>Mass</th>\n",
       "      <th>No Finding</th>\n",
       "      <th>Nodule</th>\n",
       "      <th>Pleural_Thickening</th>\n",
       "      <th>Pneumonia</th>\n",
       "      <th>Pneumothorax</th>\n",
       "    </tr>\n",
       "  </thead>\n",
       "  <tbody>\n",
       "    <tr>\n",
       "      <th>39466</th>\n",
       "      <td>00010338_010.png</td>\n",
       "      <td>Cardiomegaly|Effusion</td>\n",
       "      <td>10</td>\n",
       "      <td>10338</td>\n",
       "      <td>70</td>\n",
       "      <td>M</td>\n",
       "      <td>PA</td>\n",
       "      <td>2942</td>\n",
       "      <td>2991</td>\n",
       "      <td>0.143000</td>\n",
       "      <td>...</td>\n",
       "      <td>0.0</td>\n",
       "      <td>0.0</td>\n",
       "      <td>0.0</td>\n",
       "      <td>0.0</td>\n",
       "      <td>0.0</td>\n",
       "      <td>0.0</td>\n",
       "      <td>0.0</td>\n",
       "      <td>0.0</td>\n",
       "      <td>0.0</td>\n",
       "      <td>0.0</td>\n",
       "    </tr>\n",
       "    <tr>\n",
       "      <th>10908</th>\n",
       "      <td>00002839_003.png</td>\n",
       "      <td>No Finding</td>\n",
       "      <td>3</td>\n",
       "      <td>2839</td>\n",
       "      <td>10</td>\n",
       "      <td>M</td>\n",
       "      <td>PA</td>\n",
       "      <td>2322</td>\n",
       "      <td>1750</td>\n",
       "      <td>0.143000</td>\n",
       "      <td>...</td>\n",
       "      <td>0.0</td>\n",
       "      <td>0.0</td>\n",
       "      <td>0.0</td>\n",
       "      <td>0.0</td>\n",
       "      <td>0.0</td>\n",
       "      <td>1.0</td>\n",
       "      <td>0.0</td>\n",
       "      <td>0.0</td>\n",
       "      <td>0.0</td>\n",
       "      <td>0.0</td>\n",
       "    </tr>\n",
       "    <tr>\n",
       "      <th>98118</th>\n",
       "      <td>00025899_000.png</td>\n",
       "      <td>No Finding</td>\n",
       "      <td>0</td>\n",
       "      <td>25899</td>\n",
       "      <td>49</td>\n",
       "      <td>M</td>\n",
       "      <td>PA</td>\n",
       "      <td>2021</td>\n",
       "      <td>2021</td>\n",
       "      <td>0.194311</td>\n",
       "      <td>...</td>\n",
       "      <td>0.0</td>\n",
       "      <td>0.0</td>\n",
       "      <td>0.0</td>\n",
       "      <td>0.0</td>\n",
       "      <td>0.0</td>\n",
       "      <td>1.0</td>\n",
       "      <td>0.0</td>\n",
       "      <td>0.0</td>\n",
       "      <td>0.0</td>\n",
       "      <td>0.0</td>\n",
       "    </tr>\n",
       "  </tbody>\n",
       "</table>\n",
       "<p>3 rows × 28 columns</p>\n",
       "</div>"
      ],
      "text/plain": [
       "            Image Index         Finding Labels  Follow-up #  Patient ID  \\\n",
       "39466  00010338_010.png  Cardiomegaly|Effusion           10       10338   \n",
       "10908  00002839_003.png             No Finding            3        2839   \n",
       "98118  00025899_000.png             No Finding            0       25899   \n",
       "\n",
       "       Patient Age Patient Gender View Position  OriginalImage[Width  Height]  \\\n",
       "39466           70              M            PA                 2942     2991   \n",
       "10908           10              M            PA                 2322     1750   \n",
       "98118           49              M            PA                 2021     2021   \n",
       "\n",
       "       OriginalImagePixelSpacing[x  ...  Emphysema  Fibrosis Hernia  \\\n",
       "39466                     0.143000  ...        0.0       0.0    0.0   \n",
       "10908                     0.143000  ...        0.0       0.0    0.0   \n",
       "98118                     0.194311  ...        0.0       0.0    0.0   \n",
       "\n",
       "       Infiltration  Mass  No Finding  Nodule  Pleural_Thickening  Pneumonia  \\\n",
       "39466           0.0   0.0         0.0     0.0                 0.0        0.0   \n",
       "10908           0.0   0.0         1.0     0.0                 0.0        0.0   \n",
       "98118           0.0   0.0         1.0     0.0                 0.0        0.0   \n",
       "\n",
       "       Pneumothorax  \n",
       "39466           0.0  \n",
       "10908           0.0  \n",
       "98118           0.0  \n",
       "\n",
       "[3 rows x 28 columns]"
      ]
     },
     "execution_count": 11,
     "metadata": {},
     "output_type": "execute_result"
    }
   ],
   "source": [
    "all_xray_df.sample(3)"
   ]
  },
  {
   "cell_type": "code",
   "execution_count": 12,
   "metadata": {},
   "outputs": [
    {
     "name": "stdout",
     "output_type": "stream",
     "text": [
      "Atelectasis: 0.104485\n",
      "Cardiomegaly: 0.024246\n",
      "Consolidation: 0.041823\n",
      "Edema: 0.021054\n",
      "Effusion: 0.121524\n",
      "Emphysema: 0.022474\n",
      "Fibrosis: 0.013778\n",
      "Infiltration: 0.179113\n",
      "Mass: 0.053408\n",
      "No Finding: 0.535174\n",
      "Nodule: 0.057648\n",
      "Pleural_Thickening: 0.029965\n",
      "Pneumonia: 0.012691\n",
      "Pneumothorax: 0.047611\n",
      "[0.08259729 0.01916691 0.03306214 0.01664331 0.09606676 0.01776577\n",
      " 0.01089169 0.14159203 0.04221983 0.42306531 0.04557172 0.02368769\n",
      " 0.01003244 0.03763711]\n"
     ]
    }
   ],
   "source": [
    "for c_label, s_count in zip(all_labels, np.mean(all_xray_df[all_labels].values,0)):\n",
    "    print('%s: %f' % (c_label, s_count))\n",
    "arrivals=np.array(np.mean(all_xray_df[all_labels].values,0))\n",
    "arrivals=arrivals/arrivals.sum(axis=0,keepdims=True)\n",
    "print(arrivals)"
   ]
  },
  {
   "cell_type": "code",
   "execution_count": 13,
   "metadata": {},
   "outputs": [
    {
     "name": "stdout",
     "output_type": "stream",
     "text": [
      "Atelectasis           10670.0\n",
      "Cardiomegaly           2476.0\n",
      "Consolidation          4271.0\n",
      "Edema                  2150.0\n",
      "Effusion              12410.0\n",
      "Emphysema              2295.0\n",
      "Fibrosis               1407.0\n",
      "Infiltration          18291.0\n",
      "Mass                   5454.0\n",
      "No Finding            54652.0\n",
      "Nodule                 5887.0\n",
      "Pleural_Thickening     3060.0\n",
      "Pneumonia              1296.0\n",
      "Pneumothorax           4862.0\n",
      "dtype: float64\n"
     ]
    }
   ],
   "source": [
    "print(all_xray_df[all_labels].sum())"
   ]
  },
  {
   "cell_type": "markdown",
   "metadata": {},
   "source": [
    "# Label the type of each image and create a training data-set that is balanced across all image types\n"
   ]
  },
  {
   "cell_type": "code",
   "execution_count": 14,
   "metadata": {},
   "outputs": [],
   "source": [
    "def image_type(X):\n",
    "    if any(item =='Pneumothorax' for item in X):\n",
    "        return 1\n",
    "    elif any(item =='Emphysema' for item in X):\n",
    "        return 2\n",
    "    elif any(item =='Pneumonia' for item in X):\n",
    "        return 3\n",
    "    elif any(item =='Edema' for item in X):\n",
    "        return 4\n",
    "    elif any(item =='Consolidation' for item in X):\n",
    "        return 5\n",
    "    elif any(item =='Effusion' for item in X):\n",
    "        return 6\n",
    "    elif any(item =='Infiltration' for item in X):\n",
    "        return 7\n",
    "    elif any(item =='Atelectasis' for item in X):\n",
    "        return 8\n",
    "    elif any(item =='Cardiomegaly' for item in X):\n",
    "        return 9\n",
    "    elif any(item =='Pleural_Thickening' for item in X):\n",
    "        return 10\n",
    "    elif any(item =='Fibrosis' for item in X):\n",
    "        return 11\n",
    "    elif any(item =='Mass' for item in X):\n",
    "        return 12\n",
    "    elif any(item =='Nodule' for item in X):\n",
    "        return 13\n",
    "    else:\n",
    "        return 14\n",
    "def rank_disease(item):\n",
    "    if item =='Pneumothorax':\n",
    "        return 1\n",
    "    elif item =='Emphysema':\n",
    "        return 2\n",
    "    elif item =='Pneumonia':\n",
    "        return 3\n",
    "    elif item =='Edema':\n",
    "        return 4\n",
    "    elif item =='Consolidation':\n",
    "        return 5\n",
    "    elif item =='Effusion':\n",
    "        return 6\n",
    "    elif item =='Infiltration':\n",
    "        return 7\n",
    "    elif item =='Atelectasis':\n",
    "        return 8\n",
    "    elif item =='Cardiomegaly':\n",
    "        return 9\n",
    "    elif item =='Pleural_Thickening':\n",
    "        return 10\n",
    "    elif item =='Fibrosis':\n",
    "        return 11\n",
    "    elif item =='Mass':\n",
    "        return 12\n",
    "    elif item =='Nodule':\n",
    "        return 13\n",
    "    else:\n",
    "        return 14"
   ]
  },
  {
   "cell_type": "markdown",
   "metadata": {
    "_cell_guid": "a1367d63-4c7b-4e47-b19f-9a26d1f89476",
    "_uuid": "6ed6489bbd618fb419ceca2bbd8c300694f1d4ed",
    "scrolled": true
   },
   "source": [
    "# Prepare Training Data\n",
    "Here we split the data into training and validation sets and create a single vector (disease_vec) with the 0/1 outputs for the disease status (what the model will try and predict)"
   ]
  },
  {
   "cell_type": "code",
   "execution_count": 15,
   "metadata": {},
   "outputs": [],
   "source": [
    "all_xray_df['disease_vec'] = all_xray_df.apply(lambda x: [x[all_labels].values], 1).map(lambda x: x[0])\n",
    "from itertools import chain\n",
    "all_xray_df['Type']=all_xray_df['Finding Labels'].map(lambda x: image_type(x.split('|')))"
   ]
  },
  {
   "cell_type": "code",
   "execution_count": 16,
   "metadata": {},
   "outputs": [
    {
     "name": "stdout",
     "output_type": "stream",
     "text": [
      "        Type                   Finding Labels\n",
      "69641     14                       No Finding\n",
      "62951     14                       No Finding\n",
      "44151     14                       No Finding\n",
      "22540     14                       No Finding\n",
      "26974      7  Infiltration|Pleural_Thickening\n",
      "37644      6            Cardiomegaly|Effusion\n",
      "109866     7                     Infiltration\n",
      "48858      2                   Emphysema|Mass\n",
      "93690     14                       No Finding\n",
      "84536      8                      Atelectasis\n"
     ]
    }
   ],
   "source": [
    "print(all_xray_df[['Type','Finding Labels']].sample(10))\n"
   ]
  },
  {
   "cell_type": "code",
   "execution_count": 17,
   "metadata": {},
   "outputs": [
    {
     "name": "stdout",
     "output_type": "stream",
     "text": [
      "14    54740\n",
      "7     12078\n",
      "6      9474\n",
      "1      4862\n",
      "8      4577\n",
      "5      3758\n",
      "13     2501\n",
      "12     2410\n",
      "4      1793\n",
      "2      1602\n",
      "10     1360\n",
      "3      1243\n",
      "9      1043\n",
      "11      679\n",
      "Name: Type, dtype: int64\n"
     ]
    }
   ],
   "source": [
    "print(all_xray_df['Type'].value_counts())"
   ]
  },
  {
   "cell_type": "code",
   "execution_count": 18,
   "metadata": {},
   "outputs": [
    {
     "name": "stdout",
     "output_type": "stream",
     "text": [
      "Atelectasis           10670.0\n",
      "Cardiomegaly           2476.0\n",
      "Consolidation          4271.0\n",
      "Edema                  2150.0\n",
      "Effusion              12410.0\n",
      "Emphysema              2295.0\n",
      "Fibrosis               1407.0\n",
      "Infiltration          18291.0\n",
      "Mass                   5454.0\n",
      "No Finding            54652.0\n",
      "Nodule                 5887.0\n",
      "Pleural_Thickening     3060.0\n",
      "Pneumonia              1296.0\n",
      "Pneumothorax           4862.0\n",
      "dtype: float64\n"
     ]
    }
   ],
   "source": [
    "print(all_xray_df[all_labels].sum())"
   ]
  },
  {
   "cell_type": "code",
   "execution_count": 19,
   "metadata": {
    "_cell_guid": "5feddc96-7958-4d34-81f1-10eba94ab1b6",
    "_uuid": "8c7dc722de08243cc763d23928708f9c040bbdc6"
   },
   "outputs": [],
   "source": [
    "from sklearn.model_selection import train_test_split\n",
    "train_df, valid_test_df = train_test_split(all_xray_df, \n",
    "                                   test_size = 0.5, \n",
    "                                   random_state = 2018,\n",
    "                                   stratify = all_xray_df['Type'])"
   ]
  },
  {
   "cell_type": "code",
   "execution_count": 20,
   "metadata": {},
   "outputs": [],
   "source": [
    "valid_df, test_df = train_test_split(valid_test_df, \n",
    "                                   test_size = 0.5, \n",
    "                                   random_state = 2018,\n",
    "                                   stratify = valid_test_df['Type'])"
   ]
  },
  {
   "cell_type": "code",
   "execution_count": 21,
   "metadata": {},
   "outputs": [
    {
     "name": "stdout",
     "output_type": "stream",
     "text": [
      "train (51060, 30) validation (25530, 30) test (25530, 30)\n"
     ]
    }
   ],
   "source": [
    "print('train', train_df.shape, 'validation', valid_df.shape,'test', test_df.shape)"
   ]
  },
  {
   "cell_type": "code",
   "execution_count": 22,
   "metadata": {},
   "outputs": [
    {
     "name": "stdout",
     "output_type": "stream",
     "text": [
      "            Image Index Finding Labels  Follow-up #  Patient ID  Patient Age  \\\n",
      "74720  00018356_005.png       Effusion            5       18356           49   \n",
      "17858  00004808_097.png     No Finding           97        4808           38   \n",
      "68282  00016842_004.png     No Finding            4       16842           48   \n",
      "\n",
      "      Patient Gender View Position  OriginalImage[Width  Height]  \\\n",
      "74720              M            PA                 2048     2500   \n",
      "17858              M            AP                 2500     2048   \n",
      "68282              M            AP                 2500     2048   \n",
      "\n",
      "       OriginalImagePixelSpacing[x  ...  Mass  No Finding Nodule  \\\n",
      "74720                        0.168  ...   0.0         0.0    0.0   \n",
      "17858                        0.168  ...   0.0         1.0    0.0   \n",
      "68282                        0.168  ...   0.0         1.0    0.0   \n",
      "\n",
      "       Pleural_Thickening  Pneumonia  Pneumothorax  \\\n",
      "74720                 0.0        0.0           0.0   \n",
      "17858                 0.0        0.0           0.0   \n",
      "68282                 0.0        0.0           0.0   \n",
      "\n",
      "                                             disease_vec  Type      newLabel  \\\n",
      "74720  [0.0, 0.0, 0.0, 0.0, 1.0, 0.0, 0.0, 0.0, 0.0, ...     6    [Effusion]   \n",
      "17858  [0.0, 0.0, 0.0, 0.0, 0.0, 0.0, 0.0, 0.0, 0.0, ...    14  [No Finding]   \n",
      "68282  [0.0, 0.0, 0.0, 0.0, 0.0, 0.0, 0.0, 0.0, 0.0, ...    14  [No Finding]   \n",
      "\n",
      "       newLabelT  \n",
      "74720          6  \n",
      "17858         14  \n",
      "68282         14  \n",
      "\n",
      "[3 rows x 32 columns]\n"
     ]
    },
    {
     "name": "stderr",
     "output_type": "stream",
     "text": [
      "/home/ubuntu/anaconda3/lib/python3.7/site-packages/ipykernel_launcher.py:1: SettingWithCopyWarning: \n",
      "A value is trying to be set on a copy of a slice from a DataFrame.\n",
      "Try using .loc[row_indexer,col_indexer] = value instead\n",
      "\n",
      "See the caveats in the documentation: http://pandas.pydata.org/pandas-docs/stable/indexing.html#indexing-view-versus-copy\n",
      "  \"\"\"Entry point for launching an IPython kernel.\n",
      "/home/ubuntu/anaconda3/lib/python3.7/site-packages/ipykernel_launcher.py:2: SettingWithCopyWarning: \n",
      "A value is trying to be set on a copy of a slice from a DataFrame.\n",
      "Try using .loc[row_indexer,col_indexer] = value instead\n",
      "\n",
      "See the caveats in the documentation: http://pandas.pydata.org/pandas-docs/stable/indexing.html#indexing-view-versus-copy\n",
      "  \n"
     ]
    }
   ],
   "source": [
    "train_df['newLabel'] = train_df.apply(lambda x: x['Finding Labels'].split('|'), axis=1)\n",
    "train_df['newLabelT'] = train_df['Type']\n",
    "print(train_df.sample(3))"
   ]
  },
  {
   "cell_type": "code",
   "execution_count": 23,
   "metadata": {},
   "outputs": [
    {
     "name": "stdout",
     "output_type": "stream",
     "text": [
      "            Image Index              Finding Labels  Follow-up #  Patient ID  \\\n",
      "26593  00006970_001.png                  No Finding            1        6970   \n",
      "63123  00015605_031.png  Consolidation|Infiltration           31       15605   \n",
      "51858  00013105_000.png                  No Finding            0       13105   \n",
      "\n",
      "       Patient Age Patient Gender View Position  OriginalImage[Width  Height]  \\\n",
      "26593           45              M            PA                 2500     2048   \n",
      "63123           32              F            AP                 2500     2048   \n",
      "51858           50              F            PA                 2992     2991   \n",
      "\n",
      "       OriginalImagePixelSpacing[x  ...  Mass  No Finding Nodule  \\\n",
      "26593                        0.168  ...   0.0         1.0    0.0   \n",
      "63123                        0.168  ...   0.0         0.0    0.0   \n",
      "51858                        0.143  ...   0.0         1.0    0.0   \n",
      "\n",
      "       Pleural_Thickening  Pneumonia  Pneumothorax  \\\n",
      "26593                 0.0        0.0           0.0   \n",
      "63123                 0.0        0.0           0.0   \n",
      "51858                 0.0        0.0           0.0   \n",
      "\n",
      "                                             disease_vec  Type  \\\n",
      "26593  [0.0, 0.0, 0.0, 0.0, 0.0, 0.0, 0.0, 0.0, 0.0, ...    14   \n",
      "63123  [0.0, 0.0, 1.0, 0.0, 0.0, 0.0, 0.0, 1.0, 0.0, ...     5   \n",
      "51858  [0.0, 0.0, 0.0, 0.0, 0.0, 0.0, 0.0, 0.0, 0.0, ...    14   \n",
      "\n",
      "                            newLabel  newLabelT  \n",
      "26593                   [No Finding]         14  \n",
      "63123  [Consolidation, Infiltration]          5  \n",
      "51858                   [No Finding]         14  \n",
      "\n",
      "[3 rows x 32 columns]\n"
     ]
    },
    {
     "name": "stderr",
     "output_type": "stream",
     "text": [
      "/home/ubuntu/anaconda3/lib/python3.7/site-packages/ipykernel_launcher.py:1: SettingWithCopyWarning: \n",
      "A value is trying to be set on a copy of a slice from a DataFrame.\n",
      "Try using .loc[row_indexer,col_indexer] = value instead\n",
      "\n",
      "See the caveats in the documentation: http://pandas.pydata.org/pandas-docs/stable/indexing.html#indexing-view-versus-copy\n",
      "  \"\"\"Entry point for launching an IPython kernel.\n",
      "/home/ubuntu/anaconda3/lib/python3.7/site-packages/ipykernel_launcher.py:2: SettingWithCopyWarning: \n",
      "A value is trying to be set on a copy of a slice from a DataFrame.\n",
      "Try using .loc[row_indexer,col_indexer] = value instead\n",
      "\n",
      "See the caveats in the documentation: http://pandas.pydata.org/pandas-docs/stable/indexing.html#indexing-view-versus-copy\n",
      "  \n"
     ]
    }
   ],
   "source": [
    "valid_df['newLabel'] = valid_df.apply(lambda x: x['Finding Labels'].split('|'), axis=1)\n",
    "valid_df['newLabelT'] = valid_df['Type']\n",
    "print(valid_df.sample(3))"
   ]
  },
  {
   "cell_type": "code",
   "execution_count": 24,
   "metadata": {},
   "outputs": [
    {
     "name": "stdout",
     "output_type": "stream",
     "text": [
      "             Image Index Finding Labels  Follow-up #  Patient ID  Patient Age  \\\n",
      "48171   00012210_004.png     No Finding            4       12210           55   \n",
      "106587  00028758_000.png     No Finding            0       28758           72   \n",
      "104901  00028131_011.png     No Finding           11       28131           51   \n",
      "\n",
      "       Patient Gender View Position  OriginalImage[Width  Height]  \\\n",
      "48171               M            PA                 2992     2991   \n",
      "106587              M            PA                 2021     2021   \n",
      "104901              M            AP                 3056     2544   \n",
      "\n",
      "        OriginalImagePixelSpacing[x  ...  Mass  No Finding Nodule  \\\n",
      "48171                      0.143000  ...   0.0         1.0    0.0   \n",
      "106587                     0.194311  ...   0.0         1.0    0.0   \n",
      "104901                     0.139000  ...   0.0         1.0    0.0   \n",
      "\n",
      "        Pleural_Thickening  Pneumonia  Pneumothorax  \\\n",
      "48171                  0.0        0.0           0.0   \n",
      "106587                 0.0        0.0           0.0   \n",
      "104901                 0.0        0.0           0.0   \n",
      "\n",
      "                                              disease_vec  Type      newLabel  \\\n",
      "48171   [0.0, 0.0, 0.0, 0.0, 0.0, 0.0, 0.0, 0.0, 0.0, ...    14  [No Finding]   \n",
      "106587  [0.0, 0.0, 0.0, 0.0, 0.0, 0.0, 0.0, 0.0, 0.0, ...    14  [No Finding]   \n",
      "104901  [0.0, 0.0, 0.0, 0.0, 0.0, 0.0, 0.0, 0.0, 0.0, ...    14  [No Finding]   \n",
      "\n",
      "        newLabelT  \n",
      "48171          14  \n",
      "106587         14  \n",
      "104901         14  \n",
      "\n",
      "[3 rows x 32 columns]\n"
     ]
    },
    {
     "name": "stderr",
     "output_type": "stream",
     "text": [
      "/home/ubuntu/anaconda3/lib/python3.7/site-packages/ipykernel_launcher.py:1: SettingWithCopyWarning: \n",
      "A value is trying to be set on a copy of a slice from a DataFrame.\n",
      "Try using .loc[row_indexer,col_indexer] = value instead\n",
      "\n",
      "See the caveats in the documentation: http://pandas.pydata.org/pandas-docs/stable/indexing.html#indexing-view-versus-copy\n",
      "  \"\"\"Entry point for launching an IPython kernel.\n",
      "/home/ubuntu/anaconda3/lib/python3.7/site-packages/ipykernel_launcher.py:2: SettingWithCopyWarning: \n",
      "A value is trying to be set on a copy of a slice from a DataFrame.\n",
      "Try using .loc[row_indexer,col_indexer] = value instead\n",
      "\n",
      "See the caveats in the documentation: http://pandas.pydata.org/pandas-docs/stable/indexing.html#indexing-view-versus-copy\n",
      "  \n"
     ]
    }
   ],
   "source": [
    "test_df['newLabel'] = test_df.apply(lambda x: x['Finding Labels'].split('|'), axis=1)\n",
    "test_df['newLabelT'] = test_df['Type']\n",
    "print(test_df.sample(3))"
   ]
  },
  {
   "cell_type": "code",
   "execution_count": 25,
   "metadata": {},
   "outputs": [
    {
     "name": "stdout",
     "output_type": "stream",
     "text": [
      "AxesSubplot(0.125,0.125;0.775x0.755)\n"
     ]
    },
    {
     "data": {
      "image/png": "[encoded data removed]",
      "text/plain": [
       "<Figure size 432x288 with 1 Axes>"
      ]
     },
     "metadata": {
      "needs_background": "light"
     },
     "output_type": "display_data"
    }
   ],
   "source": [
    "print(train_df['Type'].hist())"
   ]
  },
  {
   "cell_type": "code",
   "execution_count": 26,
   "metadata": {},
   "outputs": [],
   "source": [
    "#from imblearn.over_sampling import SMOTE"
   ]
  },
  {
   "cell_type": "code",
   "execution_count": 27,
   "metadata": {},
   "outputs": [],
   "source": [
    "#pip install -U git+https://github.com/scikit-learn-contrib/imbalanced-learn.git"
   ]
  },
  {
   "cell_type": "code",
   "execution_count": 28,
   "metadata": {},
   "outputs": [],
   "source": [
    "from sklearn.preprocessing import LabelEncoder\n",
    "y=train_df['Type']"
   ]
  },
  {
   "cell_type": "code",
   "execution_count": 29,
   "metadata": {},
   "outputs": [
    {
     "name": "stderr",
     "output_type": "stream",
     "text": [
      "/home/ubuntu/anaconda3/lib/python3.7/site-packages/sklearn/utils/validation.py:1692: FutureWarning: Feature names only support names that are all strings. Got feature names with dtypes: ['str', 'str_']. An error will be raised in 1.2.\n",
      "  FutureWarning,\n"
     ]
    }
   ],
   "source": [
    "from imblearn.over_sampling import RandomOverSampler\n",
    "ros = RandomOverSampler(random_state=0)\n",
    "X_res, y_res = ros.fit_resample(train_df, y)"
   ]
  },
  {
   "cell_type": "code",
   "execution_count": 30,
   "metadata": {},
   "outputs": [
    {
     "data": {
      "text/plain": [
       "(383180, 32)"
      ]
     },
     "execution_count": 30,
     "metadata": {},
     "output_type": "execute_result"
    }
   ],
   "source": [
    "X_res.shape"
   ]
  },
  {
   "cell_type": "code",
   "execution_count": 31,
   "metadata": {},
   "outputs": [
    {
     "data": {
      "text/plain": [
       "(51060, 32)"
      ]
     },
     "execution_count": 31,
     "metadata": {},
     "output_type": "execute_result"
    }
   ],
   "source": [
    "train_df.shape"
   ]
  },
  {
   "cell_type": "code",
   "execution_count": 32,
   "metadata": {},
   "outputs": [
    {
     "name": "stdout",
     "output_type": "stream",
     "text": [
      "AxesSubplot(0.125,0.125;0.775x0.755)\n"
     ]
    },
    {
     "data": {
      "image/png": "[encoded data removed]",
      "text/plain": [
       "<Figure size 432x288 with 1 Axes>"
      ]
     },
     "metadata": {
      "needs_background": "light"
     },
     "output_type": "display_data"
    }
   ],
   "source": [
    "train_df=X_res\n",
    "print(train_df['Type'].hist())"
   ]
  },
  {
   "cell_type": "markdown",
   "metadata": {},
   "source": [
    "# Training the Model"
   ]
  },
  {
   "cell_type": "code",
   "execution_count": 33,
   "metadata": {},
   "outputs": [
    {
     "name": "stderr",
     "output_type": "stream",
     "text": [
      "Using TensorFlow backend.\n"
     ]
    }
   ],
   "source": [
    "from tensorflow.keras.applications.mobilenet import MobileNet\n",
    "from tensorflow.keras.layers import GlobalAveragePooling2D, Dense, Dropout, Flatten\n",
    "from tensorflow.keras.models import Sequential\n",
    "from keras import optimizers, callbacks, regularizers"
   ]
  },
  {
   "cell_type": "code",
   "execution_count": 34,
   "metadata": {},
   "outputs": [],
   "source": [
    "from keras.preprocessing.image import ImageDataGenerator\n",
    "core_idg = ImageDataGenerator(samplewise_center=True, \n",
    "                              samplewise_std_normalization=True, \n",
    "                              horizontal_flip = True, \n",
    "                              vertical_flip = False, \n",
    "                              height_shift_range= 0.05, \n",
    "                              width_shift_range=0.1, \n",
    "                              rotation_range=5, \n",
    "                              shear_range = 0.1,\n",
    "                              fill_mode = 'reflect',\n",
    "                              zoom_range=0.15)"
   ]
  },
  {
   "cell_type": "code",
   "execution_count": 35,
   "metadata": {},
   "outputs": [],
   "source": [
    "def image_type_vector(X):\n",
    "    set=X\n",
    "    pet=set[set==1].index.tolist()\n",
    "    return(image_type([all_labels[i] for i in pet]))"
   ]
  },
  {
   "cell_type": "code",
   "execution_count": 36,
   "metadata": {},
   "outputs": [],
   "source": [
    "types=14\n",
    "queues=4"
   ]
  },
  {
   "cell_type": "code",
   "execution_count": 37,
   "metadata": {},
   "outputs": [],
   "source": [
    "def get_arrival_rates_types(data):\n",
    "    types_test_data=pd.Series(data['Type'].value_counts().index)\n",
    "    counts_types_test_data=pd.Series(data['Type'].value_counts())\n",
    "    arrivals_types_test_data=counts_types_test_data/counts_types_test_data.sum(axis=0)\n",
    "    return pd.DataFrame({'Type':types_test_data.values,'Arrival_Rates':arrivals_types_test_data.values}).sort_values('Type', ascending=True)['Arrival_Rates'].values   "
   ]
  },
  {
   "cell_type": "code",
   "execution_count": 38,
   "metadata": {},
   "outputs": [
    {
     "data": {
      "text/plain": [
       "array([0.04759107, 0.01570701, 0.01218175, 0.01758715, 0.03678026,\n",
       "       0.09275362, 0.11829221, 0.04481003, 0.01022327, 0.01331767,\n",
       "       0.00665883, 0.0235801 , 0.024481  , 0.53603604])"
      ]
     },
     "execution_count": 38,
     "metadata": {},
     "output_type": "execute_result"
    }
   ],
   "source": [
    "get_arrival_rates_types(test_df)"
   ]
  },
  {
   "cell_type": "code",
   "execution_count": 39,
   "metadata": {},
   "outputs": [],
   "source": [
    "def get_costs_types(r):\n",
    "    return [r**(types-rank-1) for rank in range(types)]"
   ]
  },
  {
   "cell_type": "code",
   "execution_count": 40,
   "metadata": {},
   "outputs": [
    {
     "data": {
      "text/plain": [
       "[8192, 4096, 2048, 1024, 512, 256, 128, 64, 32, 16, 8, 4, 2, 1]"
      ]
     },
     "execution_count": 40,
     "metadata": {},
     "output_type": "execute_result"
    }
   ],
   "source": [
    "get_costs_types(2)"
   ]
  },
  {
   "cell_type": "code",
   "execution_count": 41,
   "metadata": {},
   "outputs": [],
   "source": [
    "def get_service_rates_types(rho):\n",
    "    return [1/rho]*types"
   ]
  },
  {
   "cell_type": "code",
   "execution_count": 42,
   "metadata": {},
   "outputs": [
    {
     "data": {
      "text/plain": [
       "[1.1111111111111112,\n",
       " 1.1111111111111112,\n",
       " 1.1111111111111112,\n",
       " 1.1111111111111112,\n",
       " 1.1111111111111112,\n",
       " 1.1111111111111112,\n",
       " 1.1111111111111112,\n",
       " 1.1111111111111112,\n",
       " 1.1111111111111112,\n",
       " 1.1111111111111112,\n",
       " 1.1111111111111112,\n",
       " 1.1111111111111112,\n",
       " 1.1111111111111112,\n",
       " 1.1111111111111112]"
      ]
     },
     "execution_count": 42,
     "metadata": {},
     "output_type": "execute_result"
    }
   ],
   "source": [
    "get_service_rates_types(0.9)"
   ]
  },
  {
   "cell_type": "markdown",
   "metadata": {},
   "source": [
    "# Implementing Direct Feature-Based Triage"
   ]
  },
  {
   "cell_type": "code",
   "execution_count": 43,
   "metadata": {},
   "outputs": [],
   "source": [
    "types=14"
   ]
  },
  {
   "cell_type": "code",
   "execution_count": 44,
   "metadata": {},
   "outputs": [],
   "source": [
    "queues=4"
   ]
  },
  {
   "cell_type": "code",
   "execution_count": 45,
   "metadata": {},
   "outputs": [],
   "source": [
    "r=1.5\n",
    "rho=0.90"
   ]
  },
  {
   "cell_type": "code",
   "execution_count": 46,
   "metadata": {},
   "outputs": [],
   "source": [
    "costs=get_costs_types(r)\n",
    "arrivals=get_arrival_rates_types(all_xray_df)\n",
    "service=get_service_rates_types(rho)"
   ]
  },
  {
   "cell_type": "code",
   "execution_count": 47,
   "metadata": {},
   "outputs": [
    {
     "data": {
      "text/plain": [
       "[194.6195068359375,\n",
       " 129.746337890625,\n",
       " 86.49755859375,\n",
       " 57.6650390625,\n",
       " 38.443359375,\n",
       " 25.62890625,\n",
       " 17.0859375,\n",
       " 11.390625,\n",
       " 7.59375,\n",
       " 5.0625,\n",
       " 3.375,\n",
       " 2.25,\n",
       " 1.5,\n",
       " 1.0]"
      ]
     },
     "execution_count": 47,
     "metadata": {},
     "output_type": "execute_result"
    }
   ],
   "source": [
    "costs"
   ]
  },
  {
   "cell_type": "code",
   "execution_count": 48,
   "metadata": {},
   "outputs": [
    {
     "data": {
      "text/plain": [
       "array([0.04761065, 0.01568743, 0.01217195, 0.01755778, 0.03679984,\n",
       "       0.09277321, 0.11827262, 0.04481982, 0.01021347, 0.01331767,\n",
       "       0.00664904, 0.02359969, 0.0244908 , 0.53603604])"
      ]
     },
     "execution_count": 48,
     "metadata": {},
     "output_type": "execute_result"
    }
   ],
   "source": [
    "arrivals"
   ]
  },
  {
   "cell_type": "code",
   "execution_count": 49,
   "metadata": {},
   "outputs": [
    {
     "data": {
      "text/plain": [
       "[1.1111111111111112,\n",
       " 1.1111111111111112,\n",
       " 1.1111111111111112,\n",
       " 1.1111111111111112,\n",
       " 1.1111111111111112,\n",
       " 1.1111111111111112,\n",
       " 1.1111111111111112,\n",
       " 1.1111111111111112,\n",
       " 1.1111111111111112,\n",
       " 1.1111111111111112,\n",
       " 1.1111111111111112,\n",
       " 1.1111111111111112,\n",
       " 1.1111111111111112,\n",
       " 1.1111111111111112]"
      ]
     },
     "execution_count": 49,
     "metadata": {},
     "output_type": "execute_result"
    }
   ],
   "source": [
    "service"
   ]
  },
  {
   "cell_type": "code",
   "execution_count": 50,
   "metadata": {},
   "outputs": [],
   "source": [
    "import tensorflow as tf"
   ]
  },
  {
   "cell_type": "code",
   "execution_count": 51,
   "metadata": {},
   "outputs": [],
   "source": [
    "def queue_loss_tensor(y_true,y_pred):\n",
    "    y_true = tf.cast(y_true, tf.float16)\n",
    "    y_pred = tf.cast(y_pred, tf.float16)\n",
    "    #y_pred = tf.divide(y_pred,tf.reduce_sum(y_pred,axis=1,keepdims=True)+0.000000000001)\n",
    "    pmat = tf.matmul(tf.transpose(y_true),y_pred)+0.007\n",
    "    pmat = tf.divide(pmat,tf.reduce_sum(tf.transpose(y_true),axis=1,keepdims=True)+0.1)\n",
    "    clambda = tf.reshape(tf.cast(tf.Variable(costs*arrivals),tf.float16),[1,types])\n",
    "    rho = tf.reshape(tf.cast(tf.Variable(arrivals/service),tf.float16),[1,types])\n",
    "    #clambda = tf.reshape(tf.Variable(costs*arrivals),[1,types])\n",
    "    #rho = tf.reshape(tf.Variable(arrivals/service),[1,types])\n",
    "    clambda_pmat = tf.matmul(clambda,pmat)\n",
    "    rho_pmat = tf.matmul(rho,pmat)\n",
    "    vec1=1-tf.cumsum(rho_pmat,axis=1)\n",
    "    vec2=tf.roll(1-tf.cumsum(rho_pmat,axis=1),shift=1,axis=1)\n",
    "    vec2=tf.tensor_scatter_nd_update(vec2,indices=[[0,0]],updates=[1])\n",
    "    denom = tf.multiply(tf.math.reciprocal(vec1),tf.math.reciprocal(vec2))\n",
    "    return tf.reshape(tf.reduce_sum(tf.multiply(clambda_pmat,denom)),[])\n",
    "def queue_loss_tensor_try(y_true,y_pred):\n",
    "    y_true = tf.cast(y_true+0.01, tf.float16)\n",
    "    y_pred = tf.cast(y_pred, tf.float16)\n",
    "    #y_pred = tf.divide(y_pred,tf.reduce_sum(y_pred,axis=1,keepdims=True)+0.000000000001)\n",
    "    pmat = tf.matmul(tf.transpose(y_true),y_pred)\n",
    "    pmat = tf.divide(pmat,tf.reduce_sum(pmat,axis=1,keepdims=True)+0.01)\n",
    "    return tf.reshape(tf.reduce_mean(pmat),[])\n",
    "initializer = tf.keras.initializers.RandomNormal(mean=0., stddev=1.)"
   ]
  },
  {
   "cell_type": "code",
   "execution_count": 52,
   "metadata": {},
   "outputs": [],
   "source": [
    "def MakeModel1(IMG_SIZE, bs, channels=1):\n",
    "    model = Sequential()\n",
    "    base_mobilenet_model = MobileNet(input_shape =  (*IMG_SIZE, channels), #Need to define the shape here from IMG_SIZE\n",
    "                                 include_top = False, weights = None)\n",
    "    model.add(base_mobilenet_model)\n",
    "    model.add(GlobalAveragePooling2D())\n",
    "    model.add(Dropout(0.5))\n",
    "    model.add(Dense(512))\n",
    "    model.add(Dropout(0.5))\n",
    "    model.add(Dense(len(all_labels), activation = 'sigmoid'))\n",
    "    return model\n",
    "def MakeModel3(queues,IMG_SIZE, bs, channels=1):\n",
    "    model = Sequential()\n",
    "    base_mobilenet_model = MobileNet(input_shape =  (*IMG_SIZE, channels), #Need to define the shape here from IMG_SIZE\n",
    "                                 include_top = False, weights = None)\n",
    "    model.add(base_mobilenet_model)\n",
    "    model.add(GlobalAveragePooling2D())\n",
    "    model.add(Dropout(0.5))\n",
    "    model.add(Dense(512,kernel_initializer=initializer))\n",
    "    model.add(Dropout(0.5))\n",
    "    model.add(Dense(queues, activation = 'softmax',kernel_regularizer=tf.keras.regularizers.l1(0.01),\n",
    "                              activity_regularizer=tf.keras.regularizers.l2(0.01),kernel_initializer=initializer))\n",
    "    return model"
   ]
  },
  {
   "cell_type": "code",
   "execution_count": 53,
   "metadata": {},
   "outputs": [
    {
     "name": "stderr",
     "output_type": "stream",
     "text": [
      "/home/ubuntu/anaconda3/lib/python3.7/site-packages/ipykernel_launcher.py:2: SettingWithCopyWarning: \n",
      "A value is trying to be set on a copy of a slice from a DataFrame.\n",
      "Try using .loc[row_indexer,col_indexer] = value instead\n",
      "\n",
      "See the caveats in the documentation: http://pandas.pydata.org/pandas-docs/stable/indexing.html#indexing-view-versus-copy\n",
      "  \n",
      "/home/ubuntu/anaconda3/lib/python3.7/site-packages/ipykernel_launcher.py:3: SettingWithCopyWarning: \n",
      "A value is trying to be set on a copy of a slice from a DataFrame.\n",
      "Try using .loc[row_indexer,col_indexer] = value instead\n",
      "\n",
      "See the caveats in the documentation: http://pandas.pydata.org/pandas-docs/stable/indexing.html#indexing-view-versus-copy\n",
      "  This is separate from the ipykernel package so we can avoid doing imports until\n"
     ]
    }
   ],
   "source": [
    "train_df['Type']=train_df['Type'].astype(str)\n",
    "valid_df['Type']=valid_df['Type'].astype(str)\n",
    "test_df['Type']=test_df['Type'].astype(str)"
   ]
  },
  {
   "cell_type": "code",
   "execution_count": 54,
   "metadata": {},
   "outputs": [],
   "source": [
    "class_labels=[str(X) for X in range(1,types+1)]"
   ]
  },
  {
   "cell_type": "code",
   "execution_count": 55,
   "metadata": {},
   "outputs": [
    {
     "data": {
      "text/plain": [
       "['1', '2', '3', '4', '5', '6', '7', '8', '9', '10', '11', '12', '13', '14']"
      ]
     },
     "execution_count": 55,
     "metadata": {},
     "output_type": "execute_result"
    }
   ],
   "source": [
    "class_labels"
   ]
  },
  {
   "cell_type": "code",
   "execution_count": 56,
   "metadata": {},
   "outputs": [
    {
     "name": "stdout",
     "output_type": "stream",
     "text": [
      "Found 383180 validated image filenames belonging to 14 classes.\n",
      "Found 25530 validated image filenames belonging to 14 classes.\n"
     ]
    }
   ],
   "source": [
    "lr = 0.0005\n",
    "syntheticBatch = 256\n",
    "imageSize = (512, 512)\n",
    "colorMode = 'rgb'\n",
    "channels = 3\n",
    "batchSize = 32\n",
    "batch = int(256 / batchSize)\n",
    "STEPS_PER_EPOCH = 1000\n",
    "EPOCHS = 100\n",
    "from tensorflow.keras.callbacks import ModelCheckpoint, LearningRateScheduler, EarlyStopping, ReduceLROnPlateau\n",
    "weight_path=\"{}_weights.best.direct_r_1.5_rho_0.90.january_2022.hdf5\".format('xray_class')\n",
    "checkpoint = ModelCheckpoint(weight_path, monitor='val_loss', verbose=1, \n",
    "                             save_best_only=True, mode='min', save_weights_only = True)\n",
    "\n",
    "early = EarlyStopping(monitor=\"val_loss\", \n",
    "                      mode=\"min\", \n",
    "                      patience=5)\n",
    "callbacks_list = [checkpoint, early]\n",
    "\n",
    "\n",
    "train_gen = core_idg.flow_from_dataframe(dataframe=train_df, \n",
    "                         directory=None,\n",
    "                         x_col = 'path',\n",
    "                        y_col = 'Type', \n",
    "                        class_mode = 'categorical',\n",
    "                        classes=class_labels,\n",
    "                        target_size = imageSize,\n",
    "                         color_mode = colorMode,\n",
    "                        batch_size = batchSize)\n",
    "\n",
    "valid_gen = core_idg.flow_from_dataframe(dataframe=valid_df, \n",
    "                         directory=None,\n",
    "                         x_col = 'path',\n",
    "                        y_col = 'Type', \n",
    "                        class_mode = 'categorical',\n",
    "                        classes=class_labels,\n",
    "                        target_size = imageSize,\n",
    "                         color_mode = colorMode,\n",
    "                        batch_size = batchSize) # we can use much larger batches for evaluation\n",
    "\n",
    "opt = tensorflow.keras.optimizers.Adam(\n",
    "    learning_rate=lr,\n",
    "    beta_1=0.9,\n",
    "    beta_2=0.999,\n",
    "    epsilon=1e-07,\n",
    "    amsgrad=False,\n",
    "    name=\"Adam\"\n",
    ")"
   ]
  },
  {
   "cell_type": "code",
   "execution_count": 57,
   "metadata": {},
   "outputs": [
    {
     "data": {
      "text/plain": [
       "48"
      ]
     },
     "execution_count": 57,
     "metadata": {},
     "output_type": "execute_result"
    }
   ],
   "source": [
    "tf.keras.backend.clear_session()\n",
    "import gc\n",
    "gc.collect()"
   ]
  },
  {
   "cell_type": "code",
   "execution_count": 59,
   "metadata": {},
   "outputs": [],
   "source": [
    "multi_disease_model_p = MakeModel1(imageSize, batchSize, channels)\n",
    "multi_disease_model_p.load_weights(\"xray_class_weights.best.sequential.january_2022.hdf5\")\n",
    "multi_disease_model_p.add(Dense(queues, activation = 'softmax',kernel_initializer=initializer))"
   ]
  },
  {
   "cell_type": "code",
   "execution_count": null,
   "metadata": {},
   "outputs": [
    {
     "name": "stderr",
     "output_type": "stream",
     "text": [
      "/home/ubuntu/anaconda3/lib/python3.7/site-packages/tensorflow/python/keras/engine/training.py:1844: UserWarning: `Model.fit_generator` is deprecated and will be removed in a future version. Please use `Model.fit`, which supports generators.\n",
      "  warnings.warn('`Model.fit_generator` is deprecated and '\n"
     ]
    },
    {
     "name": "stdout",
     "output_type": "stream",
     "text": [
      "Epoch 1/30\n",
      "1000/1000 [==============================] - 4438s 4s/step - loss: 63.6288 - queue_loss_tensor: 63.6288 - val_loss: 28.2604 - val_queue_loss_tensor: 28.2582\n",
      "\n",
      "Epoch 00001: val_loss improved from inf to 28.26036, saving model to xray_class_weights.best.direct_r_1.5_rho_0.90.january_2022.hdf5\n",
      "Epoch 2/30\n",
      " 274/1000 [=======>......................] - ETA: 29:25 - loss: 50.2408 - queue_loss_tensor: 50.2408"
     ]
    }
   ],
   "source": [
    "multi_disease_model_p.compile(optimizer = opt, loss = queue_loss_tensor,\n",
    "       run_eagerly=True,metrics = queue_loss_tensor)\n",
    "history_p = multi_disease_model_p.fit_generator(train_gen,                           \n",
    "              validation_data = valid_gen, \n",
    "              steps_per_epoch=1000,                                  \n",
    "              epochs = 30, \n",
    "              callbacks = callbacks_list)"
   ]
  },
  {
   "cell_type": "code",
   "execution_count": null,
   "metadata": {},
   "outputs": [],
   "source": []
  },
  {
   "cell_type": "code",
   "execution_count": 61,
   "metadata": {},
   "outputs": [
    {
     "data": {
      "text/plain": [
       "{'loss': [57.8211555480957,\n",
       "  52.105953216552734,\n",
       "  51.10248565673828,\n",
       "  51.22709274291992,\n",
       "  55.698219299316406,\n",
       "  87.56475067138672,\n",
       "  68.38340759277344,\n",
       "  62.473297119140625],\n",
       " 'queue_loss_tensor': [57.8211555480957,\n",
       "  52.105953216552734,\n",
       "  51.10248565673828,\n",
       "  51.22709274291992,\n",
       "  55.698219299316406,\n",
       "  87.56475067138672,\n",
       "  68.38340759277344,\n",
       "  62.473297119140625],\n",
       " 'val_loss': [28.260364532470703,\n",
       "  31.395292282104492,\n",
       "  27.356199264526367,\n",
       "  28.94000244140625,\n",
       "  30.697481155395508,\n",
       "  32.1657829284668,\n",
       "  28.74149513244629,\n",
       "  33.553375244140625],\n",
       " 'val_queue_loss_tensor': [28.25823402404785,\n",
       "  31.394208908081055,\n",
       "  27.357437133789062,\n",
       "  28.937000274658203,\n",
       "  30.695724487304688,\n",
       "  32.16362380981445,\n",
       "  28.740875244140625,\n",
       "  33.5489616394043]}"
      ]
     },
     "execution_count": 61,
     "metadata": {},
     "output_type": "execute_result"
    }
   ],
   "source": [
    "history_p.history"
   ]
  },
  {
   "cell_type": "code",
   "execution_count": 119,
   "metadata": {},
   "outputs": [],
   "source": [
    "multi_disease_model_p.load_weights(\"xray_class_weights.best.direct_r_1.5_rho_0.90.january_2022.hdf5\")"
   ]
  },
  {
   "cell_type": "code",
   "execution_count": 120,
   "metadata": {},
   "outputs": [
    {
     "data": {
      "text/plain": [
       "(25530, 32)"
      ]
     },
     "execution_count": 120,
     "metadata": {},
     "output_type": "execute_result"
    }
   ],
   "source": [
    "test_df.shape"
   ]
  },
  {
   "cell_type": "code",
   "execution_count": 122,
   "metadata": {},
   "outputs": [
    {
     "name": "stdout",
     "output_type": "stream",
     "text": [
      "Found 25530 validated image filenames belonging to 14 classes.\n"
     ]
    }
   ],
   "source": [
    "test_X, test_Y = next(core_idg.flow_from_dataframe(dataframe=test_df, \n",
    "                             directory=None,\n",
    "                             x_col = 'path',\n",
    "                            y_col = 'Type', \n",
    "                             class_mode = 'categorical',\n",
    "                            classes = class_labels,\n",
    "                            target_size = imageSize,\n",
    "                             color_mode = colorMode,\n",
    "                            batch_size = 2000))"
   ]
  },
  {
   "cell_type": "code",
   "execution_count": 123,
   "metadata": {},
   "outputs": [
    {
     "name": "stdout",
     "output_type": "stream",
     "text": [
      "63/63 [==============================] - 18s 288ms/step\n"
     ]
    }
   ],
   "source": [
    "pred_Y = multi_disease_model_p.predict(test_X, batch_size = 32, verbose = True)"
   ]
  },
  {
   "cell_type": "code",
   "execution_count": 124,
   "metadata": {},
   "outputs": [],
   "source": [
    "pred_Y = tf.one_hot(tf.argmax(np.array(pred_Y),axis=1), depth = 4)\n",
    "pmat=np.dot(np.transpose(test_Y),pred_Y)"
   ]
  },
  {
   "cell_type": "code",
   "execution_count": 125,
   "metadata": {},
   "outputs": [],
   "source": [
    "pmat_direct_r_1_8_rho_0_9=pmat/pmat.sum(axis=1,keepdims=True)"
   ]
  },
  {
   "cell_type": "code",
   "execution_count": 126,
   "metadata": {},
   "outputs": [
    {
     "data": {
      "text/plain": [
       "array([[0.        , 0.8217822 , 0.12871288, 0.04950495],\n",
       "       [0.        , 0.68      , 0.24      , 0.08      ],\n",
       "       [0.        , 0.90909094, 0.09090909, 0.        ],\n",
       "       [0.        , 0.64705884, 0.29411766, 0.05882353],\n",
       "       [0.        , 0.71153843, 0.1923077 , 0.09615385],\n",
       "       [0.        , 0.59884834, 0.30038387, 0.10076775],\n",
       "       [0.        , 0.8333333 , 0.16666667, 0.        ],\n",
       "       [0.        , 0.61538464, 0.34615386, 0.03846154],\n",
       "       [0.        , 0.47826087, 0.36956522, 0.1521739 ],\n",
       "       [0.        , 0.65822786, 0.278481  , 0.06329114],\n",
       "       [0.        , 0.72282606, 0.2173913 , 0.05978261],\n",
       "       [0.        , 0.65163934, 0.2704918 , 0.07786885],\n",
       "       [0.        , 0.53125   , 0.39583334, 0.07291666],\n",
       "       [0.        , 0.        , 0.47368422, 0.5263158 ]], dtype=float32)"
      ]
     },
     "execution_count": 126,
     "metadata": {},
     "output_type": "execute_result"
    }
   ],
   "source": [
    "pmat_direct_r_1_8_rho_0_9"
   ]
  },
  {
   "cell_type": "code",
   "execution_count": 127,
   "metadata": {},
   "outputs": [],
   "source": [
    "def queue_wait_cost(pmat,costs,arrivals,service):\n",
    "    clambda = costs*arrivals\n",
    "    rho = arrivals/service\n",
    "    clambda_pmat = np.matmul(clambda,pmat)\n",
    "    rho_pmat = np.matmul(rho,pmat)\n",
    "    vec1=1-np.cumsum(rho_pmat)\n",
    "    vec2=np.roll(1-np.cumsum(rho_pmat),1)\n",
    "    vec2[0]=1\n",
    "    denom = (1/vec1)*(1/vec2)\n",
    "    return sum(clambda_pmat*denom)"
   ]
  },
  {
   "cell_type": "code",
   "execution_count": 128,
   "metadata": {},
   "outputs": [
    {
     "data": {
      "text/plain": [
       "508.64066620833864"
      ]
     },
     "execution_count": 128,
     "metadata": {},
     "output_type": "execute_result"
    }
   ],
   "source": [
    "queue_wait_cost(pmat_direct_r_1_8_rho_0_9,get_costs_types(1.5),get_arrival_rates_types(all_xray_df),get_service_rates_types(0.9))"
   ]
  },
  {
   "cell_type": "code",
   "execution_count": 129,
   "metadata": {},
   "outputs": [],
   "source": [
    "del multi_disease_model_p"
   ]
  },
  {
   "cell_type": "code",
   "execution_count": null,
   "metadata": {},
   "outputs": [],
   "source": []
  }
 ],
 "metadata": {
  "kernelspec": {
   "display_name": "Python 3",
   "language": "python",
   "name": "python3"
  },
  "language_info": {
   "codemirror_mode": {
    "name": "ipython",
    "version": 3
   },
   "file_extension": ".py",
   "mimetype": "text/x-python",
   "name": "python",
   "nbconvert_exporter": "python",
   "pygments_lexer": "ipython3",
   "version": "3.7.10"
  }
 },
 "nbformat": 4,
 "nbformat_minor": 1
}
